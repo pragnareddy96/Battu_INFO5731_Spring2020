{
  "nbformat": 4,
  "nbformat_minor": 0,
  "metadata": {
    "colab": {
      "name": "Untitled5.ipynb",
      "provenance": [],
      "authorship_tag": "ABX9TyOK0zQ1ncpVUeWjCFmk112i",
      "include_colab_link": true
    },
    "kernelspec": {
      "name": "python3",
      "display_name": "Python 3"
    }
  },
  "cells": [
    {
      "cell_type": "markdown",
      "metadata": {
        "id": "view-in-github",
        "colab_type": "text"
      },
      "source": [
        "<a href=\"https://colab.research.google.com/github/pragnareddy96/Battu_INFO5731_Spring2020/blob/master/Assignment1.ipynb\" target=\"_parent\"><img src=\"https://colab.research.google.com/assets/colab-badge.svg\" alt=\"Open In Colab\"/></a>"
      ]
    },
    {
      "cell_type": "code",
      "metadata": {
        "id": "FomMFu0EwoEX",
        "colab_type": "code",
        "outputId": "fcc77db8-0dbf-4d5e-ae6d-360996a7d4ed",
        "colab": {
          "base_uri": "https://localhost:8080/",
          "height": 34
        }
      },
      "source": [
        "#Write a Python program to generate 12 random numbers between 1 and 100.#\n",
        "\n",
        "\n",
        "import random \n",
        "  \n",
        "\n",
        "\n",
        "def Rand(start, end, num): \n",
        "    res = [] \n",
        "  \n",
        "    for j in range(num): \n",
        "        res.append(random.randint(start, end)) \n",
        "  \n",
        "    return res \n",
        "  \n",
        " \n",
        "num = 12\n",
        "start = 1\n",
        "end = 100\n",
        "print(Rand(start, end, num)) \n",
        "\n",
        "\n"
      ],
      "execution_count": 0,
      "outputs": [
        {
          "output_type": "stream",
          "text": [
            "[88, 73, 4, 76, 6, 90, 1, 65, 21, 95, 22, 4]\n"
          ],
          "name": "stdout"
        }
      ]
    },
    {
      "cell_type": "code",
      "metadata": {
        "id": "M3axKnAxyAbq",
        "colab_type": "code",
        "outputId": "f331d5aa-919d-4db1-d522-9c84129f180e",
        "colab": {
          "base_uri": "https://localhost:8080/",
          "height": 34
        }
      },
      "source": [
        "#Sort the list of numbers in ascending order and print it out.#\n",
        "numbers = [88, 73, 4, 76, 6, 90, 1, 65, 21, 95, 22, 4] \n",
        "numbers.sort() \n",
        "  \n",
        "print(numbers)  "
      ],
      "execution_count": 0,
      "outputs": [
        {
          "output_type": "stream",
          "text": [
            "[1, 4, 4, 6, 21, 22, 65, 73, 76, 88, 90, 95]\n"
          ],
          "name": "stdout"
        }
      ]
    },
    {
      "cell_type": "code",
      "metadata": {
        "id": "KgPt6bZY1nRX",
        "colab_type": "code",
        "outputId": "e8fef01e-da53-41d4-ab2b-5272e039da27",
        "colab": {
          "base_uri": "https://localhost:8080/",
          "height": 34
        }
      },
      "source": [
        "#Sort the list of numbers in descending order and print it out.#\n",
        "numbers = [88, 73, 4, 76, 6, 90, 1, 65, 21, 95, 22, 4] \n",
        "  \n",
        "\n",
        "numbers.sort(reverse = True) \n",
        "  \n",
        "print(numbers) "
      ],
      "execution_count": 0,
      "outputs": [
        {
          "output_type": "stream",
          "text": [
            "[95, 90, 88, 76, 73, 65, 22, 21, 6, 4, 4, 1]\n"
          ],
          "name": "stdout"
        }
      ]
    },
    {
      "cell_type": "code",
      "metadata": {
        "id": "_rqC-26u16lY",
        "colab_type": "code",
        "colab": {}
      },
      "source": [
        ""
      ],
      "execution_count": 0,
      "outputs": []
    },
    {
      "cell_type": "code",
      "metadata": {
        "id": "uqx2pAr72FUr",
        "colab_type": "code",
        "outputId": "3be0a007-744d-442f-a88a-48946af9c3d3",
        "colab": {
          "base_uri": "https://localhost:8080/",
          "height": 34
        }
      },
      "source": [
        "#Calculate the average for the group and print it out.#\n",
        " \n",
        "def Average(lst): \n",
        "    return sum(lst) / len(lst) \n",
        "  \n",
        " \n",
        "lst = [88, 73, 4, 76, 6, 90, 1, 65, 21, 95, 22, 4] \n",
        "average = Average(lst) \n",
        "\n",
        "print(\"Average of the group =\", round(average, 2)) \n"
      ],
      "execution_count": 0,
      "outputs": [
        {
          "output_type": "stream",
          "text": [
            "Average of the group = 45.42\n"
          ],
          "name": "stdout"
        }
      ]
    },
    {
      "cell_type": "code",
      "metadata": {
        "colab_type": "code",
        "outputId": "f9452e22-47a0-478a-c13a-c8aa5bae46ff",
        "id": "f_-_k7yFztjk",
        "colab": {
          "base_uri": "https://localhost:8080/",
          "height": 187
        }
      },
      "source": [
        "#3 question#\n",
        "import math\n",
        "print(\"r v\")\n",
        "for i in range(1,10):\n",
        "  print(i,((4/3)*3.14*i**3))"
      ],
      "execution_count": 3,
      "outputs": [
        {
          "output_type": "stream",
          "text": [
            "r v\n",
            "1 4.1866666666666665\n",
            "2 33.49333333333333\n",
            "3 113.03999999999999\n",
            "4 267.94666666666666\n",
            "5 523.3333333333334\n",
            "6 904.3199999999999\n",
            "7 1436.0266666666666\n",
            "8 2143.5733333333333\n",
            "9 3052.08\n"
          ],
          "name": "stdout"
        }
      ]
    },
    {
      "cell_type": "code",
      "metadata": {
        "id": "VzZA8Q2m1zVz",
        "colab_type": "code",
        "colab": {
          "base_uri": "https://localhost:8080/",
          "height": 153
        },
        "outputId": "114db0e3-269a-43d8-b885-8ad30646e4cb"
      },
      "source": [
        "# question 2\n",
        "import sys\n",
        "import string\n",
        "import re\n",
        "\n",
        "\n",
        "sentence1=input(\"Enter the first sentence :\")\n",
        "sentence2=input(\"Enter the second sentence :\")\n",
        "\n",
        "\n",
        "lst1=re.findall(r\"[\\w']+|[!\\\"#$%&'()*+,-./:;<=>?@[\\]^_`{|}~]\", sentence1)\n",
        "lst2=re.findall(r\"[\\w']+|[!\\\"#$%&'()*+,-./:;<=>?@[\\]^_`{|}~]\", sentence2)\n",
        "print(\"Sentence 1 words :\",lst1)\n",
        "print(\"Sentence 2 words :\",re.findall(r\"[\\w']+|[!\\\"#$%&'()*+,-./:;<=>?@[\\]^_`{|}~]\", sentence2))\n",
        "\n",
        "\n",
        "print(list(set([word.lower() for word in lst1]) & set([word.lower() for word in lst2])))\n",
        "\n",
        "\n",
        "print([word.strip(string.punctuation) for word in sentence1.split()])\n",
        "print([word2.strip(string.punctuation) for word2 in sentence2.split()])\n",
        "\n",
        "\n",
        "print(\"a:\",(sentence1.lower().count('a')+sentence2.lower().count('a')),\",e:\",(sentence1.lower().count('e')+sentence2.lower().count('e')),\"i:\",(sentence1.lower().count('i')+sentence2.lower().count('i')),\"o:\",(sentence1.lower().count('o')+sentence2.lower().count('o')),\"u:\",(sentence1.lower().count('u')+sentence2.lower().count('u')))"
      ],
      "execution_count": 7,
      "outputs": [
        {
          "output_type": "stream",
          "text": [
            "Enter the first sentence :hey hello \n",
            "Enter the second sentence :good morning \n",
            "Sentence 1 words : ['hey', 'hello']\n",
            "Sentence 2 words : ['good', 'morning']\n",
            "[]\n",
            "['hey', 'hello']\n",
            "['good', 'morning']\n",
            "a: 0 ,e: 2 i: 1 o: 4 u: 0\n"
          ],
          "name": "stdout"
        }
      ]
    },
    {
      "cell_type": "code",
      "metadata": {
        "id": "y2VOUgPS6gV1",
        "colab_type": "code",
        "colab": {
          "base_uri": "https://localhost:8080/",
          "height": 306
        },
        "outputId": "6e7130f3-5f2d-4d6e-ad0d-acb933ba76af"
      },
      "source": [
        "# question 4#\n",
        "import pandas as pd\n",
        "import math\n",
        "url = 'https://raw.githubusercontent.com/unt-iialab/INFO5731_Spring2020/master/Assignments/Assignment1_denton_housing.csv'\n",
        "df = pd.read_csv(url, error_bad_lines=False)\n",
        "\n",
        "\n",
        "rows=df.loc[df['title_field']=='Occupied Housing Units']\n",
        "rows=rows.values.tolist()\n",
        "lst=[]\n",
        "for i in range(len(rows)-1,0,-1):\n",
        "    print(rows[i][0],\"-\",rows[i-1][0],\":\",(rows[i][2]-rows[i-1][2]))\n",
        "    lst.append((rows[i][2]-rows[i-1][2]))\n",
        "lst.sort(reverse=False)\n",
        "print(lst)\n",
        "\n",
        "\n",
        "\n",
        "\n",
        "ohu=dict()\n",
        "vhu=dict()\n",
        "thu=dict()\n",
        "    \n",
        "newrows=df.loc[(df['title_field']=='Vacant Housing Units') | (df['title_field']=='Occupied Housing Units') | (df['title_field']== 'Total Housing Units')]\n",
        "newrows=newrows.sort_values(['year','title_field'],ascending=[1,0]).values.tolist()\n",
        "count=0\n",
        "for i in range(len(rows)):\n",
        "    thu[newrows[i+count+1][0]]=newrows[i+count+1][2]\n",
        "    vhu[newrows[i+count][0]]=newrows[i+count][2]\n",
        "    ohu[newrows[i+count+2][0]]=newrows[i+count+2][2]\n",
        "    print(newrows[i+count][0],\":\",((newrows[i+count][2]/newrows[i+count+1][2])*100),((newrows[i+count+2][2]/newrows[i+count+1][2])*100))\n",
        "    count=count+2\n",
        "\n",
        "\n",
        "vhukey= max(vhu, key=lambda k: vhu[k])\n",
        "ohukey= max(ohu, key=lambda k: ohu[k])\n",
        "print(\"Vacant Housing Units :\",vhukey,vhu[vhukey])\n",
        "print(\"Occupied Housing Units :\",ohukey,vhu[ohukey])\n",
        "    \n",
        "\n",
        "\n",
        "denomi=0\n",
        "for value in thu.values():\n",
        "    denomi=denomi+(1/value)\n",
        "print(\"Harmonic Mean of the Total Housing Units :\",(len(thu.values())/denomi))"
      ],
      "execution_count": 18,
      "outputs": [
        {
          "output_type": "stream",
          "text": [
            "2008 - 2009 : 795\n",
            "2009 - 2010 : -5091\n",
            "2010 - 2011 : 303\n",
            "2011 - 2012 : -1404\n",
            "2012 - 2013 : -1565\n",
            "2013 - 2014 : -2622\n",
            "[-5091, -2622, -1565, -1404, 303, 795]\n",
            "2008 : 10.88265281351653 89.11734718648347\n",
            "2009 : 9.07111572444872 90.92888427555128\n",
            "2010 : 8.142556337081672 91.85744366291833\n",
            "2011 : 9.379522229890688 90.6204777701093\n",
            "2012 : 6.677600230491346 93.32239976950866\n",
            "2013 : 8.801787504176412 91.19821249582358\n",
            "2014 : 5.730110570363885 94.26988942963611\n",
            "Vacant Housing Units : 2008 4483\n",
            "Occupied Housing Units : 2014 2814\n",
            "Harmonic Mean of the Total Housing Units : 44398.28543969185\n"
          ],
          "name": "stdout"
        }
      ]
    }
  ]
}