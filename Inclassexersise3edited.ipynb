{
  "nbformat": 4,
  "nbformat_minor": 0,
  "metadata": {
    "colab": {
      "name": "Untitled10.ipynb",
      "provenance": [],
      "authorship_tag": "ABX9TyPrlIP/W/fIVm3CFEhe76U4",
      "include_colab_link": true
    },
    "kernelspec": {
      "name": "python3",
      "display_name": "Python 3"
    }
  },
  "cells": [
    {
      "cell_type": "markdown",
      "metadata": {
        "id": "view-in-github",
        "colab_type": "text"
      },
      "source": [
        "<a href=\"https://colab.research.google.com/github/pragnareddy96/Battu_INFO5731_Spring2020/blob/master/Inclassexersise3edited.ipynb\" target=\"_parent\"><img src=\"https://colab.research.google.com/assets/colab-badge.svg\" alt=\"Open In Colab\"/></a>"
      ]
    },
    {
      "cell_type": "code",
      "metadata": {
        "id": "0mjMl1IAbVq7",
        "colab_type": "code",
        "colab": {
          "base_uri": "https://localhost:8080/",
          "height": 343
        },
        "outputId": "e47b63a8-a519-4b00-d699-8c18458bbf71"
      },
      "source": [
        "\n",
        "import requests\n",
        "from bs4 import BeautifulSoup\n",
        "page = requests.get(\"https://forecast.weather.gov/MapClick.php?lat=33.2166&lon=-97.1316#.Xkrct5JKhdg\") #downloaded the webpage containing the forecast#\n",
        "soup = BeautifulSoup(page.content, 'html.parser') # created BeautifulSoup to parse the page\n",
        "seven_day = soup.find(id=\"seven-day-forecast\")   # finding the div with id seven-day-forecast and assign to seven_day\n",
        "forecast_list = seven_day.find_all(class_=\"tombstone-container\") #finding each individual item in seven_day\n",
        "tonight = forecast_list[1] #extracting and printing the first item \n",
        "print(tonight.prettify())\n"
      ],
      "execution_count": 49,
      "outputs": [
        {
          "output_type": "stream",
          "text": [
            "<div class=\"tombstone-container\">\n",
            " <p class=\"period-name\">\n",
            "  Tonight\n",
            "  <br/>\n",
            "  <br/>\n",
            " </p>\n",
            " <p>\n",
            "  <img alt=\"Tonight: Increasing clouds, with a low around 49. North northeast wind 5 to 10 mph. \" class=\"forecast-icon\" src=\"newimages/medium/nbkn.png\" title=\"Tonight: Increasing clouds, with a low around 49. North northeast wind 5 to 10 mph. \"/>\n",
            " </p>\n",
            " <p class=\"short-desc\">\n",
            "  Increasing\n",
            "  <br/>\n",
            "  Clouds\n",
            " </p>\n",
            " <p class=\"temp temp-low\">\n",
            "  Low: 49 °F\n",
            " </p>\n",
            "</div>\n"
          ],
          "name": "stdout"
        }
      ]
    },
    {
      "cell_type": "code",
      "metadata": {
        "id": "l0KPMzBEiDNv",
        "colab_type": "code",
        "colab": {
          "base_uri": "https://localhost:8080/",
          "height": 34
        },
        "outputId": "70d7bf78-8bf2-4213-e27c-2ddbe6a494f2"
      },
      "source": [
        "tonight = forecast_list[1]\n",
        "periodname = tonight.find(class_= \"period-name\").get_text()\n",
        "\n",
        "print(periodname)"
      ],
      "execution_count": 56,
      "outputs": [
        {
          "output_type": "stream",
          "text": [
            "Tonight\n"
          ],
          "name": "stdout"
        }
      ]
    },
    {
      "cell_type": "code",
      "metadata": {
        "id": "ioN5LUp8kFGJ",
        "colab_type": "code",
        "colab": {
          "base_uri": "https://localhost:8080/",
          "height": 34
        },
        "outputId": "31b6396f-e34d-427e-93e7-6f07b7c72afd"
      },
      "source": [
        "tonight = forecast_list[1]\n",
        "short_description = tonight.find(class_ = \"short-desc\")\n",
        "\n",
        "short_description.get_text()"
      ],
      "execution_count": 59,
      "outputs": [
        {
          "output_type": "execute_result",
          "data": {
            "text/plain": [
              "'IncreasingClouds'"
            ]
          },
          "metadata": {
            "tags": []
          },
          "execution_count": 59
        }
      ]
    },
    {
      "cell_type": "code",
      "metadata": {
        "id": "PV2Yeh6Qkwvh",
        "colab_type": "code",
        "colab": {
          "base_uri": "https://localhost:8080/",
          "height": 34
        },
        "outputId": "5258f891-d7fc-426c-fa26-bd7811ce5f80"
      },
      "source": [
        "tonight = forecast_list[1]\n",
        "temperature = tonight.find(class_=\"temp\")\n",
        "temperature.get_text()"
      ],
      "execution_count": 60,
      "outputs": [
        {
          "output_type": "execute_result",
          "data": {
            "text/plain": [
              "'Low: 49 °F'"
            ]
          },
          "metadata": {
            "tags": []
          },
          "execution_count": 60
        }
      ]
    },
    {
      "cell_type": "code",
      "metadata": {
        "id": "irO1RIaYlXsJ",
        "colab_type": "code",
        "colab": {
          "base_uri": "https://localhost:8080/",
          "height": 34
        },
        "outputId": "66236636-f9c1-4a58-802a-acc400190203"
      },
      "source": [
        "tonight = forecast_list[1]\n",
        "image = tonight.select(\"img\")[0]\n",
        "image[\"title\"]\n"
      ],
      "execution_count": 70,
      "outputs": [
        {
          "output_type": "execute_result",
          "data": {
            "text/plain": [
              "'Tonight: Increasing clouds, with a low around 49. North northeast wind 5 to 10 mph. '"
            ]
          },
          "metadata": {
            "tags": []
          },
          "execution_count": 70
        }
      ]
    },
    {
      "cell_type": "code",
      "metadata": {
        "id": "7p67yOnVoJNY",
        "colab_type": "code",
        "colab": {
          "base_uri": "https://localhost:8080/",
          "height": 836
        },
        "outputId": "a78f6141-6b6b-4eed-e7f3-a8edde25c298"
      },
      "source": [
        "seven_day.prettify"
      ],
      "execution_count": 72,
      "outputs": [
        {
          "output_type": "execute_result",
          "data": {
            "text/plain": [
              "<bound method Tag.prettify of <div class=\"panel panel-default\" id=\"seven-day-forecast\">\n",
              "<div class=\"panel-heading\">\n",
              "<b>Extended Forecast for</b>\n",
              "<h2 class=\"panel-title\">\n",
              "\t    \t    Denton TX\t</h2>\n",
              "</div>\n",
              "<div class=\"panel-body\" id=\"seven-day-forecast-body\">\n",
              "<div id=\"seven-day-forecast-container\"><ul class=\"list-unstyled\" id=\"seven-day-forecast-list\"><li class=\"forecast-tombstone\">\n",
              "<div class=\"tombstone-container\">\n",
              "<p class=\"period-name\">Washington's<br/>Birthday</p>\n",
              "<p><img alt=\"Washington's Birthday: Sunny, with a high near 79. South southwest wind 5 to 15 mph becoming west. Winds could gust as high as 20 mph. \" class=\"forecast-icon\" src=\"newimages/medium/few.png\" title=\"Washington's Birthday: Sunny, with a high near 79. South southwest wind 5 to 15 mph becoming west. Winds could gust as high as 20 mph. \"/></p><p class=\"short-desc\">Sunny</p><p class=\"temp temp-high\">High: 79 °F</p></div></li><li class=\"forecast-tombstone\">\n",
              "<div class=\"tombstone-container\">\n",
              "<p class=\"period-name\">Tonight<br/><br/></p>\n",
              "<p><img alt=\"Tonight: Increasing clouds, with a low around 49. North northeast wind 5 to 10 mph. \" class=\"forecast-icon\" src=\"newimages/medium/nbkn.png\" title=\"Tonight: Increasing clouds, with a low around 49. North northeast wind 5 to 10 mph. \"/></p><p class=\"short-desc\">Increasing<br/>Clouds</p><p class=\"temp temp-low\">Low: 49 °F</p></div></li><li class=\"forecast-tombstone\">\n",
              "<div class=\"tombstone-container\">\n",
              "<p class=\"period-name\">Tuesday<br/><br/></p>\n",
              "<p><img alt=\"Tuesday: A 30 percent chance of showers, mainly between 9am and 3pm.  Cloudy, with a high near 53. North wind 10 to 15 mph, with gusts as high as 25 mph. \" class=\"forecast-icon\" src=\"newimages/medium/shra30.png\" title=\"Tuesday: A 30 percent chance of showers, mainly between 9am and 3pm.  Cloudy, with a high near 53. North wind 10 to 15 mph, with gusts as high as 25 mph. \"/></p><p class=\"short-desc\">Chance<br/>Showers</p><p class=\"temp temp-high\">High: 53 °F</p></div></li><li class=\"forecast-tombstone\">\n",
              "<div class=\"tombstone-container\">\n",
              "<p class=\"period-name\">Tuesday<br/>Night</p>\n",
              "<p><img alt=\"Tuesday Night: Mostly cloudy, with a low around 40. North northeast wind 10 to 15 mph, with gusts as high as 25 mph. \" class=\"forecast-icon\" src=\"newimages/medium/nbkn.png\" title=\"Tuesday Night: Mostly cloudy, with a low around 40. North northeast wind 10 to 15 mph, with gusts as high as 25 mph. \"/></p><p class=\"short-desc\">Mostly Cloudy</p><p class=\"temp temp-low\">Low: 40 °F</p></div></li><li class=\"forecast-tombstone\">\n",
              "<div class=\"tombstone-container\">\n",
              "<p class=\"period-name\">Wednesday<br/><br/></p>\n",
              "<p><img alt=\"Wednesday: A 40 percent chance of rain, mainly after noon.  Mostly cloudy, with a high near 53. East northeast wind 10 to 15 mph. \" class=\"forecast-icon\" src=\"newimages/medium/ra40.png\" title=\"Wednesday: A 40 percent chance of rain, mainly after noon.  Mostly cloudy, with a high near 53. East northeast wind 10 to 15 mph. \"/></p><p class=\"short-desc\">Chance Rain</p><p class=\"temp temp-high\">High: 53 °F</p></div></li><li class=\"forecast-tombstone\">\n",
              "<div class=\"tombstone-container\">\n",
              "<p class=\"period-name\">Wednesday<br/>Night</p>\n",
              "<p><img alt=\"Wednesday Night: Rain likely.  Cloudy, with a low around 39. East northeast wind 10 to 15 mph.  Chance of precipitation is 60%.\" class=\"forecast-icon\" src=\"newimages/medium/nra60.png\" title=\"Wednesday Night: Rain likely.  Cloudy, with a low around 39. East northeast wind 10 to 15 mph.  Chance of precipitation is 60%.\"/></p><p class=\"short-desc\">Rain Likely</p><p class=\"temp temp-low\">Low: 39 °F</p></div></li><li class=\"forecast-tombstone\">\n",
              "<div class=\"tombstone-container\">\n",
              "<p class=\"period-name\">Thursday<br/><br/></p>\n",
              "<p><img alt=\"Thursday: Mostly cloudy, with a high near 46. Northeast wind around 15 mph, with gusts as high as 20 mph. \" class=\"forecast-icon\" src=\"newimages/medium/bkn.png\" title=\"Thursday: Mostly cloudy, with a high near 46. Northeast wind around 15 mph, with gusts as high as 20 mph. \"/></p><p class=\"short-desc\">Mostly Cloudy</p><p class=\"temp temp-high\">High: 46 °F</p></div></li><li class=\"forecast-tombstone\">\n",
              "<div class=\"tombstone-container\">\n",
              "<p class=\"period-name\">Thursday<br/>Night</p>\n",
              "<p><img alt=\"Thursday Night: Partly cloudy, with a low around 32. North northeast wind 5 to 15 mph. \" class=\"forecast-icon\" src=\"newimages/medium/nsct.png\" title=\"Thursday Night: Partly cloudy, with a low around 32. North northeast wind 5 to 15 mph. \"/></p><p class=\"short-desc\">Partly Cloudy</p><p class=\"temp temp-low\">Low: 32 °F</p></div></li><li class=\"forecast-tombstone\">\n",
              "<div class=\"tombstone-container\">\n",
              "<p class=\"period-name\">Friday<br/><br/></p>\n",
              "<p><img alt=\"Friday: Mostly sunny, with a high near 50. East northeast wind around 5 mph becoming southeast in the afternoon. \" class=\"forecast-icon\" src=\"newimages/medium/sct.png\" title=\"Friday: Mostly sunny, with a high near 50. East northeast wind around 5 mph becoming southeast in the afternoon. \"/></p><p class=\"short-desc\">Mostly Sunny</p><p class=\"temp temp-high\">High: 50 °F</p></div></li></ul></div>\n",
              "<script type=\"text/javascript\">\n",
              "// equalize forecast heights\n",
              "$(function () {\n",
              "\tvar maxh = 0;\n",
              "\t$(\".forecast-tombstone .short-desc\").each(function () {\n",
              "\t\tvar h = $(this).height();\n",
              "\t\tif (h > maxh) { maxh = h; }\n",
              "\t});\n",
              "\t$(\".forecast-tombstone .short-desc\").height(maxh);\n",
              "});\n",
              "</script> </div>\n",
              "</div>>"
            ]
          },
          "metadata": {
            "tags": []
          },
          "execution_count": 72
        }
      ]
    },
    {
      "cell_type": "code",
      "metadata": {
        "id": "69SEzZA_oO5A",
        "colab_type": "code",
        "colab": {
          "base_uri": "https://localhost:8080/",
          "height": 207
        },
        "outputId": "f00dbfa7-feb6-4c05-eeee-151464983f61"
      },
      "source": [
        "period_tags = seven_day.select(\".tombstone-container .period-name\")\n",
        "\n",
        "print(period_tags)\n",
        "periods =[pn.get_text() for pn in period_tags]\n",
        "\n",
        "periods"
      ],
      "execution_count": 75,
      "outputs": [
        {
          "output_type": "stream",
          "text": [
            "[<p class=\"period-name\">Washington's<br/>Birthday</p>, <p class=\"period-name\">Tonight<br/><br/></p>, <p class=\"period-name\">Tuesday<br/><br/></p>, <p class=\"period-name\">Tuesday<br/>Night</p>, <p class=\"period-name\">Wednesday<br/><br/></p>, <p class=\"period-name\">Wednesday<br/>Night</p>, <p class=\"period-name\">Thursday<br/><br/></p>, <p class=\"period-name\">Thursday<br/>Night</p>, <p class=\"period-name\">Friday<br/><br/></p>]\n"
          ],
          "name": "stdout"
        },
        {
          "output_type": "execute_result",
          "data": {
            "text/plain": [
              "[\"Washington'sBirthday\",\n",
              " 'Tonight',\n",
              " 'Tuesday',\n",
              " 'TuesdayNight',\n",
              " 'Wednesday',\n",
              " 'WednesdayNight',\n",
              " 'Thursday',\n",
              " 'ThursdayNight',\n",
              " 'Friday']"
            ]
          },
          "metadata": {
            "tags": []
          },
          "execution_count": 75
        }
      ]
    },
    {
      "cell_type": "code",
      "metadata": {
        "id": "P94c3icMpBhV",
        "colab_type": "code",
        "colab": {
          "base_uri": "https://localhost:8080/",
          "height": 207
        },
        "outputId": "68aabf3e-442b-4a7b-e412-51fbb0bf709b"
      },
      "source": [
        "short_desc_tags = seven_day.select(\".tombstone-container .short-desc\")\n",
        "\n",
        "print(short_desc_tags)\n",
        "short_description = [pd.get_text() for pd in short_desc_tags]\n",
        "\n",
        "short_description"
      ],
      "execution_count": 77,
      "outputs": [
        {
          "output_type": "stream",
          "text": [
            "[<p class=\"short-desc\">Sunny</p>, <p class=\"short-desc\">Increasing<br/>Clouds</p>, <p class=\"short-desc\">Chance<br/>Showers</p>, <p class=\"short-desc\">Mostly Cloudy</p>, <p class=\"short-desc\">Chance Rain</p>, <p class=\"short-desc\">Rain Likely</p>, <p class=\"short-desc\">Mostly Cloudy</p>, <p class=\"short-desc\">Partly Cloudy</p>, <p class=\"short-desc\">Mostly Sunny</p>]\n"
          ],
          "name": "stdout"
        },
        {
          "output_type": "execute_result",
          "data": {
            "text/plain": [
              "['Sunny',\n",
              " 'IncreasingClouds',\n",
              " 'ChanceShowers',\n",
              " 'Mostly Cloudy',\n",
              " 'Chance Rain',\n",
              " 'Rain Likely',\n",
              " 'Mostly Cloudy',\n",
              " 'Partly Cloudy',\n",
              " 'Mostly Sunny']"
            ]
          },
          "metadata": {
            "tags": []
          },
          "execution_count": 77
        }
      ]
    },
    {
      "cell_type": "code",
      "metadata": {
        "id": "BvwQEL91oqlT",
        "colab_type": "code",
        "colab": {
          "base_uri": "https://localhost:8080/",
          "height": 207
        },
        "outputId": "53bf5caa-2796-429d-82c0-e6f74223417e"
      },
      "source": [
        "temp_tags = seven_day.select(\".tombstone-container .temp\")\n",
        "print(temp_tags)\n",
        "temp_description = [po.get_text() for po in temp_tags]\n",
        "temp_description"
      ],
      "execution_count": 79,
      "outputs": [
        {
          "output_type": "stream",
          "text": [
            "[<p class=\"temp temp-high\">High: 79 °F</p>, <p class=\"temp temp-low\">Low: 49 °F</p>, <p class=\"temp temp-high\">High: 53 °F</p>, <p class=\"temp temp-low\">Low: 40 °F</p>, <p class=\"temp temp-high\">High: 53 °F</p>, <p class=\"temp temp-low\">Low: 39 °F</p>, <p class=\"temp temp-high\">High: 46 °F</p>, <p class=\"temp temp-low\">Low: 32 °F</p>, <p class=\"temp temp-high\">High: 50 °F</p>]\n"
          ],
          "name": "stdout"
        },
        {
          "output_type": "execute_result",
          "data": {
            "text/plain": [
              "['High: 79 °F',\n",
              " 'Low: 49 °F',\n",
              " 'High: 53 °F',\n",
              " 'Low: 40 °F',\n",
              " 'High: 53 °F',\n",
              " 'Low: 39 °F',\n",
              " 'High: 46 °F',\n",
              " 'Low: 32 °F',\n",
              " 'High: 50 °F']"
            ]
          },
          "metadata": {
            "tags": []
          },
          "execution_count": 79
        }
      ]
    },
    {
      "cell_type": "code",
      "metadata": {
        "id": "iuOIMIAMqVlQ",
        "colab_type": "code",
        "colab": {
          "base_uri": "https://localhost:8080/",
          "height": 207
        },
        "outputId": "0b2ccf40-fe27-4d9d-9f02-fd4fea61ade8"
      },
      "source": [
        "image_tags = seven_day.select(\".tombstone-container img\")\n",
        "print(image_tags)\n",
        "image_description = [t[\"title\"] for t in image_tags]\n",
        "image_description"
      ],
      "execution_count": 80,
      "outputs": [
        {
          "output_type": "stream",
          "text": [
            "[<img alt=\"Washington's Birthday: Sunny, with a high near 79. South southwest wind 5 to 15 mph becoming west. Winds could gust as high as 20 mph. \" class=\"forecast-icon\" src=\"newimages/medium/few.png\" title=\"Washington's Birthday: Sunny, with a high near 79. South southwest wind 5 to 15 mph becoming west. Winds could gust as high as 20 mph. \"/>, <img alt=\"Tonight: Increasing clouds, with a low around 49. North northeast wind 5 to 10 mph. \" class=\"forecast-icon\" src=\"newimages/medium/nbkn.png\" title=\"Tonight: Increasing clouds, with a low around 49. North northeast wind 5 to 10 mph. \"/>, <img alt=\"Tuesday: A 30 percent chance of showers, mainly between 9am and 3pm.  Cloudy, with a high near 53. North wind 10 to 15 mph, with gusts as high as 25 mph. \" class=\"forecast-icon\" src=\"newimages/medium/shra30.png\" title=\"Tuesday: A 30 percent chance of showers, mainly between 9am and 3pm.  Cloudy, with a high near 53. North wind 10 to 15 mph, with gusts as high as 25 mph. \"/>, <img alt=\"Tuesday Night: Mostly cloudy, with a low around 40. North northeast wind 10 to 15 mph, with gusts as high as 25 mph. \" class=\"forecast-icon\" src=\"newimages/medium/nbkn.png\" title=\"Tuesday Night: Mostly cloudy, with a low around 40. North northeast wind 10 to 15 mph, with gusts as high as 25 mph. \"/>, <img alt=\"Wednesday: A 40 percent chance of rain, mainly after noon.  Mostly cloudy, with a high near 53. East northeast wind 10 to 15 mph. \" class=\"forecast-icon\" src=\"newimages/medium/ra40.png\" title=\"Wednesday: A 40 percent chance of rain, mainly after noon.  Mostly cloudy, with a high near 53. East northeast wind 10 to 15 mph. \"/>, <img alt=\"Wednesday Night: Rain likely.  Cloudy, with a low around 39. East northeast wind 10 to 15 mph.  Chance of precipitation is 60%.\" class=\"forecast-icon\" src=\"newimages/medium/nra60.png\" title=\"Wednesday Night: Rain likely.  Cloudy, with a low around 39. East northeast wind 10 to 15 mph.  Chance of precipitation is 60%.\"/>, <img alt=\"Thursday: Mostly cloudy, with a high near 46. Northeast wind around 15 mph, with gusts as high as 20 mph. \" class=\"forecast-icon\" src=\"newimages/medium/bkn.png\" title=\"Thursday: Mostly cloudy, with a high near 46. Northeast wind around 15 mph, with gusts as high as 20 mph. \"/>, <img alt=\"Thursday Night: Partly cloudy, with a low around 32. North northeast wind 5 to 15 mph. \" class=\"forecast-icon\" src=\"newimages/medium/nsct.png\" title=\"Thursday Night: Partly cloudy, with a low around 32. North northeast wind 5 to 15 mph. \"/>, <img alt=\"Friday: Mostly sunny, with a high near 50. East northeast wind around 5 mph becoming southeast in the afternoon. \" class=\"forecast-icon\" src=\"newimages/medium/sct.png\" title=\"Friday: Mostly sunny, with a high near 50. East northeast wind around 5 mph becoming southeast in the afternoon. \"/>]\n"
          ],
          "name": "stdout"
        },
        {
          "output_type": "execute_result",
          "data": {
            "text/plain": [
              "[\"Washington's Birthday: Sunny, with a high near 79. South southwest wind 5 to 15 mph becoming west. Winds could gust as high as 20 mph. \",\n",
              " 'Tonight: Increasing clouds, with a low around 49. North northeast wind 5 to 10 mph. ',\n",
              " 'Tuesday: A 30 percent chance of showers, mainly between 9am and 3pm.  Cloudy, with a high near 53. North wind 10 to 15 mph, with gusts as high as 25 mph. ',\n",
              " 'Tuesday Night: Mostly cloudy, with a low around 40. North northeast wind 10 to 15 mph, with gusts as high as 25 mph. ',\n",
              " 'Wednesday: A 40 percent chance of rain, mainly after noon.  Mostly cloudy, with a high near 53. East northeast wind 10 to 15 mph. ',\n",
              " 'Wednesday Night: Rain likely.  Cloudy, with a low around 39. East northeast wind 10 to 15 mph.  Chance of precipitation is 60%.',\n",
              " 'Thursday: Mostly cloudy, with a high near 46. Northeast wind around 15 mph, with gusts as high as 20 mph. ',\n",
              " 'Thursday Night: Partly cloudy, with a low around 32. North northeast wind 5 to 15 mph. ',\n",
              " 'Friday: Mostly sunny, with a high near 50. East northeast wind around 5 mph becoming southeast in the afternoon. ']"
            ]
          },
          "metadata": {
            "tags": []
          },
          "execution_count": 80
        }
      ]
    },
    {
      "cell_type": "code",
      "metadata": {
        "id": "zK1KwM6ar6IF",
        "colab_type": "code",
        "colab": {}
      },
      "source": [
        "import pandas as pd"
      ],
      "execution_count": 0,
      "outputs": []
    },
    {
      "cell_type": "code",
      "metadata": {
        "id": "s3OZA3FFsqYR",
        "colab_type": "code",
        "colab": {}
      },
      "source": [
        "Weather = pd.DataFrame( { \"periods\" : periods,\"short_description\" : short_description,\"temp_description\" : temp_description,\"image_description\" : image_description\n",
        "}\n",
        ")"
      ],
      "execution_count": 0,
      "outputs": []
    },
    {
      "cell_type": "code",
      "metadata": {
        "id": "-WJfA1ids4E0",
        "colab_type": "code",
        "colab": {
          "base_uri": "https://localhost:8080/",
          "height": 328
        },
        "outputId": "27123f37-e4b8-4f20-e465-e0f6a19883d1"
      },
      "source": [
        "Weather\n"
      ],
      "execution_count": 85,
      "outputs": [
        {
          "output_type": "execute_result",
          "data": {
            "text/html": [
              "<div>\n",
              "<style scoped>\n",
              "    .dataframe tbody tr th:only-of-type {\n",
              "        vertical-align: middle;\n",
              "    }\n",
              "\n",
              "    .dataframe tbody tr th {\n",
              "        vertical-align: top;\n",
              "    }\n",
              "\n",
              "    .dataframe thead th {\n",
              "        text-align: right;\n",
              "    }\n",
              "</style>\n",
              "<table border=\"1\" class=\"dataframe\">\n",
              "  <thead>\n",
              "    <tr style=\"text-align: right;\">\n",
              "      <th></th>\n",
              "      <th>periods</th>\n",
              "      <th>short_description</th>\n",
              "      <th>temp_description</th>\n",
              "      <th>image_description</th>\n",
              "    </tr>\n",
              "  </thead>\n",
              "  <tbody>\n",
              "    <tr>\n",
              "      <th>0</th>\n",
              "      <td>Washington'sBirthday</td>\n",
              "      <td>Sunny</td>\n",
              "      <td>High: 79 °F</td>\n",
              "      <td>Washington's Birthday: Sunny, with a high near...</td>\n",
              "    </tr>\n",
              "    <tr>\n",
              "      <th>1</th>\n",
              "      <td>Tonight</td>\n",
              "      <td>IncreasingClouds</td>\n",
              "      <td>Low: 49 °F</td>\n",
              "      <td>Tonight: Increasing clouds, with a low around ...</td>\n",
              "    </tr>\n",
              "    <tr>\n",
              "      <th>2</th>\n",
              "      <td>Tuesday</td>\n",
              "      <td>ChanceShowers</td>\n",
              "      <td>High: 53 °F</td>\n",
              "      <td>Tuesday: A 30 percent chance of showers, mainl...</td>\n",
              "    </tr>\n",
              "    <tr>\n",
              "      <th>3</th>\n",
              "      <td>TuesdayNight</td>\n",
              "      <td>Mostly Cloudy</td>\n",
              "      <td>Low: 40 °F</td>\n",
              "      <td>Tuesday Night: Mostly cloudy, with a low aroun...</td>\n",
              "    </tr>\n",
              "    <tr>\n",
              "      <th>4</th>\n",
              "      <td>Wednesday</td>\n",
              "      <td>Chance Rain</td>\n",
              "      <td>High: 53 °F</td>\n",
              "      <td>Wednesday: A 40 percent chance of rain, mainly...</td>\n",
              "    </tr>\n",
              "    <tr>\n",
              "      <th>5</th>\n",
              "      <td>WednesdayNight</td>\n",
              "      <td>Rain Likely</td>\n",
              "      <td>Low: 39 °F</td>\n",
              "      <td>Wednesday Night: Rain likely.  Cloudy, with a ...</td>\n",
              "    </tr>\n",
              "    <tr>\n",
              "      <th>6</th>\n",
              "      <td>Thursday</td>\n",
              "      <td>Mostly Cloudy</td>\n",
              "      <td>High: 46 °F</td>\n",
              "      <td>Thursday: Mostly cloudy, with a high near 46. ...</td>\n",
              "    </tr>\n",
              "    <tr>\n",
              "      <th>7</th>\n",
              "      <td>ThursdayNight</td>\n",
              "      <td>Partly Cloudy</td>\n",
              "      <td>Low: 32 °F</td>\n",
              "      <td>Thursday Night: Partly cloudy, with a low arou...</td>\n",
              "    </tr>\n",
              "    <tr>\n",
              "      <th>8</th>\n",
              "      <td>Friday</td>\n",
              "      <td>Mostly Sunny</td>\n",
              "      <td>High: 50 °F</td>\n",
              "      <td>Friday: Mostly sunny, with a high near 50. Eas...</td>\n",
              "    </tr>\n",
              "  </tbody>\n",
              "</table>\n",
              "</div>"
            ],
            "text/plain": [
              "                periods  ...                                  image_description\n",
              "0  Washington'sBirthday  ...  Washington's Birthday: Sunny, with a high near...\n",
              "1               Tonight  ...  Tonight: Increasing clouds, with a low around ...\n",
              "2               Tuesday  ...  Tuesday: A 30 percent chance of showers, mainl...\n",
              "3          TuesdayNight  ...  Tuesday Night: Mostly cloudy, with a low aroun...\n",
              "4             Wednesday  ...  Wednesday: A 40 percent chance of rain, mainly...\n",
              "5        WednesdayNight  ...  Wednesday Night: Rain likely.  Cloudy, with a ...\n",
              "6              Thursday  ...  Thursday: Mostly cloudy, with a high near 46. ...\n",
              "7         ThursdayNight  ...  Thursday Night: Partly cloudy, with a low arou...\n",
              "8                Friday  ...  Friday: Mostly sunny, with a high near 50. Eas...\n",
              "\n",
              "[9 rows x 4 columns]"
            ]
          },
          "metadata": {
            "tags": []
          },
          "execution_count": 85
        }
      ]
    },
    {
      "cell_type": "code",
      "metadata": {
        "id": "rz1VQs3atp9e",
        "colab_type": "code",
        "colab": {}
      },
      "source": [
        "Weather.to_csv(\"Weather.CSV\")"
      ],
      "execution_count": 0,
      "outputs": []
    }
  ]
}