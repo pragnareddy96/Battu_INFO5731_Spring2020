{
  "nbformat": 4,
  "nbformat_minor": 0,
  "metadata": {
    "colab": {
      "name": "Copy of INFO5731_Assignment_Three.ipynb",
      "provenance": [],
      "collapsed_sections": [],
      "include_colab_link": true
    },
    "kernelspec": {
      "name": "python3",
      "display_name": "Python 3"
    }
  },
  "cells": [
    {
      "cell_type": "markdown",
      "metadata": {
        "id": "view-in-github",
        "colab_type": "text"
      },
      "source": [
        "<a href=\"https://colab.research.google.com/github/pragnareddy96/Battu_INFO5731_Spring2020/blob/master/INFO5731_Assignment_Four.ipynb\" target=\"_parent\"><img src=\"https://colab.research.google.com/assets/colab-badge.svg\" alt=\"Open In Colab\"/></a>"
      ]
    },
    {
      "cell_type": "markdown",
      "metadata": {
        "id": "USSdXHuqnwv9",
        "colab_type": "text"
      },
      "source": [
        "# **INFO5731 Assignment Four**\n",
        "\n",
        "In this assignment, you are required to conduct topic modeling, sentiment analysis based on **the dataset you created from assignment three**."
      ]
    },
    {
      "cell_type": "markdown",
      "metadata": {
        "id": "YWxodXh5n4xF",
        "colab_type": "text"
      },
      "source": [
        "# **Question 1: Topic Modeling**"
      ]
    },
    {
      "cell_type": "markdown",
      "metadata": {
        "id": "TenBkDJ5n95k",
        "colab_type": "text"
      },
      "source": [
        "(30 points). This question is designed to help you develop a feel for the way topic modeling works, the connection to the human meanings of documents. Based on the dataset from assignment three, write a python program to **identify the top 10 topics in the dataset**. Before answering this question, please review the materials in lesson 8, especially the code for LDA and LSA. The following information should be reported:\n",
        "\n",
        "(1) Features (top n-gram phrases) used for topic modeling.\n",
        "\n",
        "(2) Top 10 clusters for topic modeling.\n",
        "\n",
        "(3) Summarize and describe the topic for each cluster. \n"
      ]
    },
    {
      "cell_type": "code",
      "metadata": {
        "id": "IQl1mo2Kaklc",
        "colab_type": "code",
        "colab": {}
      },
      "source": [
        "import spacy\n",
        "spacy.load('en')\n",
        "from spacy.lang.en import English\n",
        "parser = English()\n",
        "\n",
        "def tokenize(text):\n",
        "    lda_tokens = []\n",
        "    tokens = parser(text)\n",
        "    for token in tokens:\n",
        "        if token.orth_.isspace():\n",
        "            continue\n",
        "        elif token.like_url:\n",
        "            lda_tokens.append('URL')\n",
        "        elif token.orth_.startswith('@'):\n",
        "            lda_tokens.append('SCREEN_NAME')\n",
        "        else:\n",
        "            lda_tokens.append(token.lower_)\n",
        "    return lda_tokens"
      ],
      "execution_count": 0,
      "outputs": []
    },
    {
      "cell_type": "code",
      "metadata": {
        "id": "YSkFUwJAa7gy",
        "colab_type": "code",
        "outputId": "8441e498-31df-4bab-cfef-75e435352723",
        "colab": {
          "base_uri": "https://localhost:8080/",
          "height": 68
        }
      },
      "source": [
        "import nltk\n",
        "nltk.download('wordnet')"
      ],
      "execution_count": 0,
      "outputs": [
        {
          "output_type": "stream",
          "text": [
            "[nltk_data] Downloading package wordnet to /root/nltk_data...\n",
            "[nltk_data]   Package wordnet is already up-to-date!\n"
          ],
          "name": "stdout"
        },
        {
          "output_type": "execute_result",
          "data": {
            "text/plain": [
              "True"
            ]
          },
          "metadata": {
            "tags": []
          },
          "execution_count": 86
        }
      ]
    },
    {
      "cell_type": "code",
      "metadata": {
        "id": "6uViXFs4bCjx",
        "colab_type": "code",
        "colab": {}
      },
      "source": [
        "from nltk.corpus import wordnet as wn\n",
        "def get_lemma(word):\n",
        "    lemma = wn.morphy(word)\n",
        "    if lemma is None:\n",
        "        return word\n",
        "    else:\n",
        "        return lemma\n",
        "    \n",
        "from nltk.stem.wordnet import WordNetLemmatizer\n",
        "def get_lemma2(word):\n",
        "    return WordNetLemmatizer().lemmatize(word)"
      ],
      "execution_count": 0,
      "outputs": []
    },
    {
      "cell_type": "code",
      "metadata": {
        "id": "M4jrmMH7bGEc",
        "colab_type": "code",
        "outputId": "229724ea-0ca9-4579-f331-44466e2d428c",
        "colab": {
          "base_uri": "https://localhost:8080/",
          "height": 51
        }
      },
      "source": [
        "\n",
        "nltk.download('stopwords')\n",
        "en_stop = set(nltk.corpus.stopwords.words('english'))"
      ],
      "execution_count": 0,
      "outputs": [
        {
          "output_type": "stream",
          "text": [
            "[nltk_data] Downloading package stopwords to /root/nltk_data...\n",
            "[nltk_data]   Package stopwords is already up-to-date!\n"
          ],
          "name": "stdout"
        }
      ]
    },
    {
      "cell_type": "code",
      "metadata": {
        "id": "O0gYYvDJbM64",
        "colab_type": "code",
        "colab": {}
      },
      "source": [
        "def prepare_text_for_lda(text):\n",
        "    tokens = tokenize(text)\n",
        "    tokens = [token for token in tokens if len(token) > 4]\n",
        "    tokens = [token for token in tokens if token not in en_stop]\n",
        "    tokens = [get_lemma(token) for token in tokens]\n",
        "    return tokens"
      ],
      "execution_count": 0,
      "outputs": []
    },
    {
      "cell_type": "code",
      "metadata": {
        "id": "_36oCZo6bSmN",
        "colab_type": "code",
        "outputId": "52ccb08c-c862-4cf3-c570-c90cccf8a120",
        "colab": {
          "base_uri": "https://localhost:8080/",
          "height": 1000
        }
      },
      "source": [
        "import random\n",
        "text_data = []\n",
        "with open('edited_tweets.csv') as f:\n",
        "    for line in f:\n",
        "        tokens = prepare_text_for_lda(line)\n",
        "        if random.random() > .100:\n",
        "            print(tokens)\n",
        "            text_data.append(tokens)"
      ],
      "execution_count": 0,
      "outputs": [
        {
          "output_type": "stream",
          "text": [
            "['tweet', 'classification']\n",
            "['chasbottom', 'diseas', 'wuhancoronaviru', 'soooo', 'smoke', 'nrealli', 'nregard', 'state', 'admsmzbvzn', 'neutral']\n",
            "['comrad', 'nycmayor', 'chinaviru', 'wuhancoronaviru', 'china', 'period', 'offend', 'kyvqhrvhc', 'positive']\n",
            "['richzeoli', 'appar', 'favorit', 'store', 'affect', 'wuhancoronaviru', 'zfeuvegi', 'positive']\n",
            "['philprang', 'sharron', 'royalti', 'stormisuponu', 'exist', 'realiti', 'wuhancoronaviru', 'exist', 'poser', 'positive']\n",
            "['massiv', 'britishcolumbia', 'noplan', 'covid', 'wuhancoronaviru', 'thankschina', 'itsallmessedup', 'lccow', 'positive']\n",
            "['leablackmiami', 'funder', 'never', 'wuhancoronaviru', 'refer', 'democrat', 'medium', 'wkuarq', 'neutral']\n",
            "['sensand', 'perhap', 'worri', 'death', 'nwuhanflu', 'wuhancoronaviru', 'neutral']\n",
            "['benedictrog', 'nytim', 'washingtonpost', 'borisjohnson', 'dominicraab', 'freedomofspeech', 'concern', 'uyjxlxum', 'neutral']\n",
            "['senatorbiaggi', 'pictur', 'probabl', 'clear', 'decent', 'kodpt', 'positive']\n",
            "['emilyrauhala', 'record', 'straight', 'wuhancoronaviru', 'found', 'boxzt', 'neutral']\n",
            "['democrat', 'conserv', 'proud', 'votedemsout', 'masshysteria', 'positive']\n",
            "['latimesopinion', 'remov', 'paywal', 'ncoronaviru', 'chinesepneumonia', 'wuhancoronaviru', 'wuhanpneumonia', 'uyqkkk', 'neutral']\n",
            "['sarafisch', 'pippypip', 'china', 'whole', 'wuhancoronaviru', 'countri', 'fault', 'positive']\n",
            "['great', 'american', 'nwereallinthistogeth', 'nwuhancoronaviru', 'positive']\n",
            "['trump', 'defeat', 'wuhancoronaviru', 'chief', 'support', 'progress', 'deepstat', 'rjbxmcjjsr', 'neutral']\n",
            "['xhnew', 'daughter', 'stupid', 'luckygirl', 'wuhancoronaviru', 'auspol', 'negative']\n",
            "['warehous', 'fight', 'covid', 'wuhanviru', 'wuhan', 'wuhancoronaviru', 'wuhancoronavirusoutbreak', 'rpyqg', 'negative']\n",
            "['manchurian', 'suckup', 'nwuhancoronaviru', 'chinacoronaviru', 'kurtschlicht', 'robprovinc', 'buzzpatterson', 'iknbjzrvrn', 'neutral']\n",
            "['appar', 'health', 'profession', 'sight', 'collect', 'xgzszmi', 'neutral']\n",
            "['xhnew', 'incompet', 'cover', 'china', 'failur', 'contain', 'ifgebg', 'positive']\n",
            "['norbertelek', 'wuhancoronaviru', 'culprit', 'start', 'neutral']\n",
            "['yesnicksearci', 'nbcnew', 'shoot', 'chine', 'american', 'given', 'nqasudxntc', 'positive']\n",
            "['senwarren', 'whitehous', 'foxnew', 'relief', 'instead', 'correct', 'ameri', 'rkjczdc', 'positive']\n",
            "['senwarren', 'stick', 'wuhancoronaviru', 'apocalyps', 'chinawuhanviru', 'everyon', 'freak', 'neutral']\n",
            "['great', 'incompet', 'spillov', 'fault', 'positive']\n",
            "['misshellca', 'laylow', 'gorillastyl', 'originalq', 'shlomoindiana', 'mckraken', 'digivorr', 'tourguidej', 'kpinjza', 'neutral']\n",
            "['citali', 'coronaviru', 'disast', 'first', 'offici', 'peopl', 'aperitif', 'doctor', 'negative']\n",
            "['facebook', 'censorship', 'wuhanviru', 'articl', 'negative']\n",
            "['trend', 'hashtag', 'chinaviru', 'chineseviru', 'wuhancoronaviru', 'wuhan', 'cxityf', 'neutral']\n",
            "['stephenmcdonel', 'china', 'small', 'allow', 'speech', 'truth', 'chineseviru', 'chinesecoronaviru', 'xjqsc', 'positive']\n",
            "['repjudychu', 'thread', 'chinesecoronaviru', 'wuhancoronaviru', 'racism', 'nchineseviru', 'nhttp', 'neutral']\n",
            "['facebook', 'censor', 'articl', 'critic', 'china', 'includ', 'wuhan', 'someth', 'uvgizcln', 'neutral']\n",
            "['cernovich', 'medium', 'alreadi', 'worship', 'china', 'china', 'engin', 'jfqmqbon', 'neutral']\n",
            "['china', 'front', 'adher', 'quarantin', 'hotel', 'neighbor', 'iwkqru', 'negative']\n",
            "['china', 'friend', 'nwuhancoronaviru', 'chinesecoronaviru', 'nchina', 'exploit', 'pandem', 'activ', 'negative']\n",
            "['remind', 'wuhan', 'china', 'chineseviru', 'wuhancoronaviru', 'china', 'account', 'wnwnahdfal', 'positive']\n",
            "['bethanyallenebr', 'declar', 'weak', 'wuhancoronaviru', 'positive']\n",
            "['fakenewscnn', 'presid', 'realdonaldtrump', 'leader', 'peopl', 'buxrr', 'negative']\n",
            "['sarafisch', 'restrict', 'american', 'speech', 'nwuflu', 'nwuhancoronaviru', 'nwuhanchineseviru', 'neutral']\n",
            "['madrid', 'spain', 'covid', 'wuhancoronaviru', 'quarantin', 'dreari', 'dread', 'dpockrzamd', 'neutral']\n",
            "['nbcnew', 'truth', 'truth', 'matter', 'chineseviru', 'wuhancoronaviru', 'edebeaplzi', 'neutral']\n",
            "['virus', 'place', 'thousand', 'nwuhancoronaviru', 'neutral']\n",
            "['heathenonearth', 'kamvtv', 'xhnew', 'chine', 'sympath', 'wuhanviru', 'wuhancoronaviru', 'chineseviru', 'znrmrev', 'neutral']\n",
            "['hongkongfp', 'readi', 'unpreced', 'social', 'upheav', 'hongkong', 'positive']\n",
            "['first', 'coronaviru', 'mention', 'thousand', 'eat', 'china', 'nstop', 'teypchuf', 'negative']\n",
            "['covid', 'chinesecoronaviru', 'wuhancoronaviru', 'hypocrit', 'wanpsdh', 'negative']\n",
            "['fluorescentgrey', 'lhfang', 'china', 'world', 'break', 'billion', 'peopl', 'outright', 'panic', 'poxhsgw', 'negative']\n",
            "['nytgraph', 'remov', 'paywal', 'ncoronaviru', 'chinesepneumonia', 'wuhancoronaviru', 'wuhanpneumonia', 'vlrjpg', 'negative']\n",
            "['bobsegallwthr', 'realli', 'pedojar', 'xenophob', 'teuscfuwzf', 'negative']\n",
            "['number', 'death', 'wuhancoronaviru', 'wepafkiaqu', 'neutral']\n",
            "['covid', 'china', 'ncovid', 'covid', 'corona', 'coronarvirusitalia', 'wuhan', 'neutral']\n",
            "['massago', 'senwarren', 'truli', 'pathet', 'nwuhancoronaviru', 'ntrump', 'iibouwkglp', 'neutral']\n",
            "['chineseviru', 'chinesecoronaviru', 'chineseflu', 'chinesewuhanviru', 'wuflu', 'wuhanviru', 'wuhancoronaviru', 'begin', 'ieizci', 'negative']\n",
            "['ampalsson', 'merrilllynch', 'nbcnew', 'realis', 'wuhancoronaviru', 'actual', 'neutral']\n",
            "['wuhancoronaviru', 'wuhanflu', 'chinesecoronaviru', 'china', 'trillion', 'cover', 'econom', 'neutral']\n",
            "['repjudychu', 'specif', 'violenc', 'occur', 'actual', 'report', 'origin', 'wuhan', 'china', 'neutral']\n",
            "['china', 'someth', 'afraid', 'start', 'china', 'alreadi', 'mercantilist', 'neutral']\n",
            "['kiwipetrolhead', 'housegop', 'realdonaldtrump', 'whitehous', 'stupid', 'wuhanviru', 'neutral']\n",
            "['florida', 'desanti', 'updat', 'wuhancoronaviru', 'vgrqfynm', 'neutral']\n",
            "['templartitaninc', 'report', 'singl', 'record', 'coronaviru', 'death', 'russia', 'close', 'border', 'ncoronaviru', 'rlhzlup', 'negative']\n",
            "['bryanyang', 'creat', 'wuhan', 'biotechnolog', 'facil', 'nwuhancoronaviru', 'legit', 'positive']\n",
            "['suzann', 'vacay', 'xhnew', 'swing', 'origin', 'mexico', 'origin', 'africa', 'congo', 'abqefu', 'neutral']\n",
            "['nbcnew', 'sound', 'chine', 'chinaviru', 'wuhancoronaviru', 'begin', 'china', 'spread', 'neutral']\n",
            "['shock', 'american', 'commit', 'suicid', 'school', 'wuhancoronaviru', 'neutral']\n",
            "['pakistan', 'big', 'creditor', 'wuhanviru', 'creator', 'china', 'niazi', 'directli', 'oukpeuic', 'neutral']\n",
            "['shefvaidya', 'imrankhanpti', 'pakistan', 'big', 'creditor', 'wuhanviru', 'creator', 'china', 'wsssatto', 'positive']\n",
            "['wuhancoronaviru', 'chine', 'bitch', 'neutral']\n",
            "['kaptainkevo', 'ageism', 'discrimin', 'naccord', 'unless', 'person', 'lynch', 'murder', 'nrnkyhxn', 'neutral']\n",
            "['repjudychu', 'wuhancoronaviru', 'neutral']\n",
            "['coronavirusoutbreak', 'codiv', 'wuhancoronaviru', 'covid', 'ninterest', 'graphic', 'financialtim', 'neutral']\n",
            "['unesco', 'hendra', 'ebola', 'middleeastr', 'nipah', 'chineseviru', 'chinesewuhanviru', 'wuhancoronaviru', 'positive']\n",
            "['respons', 'comprehens', 'big', 'complaint', 'wuhancoronaviru', 'svshteotoa', 'negative']\n",
            "['sarafisch', 'becaus', 'chine', 'wuhancoronaviru', 'neutral']\n",
            "['bobsegallwthr', 'gaseascap', 'ebola', 'river', 'africa', 'diseas', 'place', 'normal', 'xpdmn', 'neutral']\n",
            "['patrick', 'quarantin', 'feast', 'cabbag', 'potato', 'muffin', 'choos', 'progr', 'neutral']\n",
            "['cbsnew', 'rocket', 'wuhancoronaviru', 'positive']\n",
            "['senwarren', 'whitehous', 'foxnew', 'whitehous', 'foxnew', 'wuhancoronaviru', 'discrimin', 'politicaljackasseri', 'neutral']\n",
            "['usmanmalik', 'sameerasam', 'warsonthebrink', 'parti', 'bring', 'peopl', 'china', 'wjvzhvhdpg', 'negative']\n",
            "['thank', 'china', 'coronavirusoutbreak', 'coronapocolyps', 'wuhanviru', 'wuhancoronaviru', 'wuhancoronavirusoutbreak', 'fdizxwsj', 'neutral']\n",
            "['senwarren', 'whitehous', 'foxnew', 'start', 'wuhan', 'china', 'differenti', 'eagxjbgx', 'neutral']\n",
            "['chinaviru', 'wuhanviru', 'wuhancoronaviru', 'iotnyuu', 'neutral']\n",
            "['sarafisch', 'wuhancoronaviru', 'start', 'china', 'neutral']\n",
            "['dengji', 'qwqsyq', 'right', 'wuhancoronaviru', 'stupid', 'wuflu', 'easy', 'wuflu', 'positive']\n",
            "['china', 'declar', 'world', 'chinaviru', 'wuhanviru', 'wuhancoronaviru', 'fuckchina', 'neutral']\n",
            "['nwuhancoronaviru', 'negative']\n",
            "['anthoni', 'fauci', 'coronaviru', 'fault', 'trump', 'anthonyfauci', 'ilviswt', 'neutral']\n",
            "['sarafisch', 'sugar', 'sweetheart', 'wuhancoronaviru', 'chinesecoronaviru', 'positive']\n",
            "['thought', 'prayer', 'client', 'nfrom', 'everi', 'singl', 'compani', 'nthan', 'aqjqcblu', 'positive']\n",
            "['watch', 'learn', 'america', 'nwuhancoronaviru', 'neutral']\n",
            "['account', 'covid', 'origin', 'america', 'might', 'lckipbp', 'neutral']\n",
            "['nbcnew', 'peopl', 'proud', 'presid', 'realdonaldtrump', 'nchineseviru', 'nwuhancoronaviru', 'positive']\n",
            "['realiz', 'noplan', 'justintrudeau', 'matter', 'canada', 'neutral']\n",
            "['angelo', 'dloesch', 'wrong', 'chineseviru', 'wuhanflu', 'neutral']\n",
            "['wuhanviru', 'wuhancoronaviru', 'appar', 'predict', 'koontz', 'ydryr', 'neutral']\n",
            "['meggerz', 'realli', 'posit', 'countri', 'languag', 'polic', 'wevimg', 'negative']\n",
            "['ewerickson', 'ingleslil', 'debat', 'whether', 'wuhancoronaviru', 'chineseviru', 'racism', 'zhrxhu', 'neutral']\n",
            "['right', 'wuhancoronaviru', 'neutral']\n",
            "['mitchellvii', 'chelseaclinton', 'claim', 'realdonaldtrump', 'prepar', 'wuhancoronaviru', 'gokhw', 'neutral']\n",
            "['ebola', 'ebola', 'river', 'congo', 'nipah', 'nipah', 'malaysia', 'import', 'origin', 'point', 'neutral']\n",
            "['sarafisch', 'origin', 'china', 'chine', 'chine', 'adject', 'mrysv', 'neutral']\n",
            "['dbongino', 'dictatorship', 'focus', 'prioriti', 'nwuhancoronaviru', 'ncommunistchinaviru', 'positive']\n",
            "['normal', 'chengdu', 'sichuan', 'provinc', 'scene', 'take', 'commerci', 'positive']\n",
            "['chelseaclinton', 'realdonaldtrump', 'ahead', 'incom', 'flight', 'china', 'januari', 'vjgfvjcj', 'negative']\n",
            "['peopl', 'account', 'declar', 'wuhancoronaviru', 'pandem', 'march', 'lkflhn', 'negative']\n",
            "['fernandoamandi', 'china', 'comunist', 'leftist', 'world', 'forget', 'planet', 'zhtoqlgbnw', 'negative']\n",
            "['hongkong', 'carrielam', 'refus', 'independ', 'investig', 'panel', 'policebrut', 'zdqmxqanfg', 'neutral']\n",
            "['trudeau', 'russian', 'roulett', 'illeg', 'border', 'cross', 'roxham', 'place', 'along', 'ujcyf', 'neutral']\n",
            "['nchineseviru', 'chineseviru', 'chinaviru', 'wuhanviru', 'wuhancoronaviru', 'aolxcclsef', 'negative']\n",
            "['coronavirusoutbreak', 'wuhancoronaviru', 'stayhomechalleng', 'msdgpao', 'neutral']\n",
            "['wuhancoronaviru', 'updat', 'covid', 'ihtyfcudum', 'neutral']\n",
            "['listen', 'stick', 'quarantin', 'tonight', 'origin', 'releas', 'epidem', 'neutral']\n",
            "['humor', 'wuhancoronaviru', 'yojaagt', 'positive']\n",
            "['marvel', 'shutter', 'perman', 'blame', 'wuhancoronaviru', 'enough', 'positive']\n",
            "['sarafisch', 'screw', 'beatl', 'better', 'anyway', 'actual', 'positive']\n",
            "['virginia', 'state', 'wuhancoronaviru', 'vhwdjkufk', 'neutral']\n",
            "['willchamberlain', 'jessekellydc', 'mikebloomberg', 'china', 'model', 'allow', 'hygien', 'ghastli', 'practi', 'jagddmwneu', 'neutral']\n",
            "['refer', 'wuhancoronaviru', 'racist', 'nhypocrit', 'hzcmxsgjkb', 'negative']\n",
            "['hedgespethrog', 'matter', 'trump', 'therefor', 'automat', 'racist', 'xenophob', 'sexist', 'gtdqebmzfv', 'negative']\n",
            "['sarafisch', 'deafdumbandblind', 'scienc', 'sarafisch', 'choic', 'capac', 'hrbndyzdci', 'neutral']\n",
            "['kansa', 'wuhancoronaviru', 'nwuhanflu', 'nhttp', 'neutral']\n",
            "['sarafisch', 'deafdumbandblind', 'scienc', 'sarafisch', 'choic', 'capac', 'tcztx', 'neutral']\n",
            "['bopinion', 'encourag', 'tehran', 'upris', 'bolshevik', 'revolut', 'thing', 'respons', 'medium', 'outlet', 'negative']\n",
            "['sarafisch', 'prefer', 'stone', 'whatev', 'chinesecoronaviru', 'wuhancoronaviru', 'china', 'eqstv', 'neutral']\n",
            "['incompet', 'liberalparti', 'canadaisbroken', 'itsallmessedup', 'wuhancoronaviru', 'china', 'covid', 'negative']\n",
            "['wonder', 'cconfirm', 'wuhan', 'coronaviru', 'confirm', 'recent', 'ehhbkuy', 'positive']\n",
            "['jackposobiec', 'respons', 'wuhancoronaviru', 'neutral']\n",
            "['bobsegallwthr', 'joepalojo', 'wuhancoronaviru', 'cupcak', 'acosta', 'usnew', 'nytim', 'wnznh', 'neutral']\n",
            "['ericg', 'realdonaldtrump', 'disinform', 'joebiden', 'realdonaldtrump', 'administr', 'reject', 'tjuhxibv', 'negative']\n",
            "['xhnew', 'incompet', 'either', 'anima', 'hawofjzydh', 'negative']\n",
            "['anncoult', 'wuhancoronaviru', 'would', 'interest', 'medium', 'would', 'someth', 'hear', 'yfsslkeddk', 'neutral']\n",
            "['jijuipforgam', 'world', 'claim', 'everi', 'econom', 'activ', 'chine', 'nwuhancoronaviru', 'negative']\n",
            "['crawl', 'river', 'climb', 'kungflu', 'sssqgr', 'positive']\n",
            "['least', 'wuhancoronaviru', 'hongkong', 'bring', 'total', 'outta', 'xspmckhnk', 'neutral']\n",
            "['world', 'account', 'wuhancoronaviru', 'pandem', 'nextrem', 'angri', 'etpfvql', 'negative']\n"
          ],
          "name": "stdout"
        }
      ]
    },
    {
      "cell_type": "code",
      "metadata": {
        "id": "SmGcSHTibd_h",
        "colab_type": "code",
        "colab": {}
      },
      "source": [
        "from gensim import corpora\n",
        "dictionary = corpora.Dictionary(text_data)"
      ],
      "execution_count": 0,
      "outputs": []
    },
    {
      "cell_type": "code",
      "metadata": {
        "id": "cCut_kgMbinU",
        "colab_type": "code",
        "colab": {}
      },
      "source": [
        "corpus = [dictionary.doc2bow(text) for text in text_data]"
      ],
      "execution_count": 0,
      "outputs": []
    },
    {
      "cell_type": "code",
      "metadata": {
        "id": "Q55owGCmbliV",
        "colab_type": "code",
        "outputId": "b917dfa6-70fc-4ce3-928c-665c4ea1b17b",
        "colab": {
          "base_uri": "https://localhost:8080/",
          "height": 71
        }
      },
      "source": [
        "import pickle\n",
        "pickle.dump(corpus, open('corpus.pkl', 'wb'))\n",
        "dictionary.save('dictionary.gensim')"
      ],
      "execution_count": 0,
      "outputs": [
        {
          "output_type": "stream",
          "text": [
            "/usr/local/lib/python3.6/dist-packages/smart_open/smart_open_lib.py:253: UserWarning: This function is deprecated, use smart_open.open instead. See the migration notes for details: https://github.com/RaRe-Technologies/smart_open/blob/master/README.rst#migrating-to-the-new-open-function\n",
            "  'See the migration notes for details: %s' % _MIGRATION_NOTES_URL\n"
          ],
          "name": "stderr"
        }
      ]
    },
    {
      "cell_type": "code",
      "metadata": {
        "id": "Yeajci1BbrJI",
        "colab_type": "code",
        "outputId": "066e9bf0-cae7-495a-8c1f-30bed1cf7513",
        "colab": {
          "base_uri": "https://localhost:8080/",
          "height": 71
        }
      },
      "source": [
        "import gensim\n",
        "NUM_TOPICS = 10\n",
        "ldamodel = gensim.models.ldamodel.LdaModel(corpus, num_topics = NUM_TOPICS, id2word=dictionary, passes=15)\n",
        "ldamodel.save('model10.gensim')"
      ],
      "execution_count": 0,
      "outputs": [
        {
          "output_type": "stream",
          "text": [
            "/usr/local/lib/python3.6/dist-packages/smart_open/smart_open_lib.py:253: UserWarning: This function is deprecated, use smart_open.open instead. See the migration notes for details: https://github.com/RaRe-Technologies/smart_open/blob/master/README.rst#migrating-to-the-new-open-function\n",
            "  'See the migration notes for details: %s' % _MIGRATION_NOTES_URL\n"
          ],
          "name": "stderr"
        }
      ]
    },
    {
      "cell_type": "code",
      "metadata": {
        "id": "7GAdkMDkb_Pn",
        "colab_type": "code",
        "outputId": "d04bb00c-12a7-4b60-ca69-2af669d2200a",
        "colab": {
          "base_uri": "https://localhost:8080/",
          "height": 207
        }
      },
      "source": [
        "topics = ldamodel.print_topics(num_words=10)\n",
        "for topic in topics:\n",
        "    print(topic)"
      ],
      "execution_count": 0,
      "outputs": [
        {
          "output_type": "stream",
          "text": [
            "(0, '0.057*\"wuhancoronaviru\" + 0.057*\"neutral\" + 0.031*\"positive\" + 0.021*\"china\" + 0.016*\"nwuhancoronaviru\" + 0.016*\"peopl\" + 0.011*\"nbcnew\" + 0.011*\"chine\" + 0.011*\"realdonaldtrump\" + 0.011*\"would\"')\n",
            "(1, '0.032*\"wuhanviru\" + 0.022*\"china\" + 0.022*\"positive\" + 0.022*\"actual\" + 0.022*\"neutral\" + 0.011*\"wuhan\" + 0.011*\"repjudychu\" + 0.011*\"big\" + 0.011*\"realdonaldtrump\" + 0.011*\"stupid\"')\n",
            "(2, '0.066*\"neutral\" + 0.023*\"origin\" + 0.023*\"china\" + 0.015*\"chine\" + 0.015*\"place\" + 0.015*\"wuhancoronaviru\" + 0.015*\"wuhanviru\" + 0.008*\"hongkong\" + 0.008*\"coronavirusoutbreak\" + 0.008*\"xhnew\"')\n",
            "(3, '0.041*\"wuhancoronaviru\" + 0.034*\"negative\" + 0.028*\"wuhanviru\" + 0.021*\"china\" + 0.021*\"world\" + 0.021*\"neutral\" + 0.014*\"chinaviru\" + 0.014*\"exist\" + 0.014*\"positive\" + 0.014*\"chinesecoronaviru\"')\n",
            "(4, '0.060*\"positive\" + 0.034*\"wuhancoronaviru\" + 0.014*\"chinesecoronaviru\" + 0.014*\"negative\" + 0.014*\"nwuhancoronaviru\" + 0.014*\"nbcnew\" + 0.014*\"sarafisch\" + 0.014*\"american\" + 0.014*\"great\" + 0.014*\"neutral\"')\n",
            "(5, '0.038*\"positive\" + 0.020*\"ebola\" + 0.020*\"china\" + 0.020*\"nipah\" + 0.020*\"river\" + 0.020*\"neutral\" + 0.010*\"wuhan\" + 0.010*\"coronaviru\" + 0.010*\"medium\" + 0.010*\"senwarren\"')\n",
            "(6, '0.055*\"negative\" + 0.050*\"china\" + 0.018*\"neutral\" + 0.018*\"wuhancoronaviru\" + 0.017*\"nwuhancoronaviru\" + 0.012*\"quarantin\" + 0.012*\"countri\" + 0.012*\"realli\" + 0.012*\"activ\" + 0.012*\"world\"')\n",
            "(7, '0.046*\"sarafisch\" + 0.040*\"neutral\" + 0.024*\"negative\" + 0.016*\"wuhancoronaviru\" + 0.016*\"realdonaldtrump\" + 0.016*\"covid\" + 0.016*\"choic\" + 0.016*\"capac\" + 0.016*\"scienc\" + 0.016*\"deafdumbandblind\"')\n",
            "(8, '0.094*\"wuhancoronaviru\" + 0.078*\"neutral\" + 0.025*\"chineseviru\" + 0.022*\"negative\" + 0.016*\"positive\" + 0.015*\"china\" + 0.009*\"xhnew\" + 0.009*\"respons\" + 0.009*\"senwarren\" + 0.009*\"foxnew\"')\n",
            "(9, '0.075*\"neutral\" + 0.038*\"wuhancoronaviru\" + 0.023*\"covid\" + 0.015*\"china\" + 0.008*\"nwuhanflu\" + 0.008*\"stick\" + 0.008*\"state\" + 0.008*\"nytim\" + 0.008*\"nhttp\" + 0.008*\"coronavirusoutbreak\"')\n"
          ],
          "name": "stdout"
        }
      ]
    },
    {
      "cell_type": "code",
      "metadata": {
        "id": "2bh6t3KbdxoZ",
        "colab_type": "code",
        "outputId": "2b6cd5ff-4c8a-4425-86a9-62ac2394876a",
        "colab": {
          "base_uri": "https://localhost:8080/",
          "height": 71
        }
      },
      "source": [
        "\n",
        "dictionary = gensim.corpora.Dictionary.load('dictionary.gensim')\n",
        "corpus = pickle.load(open('corpus.pkl', 'rb'))\n",
        "lda = gensim.models.ldamodel.LdaModel.load('model10.gensim')"
      ],
      "execution_count": 0,
      "outputs": [
        {
          "output_type": "stream",
          "text": [
            "/usr/local/lib/python3.6/dist-packages/smart_open/smart_open_lib.py:253: UserWarning: This function is deprecated, use smart_open.open instead. See the migration notes for details: https://github.com/RaRe-Technologies/smart_open/blob/master/README.rst#migrating-to-the-new-open-function\n",
            "  'See the migration notes for details: %s' % _MIGRATION_NOTES_URL\n"
          ],
          "name": "stderr"
        }
      ]
    },
    {
      "cell_type": "code",
      "metadata": {
        "id": "8jyOG7svd8GW",
        "colab_type": "code",
        "outputId": "2ab7fe19-60cd-4826-8da9-61cf731fe351",
        "colab": {
          "base_uri": "https://localhost:8080/",
          "height": 881
        }
      },
      "source": [
        "import pyLDAvis.gensim\n",
        "lda_display = pyLDAvis.gensim.prepare(lda, corpus, dictionary, sort_topics=False)\n",
        "pyLDAvis.display(lda_display)"
      ],
      "execution_count": 0,
      "outputs": [
        {
          "output_type": "execute_result",
          "data": {
            "text/html": [
              "\n",
              "<link rel=\"stylesheet\" type=\"text/css\" href=\"https://cdn.rawgit.com/bmabey/pyLDAvis/files/ldavis.v1.0.0.css\">\n",
              "\n",
              "\n",
              "<div id=\"ldavis_el1201403204890072885004722594\"></div>\n",
              "<script type=\"text/javascript\">\n",
              "\n",
              "var ldavis_el1201403204890072885004722594_data = {\"mdsDat\": {\"x\": [0.026930001113291073, -0.024743693092978587, -0.005751349319123907, 0.02305282147933069, -0.07781728389779566, -0.0264670737502236, -0.09995839428295665, -0.03172622635315703, 0.15466569363337093, 0.06181550447024278], \"y\": [0.07448437390957233, -0.04964941414847765, -0.11599159772349345, 0.02155973213302756, 0.06182857848553637, -0.05934287180159872, 0.07753565121029159, -0.012232250398078062, 0.06561872440256404, -0.06381092606934372], \"topics\": [1, 2, 3, 4, 5, 6, 7, 8, 9, 10], \"cluster\": [1, 1, 1, 1, 1, 1, 1, 1, 1, 1], \"Freq\": [12.79637622833252, 4.448087692260742, 8.02595329284668, 8.991290092468262, 9.147005081176758, 5.412069320678711, 11.80898666381836, 7.459627151489258, 23.961071014404297, 7.949528694152832]}, \"tinfo\": {\"Term\": [\"positive\", \"wuhanviru\", \"negative\", \"sarafisch\", \"neutral\", \"wuhancoronaviru\", \"chineseviru\", \"origin\", \"china\", \"covid\", \"world\", \"ebola\", \"whitehous\", \"actual\", \"realdonaldtrump\", \"nipah\", \"river\", \"wuhan\", \"american\", \"senwarren\", \"nwuhancoronaviru\", \"place\", \"nbcnew\", \"chinesecoronaviru\", \"foxnew\", \"stupid\", \"repjudychu\", \"deafdumbandblind\", \"capac\", \"scienc\", \"cover\", \"presid\", \"would\", \"perman\", \"sound\", \"ifgebg\", \"enough\", \"marvel\", \"latimesopinion\", \"shutter\", \"lccow\", \"facil\", \"uyqkkk\", \"creat\", \"biotechnolog\", \"contain\", \"massiv\", \"blame\", \"spread\", \"britishcolumbia\", \"fauci\", \"ihtyfcudum\", \"anthoni\", \"anthonyfauci\", \"becaus\", \"msdgpao\", \"ilviswt\", \"stayhomechalleng\", \"watch\", \"trillion\", \"peopl\", \"wuhancoronaviru\", \"neutral\", \"positive\", \"nbcnew\", \"nwuhancoronaviru\", \"realdonaldtrump\", \"china\", \"chine\", \"covid\", \"negative\", \"vhwdjkufk\", \"virginia\", \"bryanyang\", \"fakenewscnn\", \"leader\", \"legit\", \"buxrr\", \"weak\", \"bethanyallenebr\", \"classification\", \"wuhanflu\", \"proud\", \"updat\", \"itsallmessedup\", \"bring\", \"appar\", \"trump\", \"occur\", \"wsssatto\", \"specif\", \"shefvaidya\", \"housegop\", \"censorship\", \"kiwipetrolhead\", \"screw\", \"better\", \"anyway\", \"beatl\", \"violenc\", \"imrankhanpti\", \"actual\", \"facebook\", \"articl\", \"creator\", \"creditor\", \"pakistan\", \"report\", \"big\", \"repjudychu\", \"stupid\", \"wuhanviru\", \"whitehous\", \"origin\", \"realdonaldtrump\", \"wuhan\", \"sarafisch\", \"positive\", \"china\", \"neutral\", \"laylow\", \"russian\", \"coronapocolyps\", \"fdizxwsj\", \"thank\", \"virus\", \"roulett\", \"tourguidej\", \"adject\", \"mrysv\", \"shlomoindiana\", \"originalq\", \"misshellca\", \"mckraken\", \"illeg\", \"kpinjza\", \"gorillastyl\", \"digivorr\", \"carrielam\", \"independ\", \"investig\", \"panel\", \"policebrut\", \"refus\", \"zdqmxqanfg\", \"cross\", \"roxham\", \"trudeau\", \"mexico\", \"suicid\", \"along\", \"vacay\", \"ujcyf\", \"abqefu\", \"suzann\", \"swing\", \"place\", \"origin\", \"commit\", \"shock\", \"school\", \"neutral\", \"chine\", \"china\", \"wuhanviru\", \"wuhancoronaviru\", \"hongkong\", \"coronavirusoutbreak\", \"xhnew\", \"africa\", \"wuhancoronavirusoutbreak\", \"border\", \"exist\", \"nextrem\", \"comunist\", \"rlhzlup\", \"russia\", \"etpfvql\", \"templartitaninc\", \"xjqsc\", \"gaseascap\", \"stephenmcdonel\", \"small\", \"xpdmn\", \"fuckchina\", \"warehous\", \"rpyqg\", \"fight\", \"iotnyuu\", \"leftist\", \"realiti\", \"angri\", \"zhtoqlgbnw\", \"planet\", \"philprang\", \"poser\", \"close\", \"stormisuponu\", \"fernandoamandi\", \"forget\", \"royalti\", \"sharron\", \"world\", \"wuhanviru\", \"negative\", \"chinaviru\", \"wuhancoronaviru\", \"chinesecoronaviru\", \"china\", \"chineseviru\", \"neutral\", \"positive\", \"declar\", \"pandem\", \"death\", \"coronaviru\", \"bobsegallwthr\", \"truth\", \"ncoronaviru\", \"account\", \"record\", \"singl\", \"great\", \"spillov\", \"aperitif\", \"compani\", \"nfrom\", \"nthan\", \"prayer\", \"whatev\", \"prefer\", \"eqstv\", \"thought\", \"offici\", \"doctor\", \"disast\", \"citali\", \"dbongino\", \"aqjqcblu\", \"dictatorship\", \"focus\", \"ncommunistchinaviru\", \"therefor\", \"sexist\", \"hedgespethrog\", \"gtdqebmzfv\", \"automat\", \"prioriti\", \"yesnicksearci\", \"shoot\", \"nqasudxntc\", \"given\", \"sweetheart\", \"upheav\", \"unpreced\", \"client\", \"nwereallinthistogeth\", \"sugar\", \"hongkongfp\", \"stone\", \"social\", \"readi\", \"cbsnew\", \"zfeuvegi\", \"store\", \"positive\", \"american\", \"nbcnew\", \"wuhancoronaviru\", \"chinesecoronaviru\", \"sarafisch\", \"nwuhancoronaviru\", \"negative\", \"neutral\", \"appar\", \"trump\", \"matter\", \"hongkong\", \"racist\", \"xenophob\", \"everi\", \"first\", \"peopl\", \"coronaviru\", \"incompet\", \"malaysia\", \"worship\", \"instead\", \"relief\", \"cconfirm\", \"confirm\", \"ehhbkuy\", \"recent\", \"wonder\", \"rkjczdc\", \"point\", \"senatorbiaggi\", \"import\", \"cernovich\", \"ameri\", \"jfqmqbon\", \"engin\", \"correct\", \"probabl\", \"sssqgr\", \"kungflu\", \"crawl\", \"clear\", \"climb\", \"pictur\", \"kodpt\", \"decent\", \"river\", \"nipah\", \"ebola\", \"positive\", \"china\", \"neutral\", \"wuhan\", \"coronaviru\", \"medium\", \"senwarren\", \"alreadi\", \"foxnew\", \"whitehous\", \"congo\", \"origin\", \"realli\", \"countri\", \"activ\", \"languag\", \"feast\", \"vjgfvjcj\", \"januari\", \"flight\", \"ahead\", \"wevimg\", \"posit\", \"polic\", \"meggerz\", \"potato\", \"patrick\", \"choos\", \"nhypocrit\", \"cabbag\", \"exploit\", \"friend\", \"nchina\", \"eat\", \"nstop\", \"mercantilist\", \"afraid\", \"outright\", \"pedojar\", \"hzcmxsgjkb\", \"teuscfuwzf\", \"nycmayor\", \"period\", \"comrad\", \"kyvqhrvhc\", \"offend\", \"person\", \"nrnkyhxn\", \"progr\", \"ageism\", \"kaptainkevo\", \"lynch\", \"murder\", \"naccord\", \"whole\", \"unless\", \"neighbor\", \"iwkqru\", \"hotel\", \"front\", \"adher\", \"muffin\", \"incom\", \"pippypip\", \"negative\", \"china\", \"quarantin\", \"world\", \"nwuhancoronaviru\", \"chinaviru\", \"wuhancoronaviru\", \"neutral\", \"positive\", \"claim\", \"chelseaclinton\", \"discrimin\", \"pandem\", \"refer\", \"fault\", \"econom\", \"deafdumbandblind\", \"capac\", \"scienc\", \"choic\", \"uvgizcln\", \"includ\", \"critic\", \"nwuflu\", \"nwuhanchineseviru\", \"restrict\", \"censor\", \"nytgraph\", \"vlrjpg\", \"commerci\", \"provinc\", \"sichuan\", \"disinform\", \"chengdu\", \"scene\", \"lckipbp\", \"take\", \"tcztx\", \"hrbndyzdci\", \"administr\", \"might\", \"ericg\", \"reject\", \"tjuhxibv\", \"joebiden\", \"hypocrit\", \"sarafisch\", \"wanpsdh\", \"realdonaldtrump\", \"neutral\", \"negative\", \"covid\", \"wuhancoronaviru\", \"china\", \"wuhan\", \"america\", \"someth\", \"account\", \"paywal\", \"remov\", \"wuhanpneumonia\", \"chinesepneumonia\", \"ncoronaviru\", \"facebook\", \"articl\", \"speech\", \"respons\", \"chineseviru\", \"racism\", \"democrat\", \"right\", \"foxnew\", \"start\", \"stupid\", \"repjudychu\", \"rjbxmcjjsr\", \"complaint\", \"comprehens\", \"encourag\", \"svshteotoa\", \"support\", \"apocalyps\", \"chief\", \"progress\", \"unesco\", \"chinawuhanviru\", \"everyon\", \"freak\", \"votedemsout\", \"defeat\", \"differenti\", \"middleeastr\", \"auspol\", \"iknbjzrvrn\", \"luckygirl\", \"manchurian\", \"whitehous\", \"perhap\", \"suckup\", \"chinacoronaviru\", \"senwarren\", \"outlet\", \"wuhancoronaviru\", \"xhnew\", \"wuflu\", \"truth\", \"death\", \"daughter\", \"nchineseviru\", \"robprovinc\", \"vgrqfynm\", \"desanti\", \"zhrxhu\", \"lkflhn\", \"march\", \"florida\", \"neutral\", \"kurtschlicht\", \"mitchellvii\", \"prepar\", \"whether\", \"ingleslil\", \"ewerickson\", \"debat\", \"funder\", \"wkuarq\", \"never\", \"leablackmiami\", \"bolshevik\", \"angelo\", \"upris\", \"thing\", \"dloesch\", \"wrong\", \"sympath\", \"culprit\", \"kamvtv\", \"madrid\", \"dreari\", \"concern\", \"washingtonpost\", \"bopinion\", \"aolxcclsef\", \"deepstat\", \"uyjxlxum\", \"number\", \"wepafkiaqu\", \"medium\", \"account\", \"dread\", \"dpockrzamd\", \"benedictrog\", \"spain\", \"incompet\", \"negative\", \"wuhan\", \"gokhw\", \"wuhanviru\", \"buzzpatterson\", \"positive\", \"china\", \"chine\", \"covid\", \"chinaviru\", \"norbertelek\", \"emilyrauhala\", \"coronarvirusitalia\", \"wnznh\", \"usnew\", \"joepalojo\", \"cupcak\", \"acosta\", \"ntrump\", \"massago\", \"iibouwkglp\", \"ncovid\", \"corona\", \"found\", \"straight\", \"tonight\", \"releas\", \"canada\", \"justintrudeau\", \"realiz\", \"listen\", \"epidem\", \"kansa\", \"pathet\", \"truli\", \"nregard\", \"soooo\", \"boxzt\", \"nrealli\", \"ghastli\", \"codiv\", \"willchamberlain\", \"jessekellydc\", \"mikebloomberg\", \"model\", \"practi\", \"chasbottom\", \"admsmzbvzn\", \"smoke\", \"jagddmwneu\", \"hygien\", \"financialtim\", \"graphic\", \"ninterest\", \"neutral\", \"covid\", \"wuhancoronaviru\", \"china\", \"nwuhanflu\", \"stick\", \"state\", \"nytim\", \"nhttp\", \"coronavirusoutbreak\", \"matter\", \"bobsegallwthr\", \"quarantin\", \"noplan\", \"allow\", \"diseas\"], \"Freq\": [20.0, 8.0, 20.0, 7.0, 49.0, 46.0, 8.0, 4.0, 21.0, 7.0, 3.0, 3.0, 3.0, 2.0, 5.0, 2.0, 2.0, 6.0, 3.0, 4.0, 8.0, 2.0, 4.0, 5.0, 3.0, 2.0, 2.0, 1.0, 1.0, 1.0, 1.4320566654205322, 1.4320566654205322, 1.4320566654205322, 0.750124990940094, 0.750124990940094, 0.750124990940094, 0.750124990940094, 0.750124990940094, 0.750124990940094, 0.750124990940094, 0.750124990940094, 0.750124990940094, 0.750124990940094, 0.750124990940094, 0.750124990940094, 0.750124990940094, 0.750124990940094, 0.750124990940094, 0.750124990940094, 0.750124990940094, 0.750124990940094, 0.750124990940094, 0.750124990940094, 0.750124990940094, 0.750124990940094, 0.750124990940094, 0.750124990940094, 0.750124990940094, 0.7501248717308044, 0.7501248717308044, 2.1140143871307373, 7.570769786834717, 7.570723533630371, 4.159802436828613, 1.4320642948150635, 2.1140260696411133, 1.4320626258850098, 2.7959156036376953, 1.4320635795593262, 1.4320443868637085, 1.4319934844970703, 0.7501248717308044, 0.7501248717308044, 0.7501248717308044, 0.7501248717308044, 0.7501248717308044, 0.7501248717308044, 0.7501248717308044, 0.7501248717308044, 0.7501248717308044, 0.7501248121261597, 0.7501293420791626, 0.7501293420791626, 0.7501283288002014, 0.7501279711723328, 0.7501279711723328, 0.7501262426376343, 0.7501255869865417, 0.532656729221344, 0.532656729221344, 0.532656729221344, 0.532656729221344, 0.5326566696166992, 0.5326566696166992, 0.5326566696166992, 0.5326566696166992, 0.5326566696166992, 0.5326566696166992, 0.5326566696166992, 0.5326566696166992, 0.5326566696166992, 1.0168977975845337, 0.5326564908027649, 0.5326564908027649, 0.53265780210495, 0.53265780210495, 0.53265780210495, 0.5326575636863708, 0.5326648354530334, 0.5326659679412842, 0.5326604247093201, 1.5011489391326904, 0.5326583385467529, 0.5326579213142395, 0.532663106918335, 0.5326697826385498, 0.5326555371284485, 1.0169061422348022, 1.0169175863265991, 1.0168696641921997, 0.6732858419418335, 0.6732858419418335, 0.6732858419418335, 0.6732857823371887, 0.6732858419418335, 0.6732857823371887, 0.6732858419418335, 0.6732858419418335, 0.6732857823371887, 0.6732857823371887, 0.6732858419418335, 0.6732858419418335, 0.6732857823371887, 0.6732858419418335, 0.6732858419418335, 0.6732858419418335, 0.6732858419418335, 0.6732858419418335, 0.6732857823371887, 0.6732857823371887, 0.6732857823371887, 0.6732857823371887, 0.6732857823371887, 0.6732857823371887, 0.6732858419418335, 0.6732857823371887, 0.6732858419418335, 0.6732858419418335, 0.6732858419418335, 0.6732857823371887, 0.6732858419418335, 0.6732858419418335, 0.6732858419418335, 0.6732858419418335, 0.6732858419418335, 0.6732858419418335, 1.2853666543960571, 1.8974658250808716, 0.6732857823371887, 0.6732857823371887, 0.6732857823371887, 5.569835186004639, 1.2853940725326538, 1.8971253633499146, 1.2850518226623535, 1.2852957248687744, 0.673291802406311, 0.6732903122901917, 0.6732898354530334, 0.6732863187789917, 0.6732861399650574, 0.6732858419418335, 1.3328545093536377, 0.6981619000434875, 0.6981619596481323, 0.6981619596481323, 0.6981619596481323, 0.6981619000434875, 0.6981619596481323, 0.6981619000434875, 0.6981619596481323, 0.6981619000434875, 0.6981619596481323, 0.6981619596481323, 0.6981619596481323, 0.6981619000434875, 0.6981619000434875, 0.6981619000434875, 0.6981619000434875, 0.6981619596481323, 0.6981619000434875, 0.6981619000434875, 0.6981619596481323, 0.6981619596481323, 0.6981619000434875, 0.6981619000434875, 0.6981619596481323, 0.6981619000434875, 0.6981619596481323, 0.6981619596481323, 0.6981619000434875, 0.6981619000434875, 1.967551589012146, 2.6020889282226562, 3.236816883087158, 1.332874059677124, 3.871425151824951, 1.3327040672302246, 1.967561960220337, 1.3326038122177124, 1.9674495458602905, 1.3328379392623901, 0.6981698274612427, 0.6981670260429382, 0.6981663107872009, 0.6981656551361084, 0.6981644034385681, 0.698164165019989, 0.6981636881828308, 0.6981630921363831, 0.6981629729270935, 0.6981624960899353, 1.3201751708984375, 0.6915203332901001, 0.6915203332901001, 0.6915203332901001, 0.6915202736854553, 0.6915202736854553, 0.6915203332901001, 0.6915202736854553, 0.6915202736854553, 0.6915202736854553, 0.6915203332901001, 0.6915202736854553, 0.6915202736854553, 0.6915203332901001, 0.6915202736854553, 0.6915203332901001, 0.6915202736854553, 0.6915202736854553, 0.6915202736854553, 0.6915202736854553, 0.6915202736854553, 0.6915202736854553, 0.6915202736854553, 0.6915202736854553, 0.6915202736854553, 0.6915202736854553, 0.6915202736854553, 0.6915202736854553, 0.6915203332901001, 0.6915202736854553, 0.6915202736854553, 0.6915203332901001, 0.6915203332901001, 0.6915203332901001, 0.6915203332901001, 0.6915202736854553, 0.6915203332901001, 0.6915202736854553, 0.6915203332901001, 0.6915203332901001, 0.6915202736854553, 0.6915202736854553, 0.6915203332901001, 5.720902442932129, 1.3201807737350464, 1.320189118385315, 3.2063722610473633, 1.3203824758529663, 1.3201823234558105, 1.3201972246170044, 1.3203439712524414, 1.3200486898422241, 0.6915270090103149, 0.6915258169174194, 0.6915256977081299, 0.6915231347084045, 0.6915227770805359, 0.6915226578712463, 0.6915213465690613, 0.6915212273597717, 0.6915206909179688, 0.6915206909179688, 0.6915206909179688, 0.5814037322998047, 0.5814037919044495, 0.5814037322998047, 0.5814037322998047, 0.5814037322998047, 0.5814037322998047, 0.5814037919044495, 0.5814037919044495, 0.5814037322998047, 0.5814037919044495, 0.5814037322998047, 0.5814037322998047, 0.5814037322998047, 0.5814037919044495, 0.5814037919044495, 0.5814037919044495, 0.5814037919044495, 0.5814037919044495, 0.5814037322998047, 0.5814037919044495, 0.5814037919044495, 0.5814037919044495, 0.5814037322998047, 0.5814037919044495, 0.5814037322998047, 0.5814037322998047, 0.5814037322998047, 1.109956979751587, 1.1099660396575928, 1.1099708080291748, 2.1671204566955566, 1.109967827796936, 1.1099307537078857, 0.5814117789268494, 0.5814098715782166, 0.5814083218574524, 0.5814070701599121, 0.5814062356948853, 0.5814055800437927, 0.5814056992530823, 0.581404447555542, 0.5814038515090942, 1.4225047826766968, 1.4225047826766968, 1.4225047826766968, 0.7451215386390686, 0.7451215386390686, 0.7451215386390686, 0.7451215386390686, 0.7451215386390686, 0.7451215386390686, 0.7451215386390686, 0.7451215386390686, 0.7451215386390686, 0.7451215386390686, 0.7451215386390686, 0.7451215386390686, 0.7451215386390686, 0.7451215386390686, 0.7451215386390686, 0.7451215386390686, 0.7451215386390686, 0.7451215386390686, 0.7451217174530029, 0.7451217174530029, 0.7451215386390686, 0.7451215386390686, 0.7451215386390686, 0.7451215386390686, 0.7451215386390686, 0.7451215386390686, 0.7451215386390686, 0.7451215386390686, 0.7451215386390686, 0.7451215386390686, 0.7451215386390686, 0.7451215982437134, 0.7451215982437134, 0.7451215982437134, 0.7451215982437134, 0.7451215982437134, 0.7451215982437134, 0.7451215982437134, 0.7451215982437134, 0.7451215982437134, 0.7451215982437134, 0.7451215982437134, 0.7451215982437134, 0.7451215982437134, 0.7451215982437134, 0.7451215982437134, 0.7451215982437134, 0.7451215982437134, 0.7451215982437134, 6.84168815612793, 6.164710998535156, 1.4225163459777832, 1.4225003719329834, 2.0999057292938232, 1.2546056509017944, 2.2024691104888916, 2.221055030822754, 1.422446370124817, 0.7451251149177551, 0.7451251149177551, 0.7451245784759521, 0.745124340057373, 0.7451237440109253, 0.7451225519180298, 0.7451222538948059, 1.247112512588501, 1.247112512588501, 1.247112512588501, 1.247112512588501, 0.6532493829727173, 0.6532493829727173, 0.6532493829727173, 0.6532493829727173, 0.6532493829727173, 0.6532493829727173, 0.6532493829727173, 0.6532493829727173, 0.6532493829727173, 0.6532493829727173, 0.6532493829727173, 0.6532493829727173, 0.6532493233680725, 0.6532493233680725, 0.6532493233680725, 0.6532493233680725, 0.6532493233680725, 0.6532493233680725, 0.6532493233680725, 0.6532493233680725, 0.6532493233680725, 0.6532493233680725, 0.6532493233680725, 0.6532493233680725, 0.6532493233680725, 0.6532493233680725, 3.6205692291259766, 0.6532493233680725, 1.2471394538879395, 3.094329833984375, 1.8409932851791382, 1.247125267982483, 1.267795443534851, 0.7107619047164917, 0.6532544493675232, 0.6532533168792725, 0.653252899646759, 0.6532513499259949, 0.653251051902771, 0.653251051902771, 0.653251051902771, 0.653251051902771, 0.653251051902771, 0.6532496809959412, 0.6532496809959412, 0.6532494425773621, 2.3706412315368652, 6.191435813903809, 1.605918288230896, 1.605918288230896, 1.4939814805984497, 2.370638608932495, 2.370635747909546, 1.605912446975708, 1.6044853925704956, 0.8411952257156372, 0.8411952257156372, 0.8411952257156372, 0.8411952257156372, 0.8411952257156372, 0.8411952257156372, 0.8411952257156372, 0.8411952257156372, 0.8411952257156372, 0.8411952257156372, 0.8411952257156372, 0.8411952257156372, 0.8411952257156372, 0.8411952257156372, 0.8411952257156372, 0.8411952257156372, 0.8411952257156372, 0.8411952257156372, 0.8411952257156372, 0.8411952257156372, 0.8411952257156372, 2.370635747909546, 0.8411952257156372, 0.8411952257156372, 0.8411952257156372, 2.370638608932495, 0.8411952257156372, 23.52701187133789, 2.3706421852111816, 1.6059162616729736, 1.6059156656265259, 1.6059130430221558, 0.8411952257156372, 1.605918526649475, 0.8411952257156372, 0.8411952257156372, 0.8411952257156372, 0.8411952257156372, 0.8411952257156372, 0.8411952257156372, 0.8411952257156372, 19.62479019165039, 0.8411953449249268, 0.8411953449249268, 0.8411953449249268, 0.8411953449249268, 0.8411952257156372, 0.8411953449249268, 0.8411953449249268, 0.8411953449249268, 0.8411953449249268, 0.8411953449249268, 0.8411953449249268, 0.8411953449249268, 0.8411953449249268, 0.8411953449249268, 0.8411953449249268, 0.8411953449249268, 0.8411953449249268, 0.8411953449249268, 0.8411953449249268, 0.8411953449249268, 0.8411953449249268, 0.8411953449249268, 0.8411953449249268, 0.8411953449249268, 0.8411953449249268, 0.8411953449249268, 0.8411953449249268, 0.8411953449249268, 0.8411953449249268, 0.8411953449249268, 1.6059149503707886, 1.6059144735336304, 0.8411953449249268, 0.8411953449249268, 0.8411953449249268, 0.8411953449249268, 1.6059175729751587, 5.42946195602417, 2.3608453273773193, 0.8411952257156372, 2.3705790042877197, 0.8411953449249268, 3.8999321460723877, 3.8258519172668457, 1.6058837175369263, 1.605881690979004, 1.030726671218872, 0.8411952257156372, 0.6647199988365173, 0.6647200584411621, 0.6647200584411621, 0.6647200584411621, 0.6647200584411621, 0.6647200584411621, 0.6647200584411621, 0.6647200584411621, 0.6647200584411621, 0.6647199988365173, 0.6647199988365173, 0.6647199988365173, 0.6647199988365173, 0.6647199988365173, 0.6647199988365173, 0.6647199988365173, 0.6647199988365173, 0.6647199988365173, 0.6647199988365173, 0.6647199988365173, 0.6647199988365173, 0.6647199988365173, 0.6647199988365173, 0.6647199988365173, 0.6647199988365173, 0.6647200584411621, 0.6647199988365173, 0.6647200584411621, 0.6647200584411621, 0.6647199988365173, 0.6647200584411621, 0.6647200584411621, 0.6647200584411621, 0.6647200584411621, 0.6647200584411621, 0.6647200584411621, 0.6647199988365173, 0.6647200584411621, 0.6647200584411621, 0.6647200584411621, 0.6647199988365173, 0.6647199988365173, 0.6647199988365173, 6.191985130310059, 1.8733395338058472, 3.1703810691833496, 1.2690019607543945, 0.6647248268127441, 0.6647247076034546, 0.6647242903709412, 0.6647241115570068, 0.6647239923477173, 0.6647236347198486, 0.6647234559059143, 0.664722740650177, 0.6647219657897949, 0.6647207736968994, 0.6647204756736755, 0.6647202968597412], \"Total\": [20.0, 8.0, 20.0, 7.0, 49.0, 46.0, 8.0, 4.0, 21.0, 7.0, 3.0, 3.0, 3.0, 2.0, 5.0, 2.0, 2.0, 6.0, 3.0, 4.0, 8.0, 2.0, 4.0, 5.0, 3.0, 2.0, 2.0, 1.0, 1.0, 1.0, 1.9849034547805786, 1.9849034547805786, 1.9849034547805786, 1.3029719591140747, 1.3029719591140747, 1.3029719591140747, 1.3029719591140747, 1.3029719591140747, 1.3029719591140747, 1.3029719591140747, 1.3029719591140747, 1.3029719591140747, 1.3029719591140747, 1.3029719591140747, 1.3029719591140747, 1.3029719591140747, 1.3029719591140747, 1.3029719591140747, 1.3029719591140747, 1.3029719591140747, 1.3029719591140747, 1.3029719591140747, 1.3029719591140747, 1.3029719591140747, 1.3029719591140747, 1.3029719591140747, 1.3029719591140747, 1.3029719591140747, 1.3029718399047852, 1.3029718399047852, 4.737593173980713, 46.202796936035156, 49.68701934814453, 20.49477195739746, 4.006932258605957, 8.531244277954102, 5.098958492279053, 21.449268341064453, 6.04453706741333, 7.149632453918457, 20.80839729309082, 1.3029718399047852, 1.3029718399047852, 1.3029718399047852, 1.3029718399047852, 1.3029718399047852, 1.3029718399047852, 1.3029718399047852, 1.3029718399047852, 1.3029718399047852, 1.3029717206954956, 2.0676941871643066, 2.0676941871643066, 2.067694664001465, 2.067694664001465, 2.067694664001465, 2.696348190307617, 2.6963486671447754, 1.1052734851837158, 1.1052734851837158, 1.1052734851837158, 1.1052734851837158, 1.1052734851837158, 1.1052734851837158, 1.1052734851837158, 1.1052734851837158, 1.1052734851837158, 1.1052734851837158, 1.1052734851837158, 1.1052734851837158, 1.1052734851837158, 2.2181594371795654, 1.6991366147994995, 1.6991366147994995, 1.717376708984375, 1.7173779010772705, 1.7173817157745361, 1.739965796470642, 2.4820969104766846, 2.6345605850219727, 2.6347174644470215, 8.130849838256836, 3.9279894828796387, 4.668210983276367, 5.098958492279053, 6.441643714904785, 7.897747039794922, 20.49477195739746, 21.449268341064453, 49.68701934814453, 1.2331181764602661, 1.2331181764602661, 1.2331181764602661, 1.2331180572509766, 1.2331181764602661, 1.2331180572509766, 1.2331181764602661, 1.2331181764602661, 1.2331180572509766, 1.2331180572509766, 1.2331181764602661, 1.2331181764602661, 1.2331180572509766, 1.2331181764602661, 1.2331181764602661, 1.2331181764602661, 1.2331181764602661, 1.2331181764602661, 1.2331180572509766, 1.2331180572509766, 1.2331180572509766, 1.2331180572509766, 1.2331180572509766, 1.2331180572509766, 1.2331181764602661, 1.2331180572509766, 1.2331181764602661, 1.2331181764602661, 1.2331181764602661, 1.2331180572509766, 1.2331181764602661, 1.2331181764602661, 1.2331181764602661, 1.2331181764602661, 1.2331181764602661, 1.2331181764602661, 2.479888439178467, 4.668210983276367, 1.2331180572509766, 1.2331180572509766, 1.2331180572509766, 49.68701934814453, 6.04453706741333, 21.449268341064453, 8.130849838256836, 46.202796936035156, 2.6264939308166504, 2.5193400382995605, 4.209218502044678, 1.867810845375061, 1.8678107261657715, 1.8678107261657715, 1.8904253244400024, 1.2557326555252075, 1.255732774734497, 1.255732774734497, 1.255732774734497, 1.2557326555252075, 1.255732774734497, 1.2557326555252075, 1.255732774734497, 1.2557326555252075, 1.255732774734497, 1.255732774734497, 1.255732774734497, 1.2557326555252075, 1.2557326555252075, 1.2557326555252075, 1.255732774734497, 1.255732774734497, 1.2557326555252075, 1.2557326555252075, 1.255732774734497, 1.255732774734497, 1.2557326555252075, 1.2557326555252075, 1.255732774734497, 1.2557326555252075, 1.255732774734497, 1.255732774734497, 1.2557326555252075, 1.2557326555252075, 3.8798844814300537, 8.130849838256836, 20.80839729309082, 4.713491916656494, 46.202796936035156, 5.865626335144043, 21.449268341064453, 8.007884979248047, 49.68701934814453, 20.49477195739746, 2.7023863792419434, 2.6978378295898438, 2.7851779460906982, 3.772249698638916, 2.5374066829681396, 2.7851784229278564, 2.531527280807495, 3.3790411949157715, 1.8600239753723145, 1.884387731552124, 1.878349781036377, 1.2496949434280396, 1.2496949434280396, 1.2496949434280396, 1.24969482421875, 1.24969482421875, 1.2496949434280396, 1.24969482421875, 1.24969482421875, 1.24969482421875, 1.2496949434280396, 1.24969482421875, 1.24969482421875, 1.2496949434280396, 1.24969482421875, 1.2496949434280396, 1.24969482421875, 1.24969482421875, 1.24969482421875, 1.24969482421875, 1.24969482421875, 1.24969482421875, 1.24969482421875, 1.24969482421875, 1.24969482421875, 1.24969482421875, 1.24969482421875, 1.24969482421875, 1.2496949434280396, 1.24969482421875, 1.24969482421875, 1.2496949434280396, 1.2496949434280396, 1.2496949434280396, 1.2496949434280396, 1.24969482421875, 1.2496949434280396, 1.24969482421875, 1.2496949434280396, 1.2496949434280396, 1.24969482421875, 1.24969482421875, 1.2496949434280396, 20.49477195739746, 3.0842909812927246, 4.006932258605957, 46.202796936035156, 5.865626335144043, 7.897747039794922, 8.531244277954102, 20.80839729309082, 49.68701934814453, 2.696348190307617, 2.6963486671447754, 2.6187069416046143, 2.6264939308166504, 1.927078127861023, 1.9270778894424438, 1.927078127861023, 1.9270782470703125, 4.737593173980713, 3.772249698638916, 3.4610726833343506, 1.149588942527771, 1.149588942527771, 1.149588942527771, 1.149588942527771, 1.149588942527771, 1.149588942527771, 1.149588942527771, 1.149588942527771, 1.149588942527771, 1.149588942527771, 1.149588942527771, 1.149588942527771, 1.149588942527771, 1.149588942527771, 1.149588942527771, 1.149588942527771, 1.149588942527771, 1.149588942527771, 1.149588942527771, 1.149588942527771, 1.149588942527771, 1.149588942527771, 1.149588942527771, 1.149588942527771, 1.149588942527771, 1.149588942527771, 1.149588942527771, 2.3128294944763184, 2.442854881286621, 3.077545642852783, 20.49477195739746, 21.449268341064453, 49.68701934814453, 6.441643714904785, 3.772249698638916, 3.3609652519226074, 4.04804801940918, 1.8269715309143066, 3.4437570571899414, 3.9279894828796387, 1.7616668939590454, 4.668210983276367, 1.9758065938949585, 1.9758065938949585, 1.9758065938949585, 1.2984232902526855, 1.2984232902526855, 1.2984232902526855, 1.2984232902526855, 1.2984232902526855, 1.2984232902526855, 1.2984232902526855, 1.2984232902526855, 1.2984232902526855, 1.2984232902526855, 1.2984232902526855, 1.2984232902526855, 1.2984232902526855, 1.2984232902526855, 1.2984232902526855, 1.2984232902526855, 1.2984232902526855, 1.2984232902526855, 1.2984235286712646, 1.2984235286712646, 1.2984232902526855, 1.2984232902526855, 1.2984232902526855, 1.2984232902526855, 1.2984232902526855, 1.2984232902526855, 1.2984232902526855, 1.2984232902526855, 1.2984232902526855, 1.2984232902526855, 1.2984232902526855, 1.298423409461975, 1.298423409461975, 1.298423409461975, 1.298423409461975, 1.298423409461975, 1.298423409461975, 1.298423409461975, 1.298423409461975, 1.298423409461975, 1.298423409461975, 1.298423409461975, 1.298423409461975, 1.298423409461975, 1.298423409461975, 1.298423409461975, 1.298423409461975, 1.298423409461975, 1.298423409461975, 20.80839729309082, 21.449268341064453, 3.344818592071533, 3.8798844814300537, 8.531244277954102, 4.713491916656494, 46.202796936035156, 49.68701934814453, 20.49477195739746, 2.0631461143493652, 2.0631461143493652, 2.0631461143493652, 2.6978378295898438, 2.0631461143493652, 2.6090099811553955, 1.980355143547058, 1.8087663650512695, 1.80876624584198, 1.80876624584198, 1.80876624584198, 1.2149031162261963, 1.2149031162261963, 1.2149031162261963, 1.2149031162261963, 1.2149031162261963, 1.2149031162261963, 1.2149031162261963, 1.2149031162261963, 1.2149031162261963, 1.2149031162261963, 1.2149031162261963, 1.2149031162261963, 1.2149031162261963, 1.2149031162261963, 1.2149031162261963, 1.2149031162261963, 1.2149031162261963, 1.2149031162261963, 1.2149031162261963, 1.2149031162261963, 1.2149031162261963, 1.2149031162261963, 1.2149031162261963, 1.2149031162261963, 1.2149031162261963, 1.2149031162261963, 7.897747039794922, 1.2149031162261963, 5.098958492279053, 49.68701934814453, 20.80839729309082, 7.149632453918457, 46.202796936035156, 21.449268341064453, 6.441643714904785, 1.896834373474121, 2.5742177963256836, 3.3790411949157715, 1.8968346118927002, 1.8968346118927002, 1.8968346118927002, 1.8968346118927002, 2.531527280807495, 1.6991366147994995, 1.6991366147994995, 1.8495957851409912, 2.9152090549468994, 8.007884979248047, 2.1504859924316406, 2.1504859924316406, 2.127002716064453, 3.4437570571899414, 3.5925912857055664, 2.6347174644470215, 2.6345605850219727, 1.3857629299163818, 1.3857629299163818, 1.3857629299163818, 1.3857629299163818, 1.3857629299163818, 1.3857629299163818, 1.3857629299163818, 1.3857629299163818, 1.3857629299163818, 1.3857629299163818, 1.3857629299163818, 1.3857629299163818, 1.3857629299163818, 1.3857629299163818, 1.3857629299163818, 1.3857629299163818, 1.3857629299163818, 1.3857629299163818, 1.3857629299163818, 1.3857629299163818, 1.3857629299163818, 3.9279894828796387, 1.3857629299163818, 1.3857629299163818, 1.3857629299163818, 4.04804801940918, 1.3857629299163818, 46.202796936035156, 4.209218502044678, 2.7851767539978027, 2.7851784229278564, 2.7851779460906982, 1.3857629299163818, 2.8324179649353027, 1.3857629299163818, 1.3857629299163818, 1.3857629299163818, 1.3857629299163818, 1.3857629299163818, 1.3857629299163818, 1.3857629299163818, 49.68701934814453, 1.385763168334961, 1.385763168334961, 1.385763168334961, 1.385763168334961, 1.3857629299163818, 1.385763168334961, 1.385763168334961, 1.385763168334961, 1.385763168334961, 1.385763168334961, 1.385763168334961, 1.385763168334961, 1.385763168334961, 1.385763168334961, 1.385763168334961, 1.385763168334961, 1.385763168334961, 1.385763168334961, 1.385763168334961, 1.385763168334961, 1.385763168334961, 1.385763168334961, 1.385763168334961, 1.385763168334961, 1.385763168334961, 1.385763168334961, 1.385763168334961, 1.385763168334961, 1.385763168334961, 1.385763168334961, 3.3609652519226074, 3.3790411949157715, 1.385763168334961, 1.385763168334961, 1.385763168334961, 1.385763168334961, 3.4610726833343506, 20.80839729309082, 6.441643714904785, 1.3857630491256714, 8.130849838256836, 1.385763168334961, 20.49477195739746, 21.449268341064453, 6.04453706741333, 7.149632453918457, 4.713491916656494, 1.3857630491256714, 1.2253310680389404, 1.2253310680389404, 1.2253310680389404, 1.2253310680389404, 1.2253310680389404, 1.2253310680389404, 1.2253310680389404, 1.2253310680389404, 1.2253310680389404, 1.2253310680389404, 1.2253310680389404, 1.2253310680389404, 1.2253310680389404, 1.2253310680389404, 1.2253310680389404, 1.2253310680389404, 1.2253310680389404, 1.2253310680389404, 1.2253310680389404, 1.2253310680389404, 1.2253310680389404, 1.2253310680389404, 1.2253310680389404, 1.2253310680389404, 1.2253310680389404, 1.2253310680389404, 1.2253310680389404, 1.2253310680389404, 1.2253310680389404, 1.2253310680389404, 1.2253310680389404, 1.2253310680389404, 1.2253310680389404, 1.2253310680389404, 1.2253310680389404, 1.2253310680389404, 1.2253310680389404, 1.2253310680389404, 1.2253310680389404, 1.2253310680389404, 1.2253310680389404, 1.2253310680389404, 1.2253310680389404, 49.68701934814453, 7.149632453918457, 46.202796936035156, 21.449268341064453, 1.9900529384613037, 1.9900529384613037, 1.9072623252868652, 1.9900530576705933, 1.9900530576705933, 2.5193400382995605, 2.6187069416046143, 2.5374066829681396, 3.344818592071533, 1.9072628021240234, 1.8600237369537354, 1.8600237369537354], \"Category\": [\"Default\", \"Default\", \"Default\", \"Default\", \"Default\", \"Default\", \"Default\", \"Default\", \"Default\", \"Default\", \"Default\", \"Default\", \"Default\", \"Default\", \"Default\", \"Default\", \"Default\", \"Default\", \"Default\", \"Default\", \"Default\", \"Default\", \"Default\", \"Default\", \"Default\", \"Default\", \"Default\", \"Default\", \"Default\", \"Default\", \"Topic1\", \"Topic1\", \"Topic1\", \"Topic1\", \"Topic1\", \"Topic1\", \"Topic1\", \"Topic1\", \"Topic1\", \"Topic1\", \"Topic1\", \"Topic1\", \"Topic1\", \"Topic1\", \"Topic1\", \"Topic1\", \"Topic1\", \"Topic1\", \"Topic1\", \"Topic1\", \"Topic1\", \"Topic1\", \"Topic1\", \"Topic1\", \"Topic1\", \"Topic1\", \"Topic1\", \"Topic1\", \"Topic1\", \"Topic1\", \"Topic1\", \"Topic1\", \"Topic1\", \"Topic1\", \"Topic1\", \"Topic1\", \"Topic1\", \"Topic1\", \"Topic1\", \"Topic1\", \"Topic1\", \"Topic1\", \"Topic1\", \"Topic1\", \"Topic1\", \"Topic1\", \"Topic1\", \"Topic1\", \"Topic1\", \"Topic1\", \"Topic1\", \"Topic1\", \"Topic1\", \"Topic1\", \"Topic1\", \"Topic1\", \"Topic1\", \"Topic1\", \"Topic2\", \"Topic2\", \"Topic2\", \"Topic2\", \"Topic2\", \"Topic2\", \"Topic2\", \"Topic2\", \"Topic2\", \"Topic2\", \"Topic2\", \"Topic2\", \"Topic2\", \"Topic2\", \"Topic2\", \"Topic2\", \"Topic2\", \"Topic2\", \"Topic2\", \"Topic2\", \"Topic2\", \"Topic2\", \"Topic2\", \"Topic2\", \"Topic2\", \"Topic2\", \"Topic2\", \"Topic2\", \"Topic2\", \"Topic2\", \"Topic2\", \"Topic2\", \"Topic3\", \"Topic3\", \"Topic3\", \"Topic3\", \"Topic3\", \"Topic3\", \"Topic3\", \"Topic3\", \"Topic3\", \"Topic3\", \"Topic3\", \"Topic3\", \"Topic3\", \"Topic3\", \"Topic3\", \"Topic3\", \"Topic3\", \"Topic3\", \"Topic3\", \"Topic3\", \"Topic3\", \"Topic3\", \"Topic3\", \"Topic3\", \"Topic3\", \"Topic3\", \"Topic3\", \"Topic3\", \"Topic3\", \"Topic3\", \"Topic3\", \"Topic3\", \"Topic3\", \"Topic3\", \"Topic3\", \"Topic3\", \"Topic3\", \"Topic3\", \"Topic3\", \"Topic3\", \"Topic3\", \"Topic3\", \"Topic3\", \"Topic3\", \"Topic3\", \"Topic3\", \"Topic3\", \"Topic3\", \"Topic3\", \"Topic3\", \"Topic3\", \"Topic3\", \"Topic4\", \"Topic4\", \"Topic4\", \"Topic4\", \"Topic4\", \"Topic4\", \"Topic4\", \"Topic4\", \"Topic4\", \"Topic4\", \"Topic4\", \"Topic4\", \"Topic4\", \"Topic4\", \"Topic4\", \"Topic4\", \"Topic4\", \"Topic4\", \"Topic4\", \"Topic4\", \"Topic4\", \"Topic4\", \"Topic4\", \"Topic4\", \"Topic4\", \"Topic4\", \"Topic4\", \"Topic4\", \"Topic4\", \"Topic4\", \"Topic4\", \"Topic4\", \"Topic4\", \"Topic4\", \"Topic4\", \"Topic4\", \"Topic4\", \"Topic4\", \"Topic4\", \"Topic4\", \"Topic4\", \"Topic4\", \"Topic4\", \"Topic4\", \"Topic4\", \"Topic4\", \"Topic4\", \"Topic4\", \"Topic4\", \"Topic4\", \"Topic5\", \"Topic5\", \"Topic5\", \"Topic5\", \"Topic5\", \"Topic5\", \"Topic5\", \"Topic5\", \"Topic5\", \"Topic5\", \"Topic5\", \"Topic5\", \"Topic5\", \"Topic5\", \"Topic5\", \"Topic5\", \"Topic5\", \"Topic5\", \"Topic5\", \"Topic5\", \"Topic5\", \"Topic5\", \"Topic5\", \"Topic5\", \"Topic5\", \"Topic5\", \"Topic5\", \"Topic5\", \"Topic5\", \"Topic5\", \"Topic5\", \"Topic5\", \"Topic5\", \"Topic5\", \"Topic5\", \"Topic5\", \"Topic5\", \"Topic5\", \"Topic5\", \"Topic5\", \"Topic5\", \"Topic5\", \"Topic5\", \"Topic5\", \"Topic5\", \"Topic5\", \"Topic5\", \"Topic5\", \"Topic5\", \"Topic5\", \"Topic5\", \"Topic5\", \"Topic5\", \"Topic5\", \"Topic5\", \"Topic5\", \"Topic5\", \"Topic5\", \"Topic5\", \"Topic5\", \"Topic5\", \"Topic5\", \"Topic5\", \"Topic6\", \"Topic6\", \"Topic6\", \"Topic6\", \"Topic6\", \"Topic6\", \"Topic6\", \"Topic6\", \"Topic6\", \"Topic6\", \"Topic6\", \"Topic6\", \"Topic6\", \"Topic6\", \"Topic6\", \"Topic6\", \"Topic6\", \"Topic6\", \"Topic6\", \"Topic6\", \"Topic6\", \"Topic6\", \"Topic6\", \"Topic6\", \"Topic6\", \"Topic6\", \"Topic6\", \"Topic6\", \"Topic6\", \"Topic6\", \"Topic6\", \"Topic6\", \"Topic6\", \"Topic6\", \"Topic6\", \"Topic6\", \"Topic6\", \"Topic6\", \"Topic6\", \"Topic6\", \"Topic6\", \"Topic6\", \"Topic7\", \"Topic7\", \"Topic7\", \"Topic7\", \"Topic7\", \"Topic7\", \"Topic7\", \"Topic7\", \"Topic7\", \"Topic7\", \"Topic7\", \"Topic7\", \"Topic7\", \"Topic7\", \"Topic7\", \"Topic7\", \"Topic7\", \"Topic7\", \"Topic7\", \"Topic7\", \"Topic7\", \"Topic7\", \"Topic7\", \"Topic7\", \"Topic7\", \"Topic7\", \"Topic7\", \"Topic7\", \"Topic7\", \"Topic7\", \"Topic7\", \"Topic7\", \"Topic7\", \"Topic7\", \"Topic7\", \"Topic7\", \"Topic7\", \"Topic7\", \"Topic7\", \"Topic7\", \"Topic7\", \"Topic7\", \"Topic7\", \"Topic7\", \"Topic7\", \"Topic7\", \"Topic7\", \"Topic7\", \"Topic7\", \"Topic7\", \"Topic7\", \"Topic7\", \"Topic7\", \"Topic7\", \"Topic7\", \"Topic7\", \"Topic7\", \"Topic7\", \"Topic7\", \"Topic7\", \"Topic7\", \"Topic7\", \"Topic7\", \"Topic7\", \"Topic7\", \"Topic7\", \"Topic7\", \"Topic7\", \"Topic8\", \"Topic8\", \"Topic8\", \"Topic8\", \"Topic8\", \"Topic8\", \"Topic8\", \"Topic8\", \"Topic8\", \"Topic8\", \"Topic8\", \"Topic8\", \"Topic8\", \"Topic8\", \"Topic8\", \"Topic8\", \"Topic8\", \"Topic8\", \"Topic8\", \"Topic8\", \"Topic8\", \"Topic8\", \"Topic8\", \"Topic8\", \"Topic8\", \"Topic8\", \"Topic8\", \"Topic8\", \"Topic8\", \"Topic8\", \"Topic8\", \"Topic8\", \"Topic8\", \"Topic8\", \"Topic8\", \"Topic8\", \"Topic8\", \"Topic8\", \"Topic8\", \"Topic8\", \"Topic8\", \"Topic8\", \"Topic8\", \"Topic8\", \"Topic8\", \"Topic8\", \"Topic8\", \"Topic8\", \"Topic8\", \"Topic8\", \"Topic9\", \"Topic9\", \"Topic9\", \"Topic9\", \"Topic9\", \"Topic9\", \"Topic9\", \"Topic9\", \"Topic9\", \"Topic9\", \"Topic9\", \"Topic9\", \"Topic9\", \"Topic9\", \"Topic9\", \"Topic9\", \"Topic9\", \"Topic9\", \"Topic9\", \"Topic9\", \"Topic9\", \"Topic9\", \"Topic9\", \"Topic9\", \"Topic9\", \"Topic9\", \"Topic9\", \"Topic9\", \"Topic9\", \"Topic9\", \"Topic9\", \"Topic9\", \"Topic9\", \"Topic9\", \"Topic9\", \"Topic9\", \"Topic9\", \"Topic9\", \"Topic9\", \"Topic9\", \"Topic9\", \"Topic9\", \"Topic9\", \"Topic9\", \"Topic9\", \"Topic9\", \"Topic9\", \"Topic9\", \"Topic9\", \"Topic9\", \"Topic9\", \"Topic9\", \"Topic9\", \"Topic9\", \"Topic9\", \"Topic9\", \"Topic9\", \"Topic9\", \"Topic9\", \"Topic9\", \"Topic9\", \"Topic9\", \"Topic9\", \"Topic9\", \"Topic9\", \"Topic9\", \"Topic9\", \"Topic9\", \"Topic9\", \"Topic9\", \"Topic9\", \"Topic9\", \"Topic9\", \"Topic9\", \"Topic9\", \"Topic9\", \"Topic9\", \"Topic9\", \"Topic9\", \"Topic9\", \"Topic9\", \"Topic9\", \"Topic9\", \"Topic9\", \"Topic9\", \"Topic9\", \"Topic9\", \"Topic9\", \"Topic9\", \"Topic9\", \"Topic9\", \"Topic9\", \"Topic9\", \"Topic9\", \"Topic9\", \"Topic9\", \"Topic9\", \"Topic9\", \"Topic9\", \"Topic10\", \"Topic10\", \"Topic10\", \"Topic10\", \"Topic10\", \"Topic10\", \"Topic10\", \"Topic10\", \"Topic10\", \"Topic10\", \"Topic10\", \"Topic10\", \"Topic10\", \"Topic10\", \"Topic10\", \"Topic10\", \"Topic10\", \"Topic10\", \"Topic10\", \"Topic10\", \"Topic10\", \"Topic10\", \"Topic10\", \"Topic10\", \"Topic10\", \"Topic10\", \"Topic10\", \"Topic10\", \"Topic10\", \"Topic10\", \"Topic10\", \"Topic10\", \"Topic10\", \"Topic10\", \"Topic10\", \"Topic10\", \"Topic10\", \"Topic10\", \"Topic10\", \"Topic10\", \"Topic10\", \"Topic10\", \"Topic10\", \"Topic10\", \"Topic10\", \"Topic10\", \"Topic10\", \"Topic10\", \"Topic10\", \"Topic10\", \"Topic10\", \"Topic10\", \"Topic10\", \"Topic10\", \"Topic10\", \"Topic10\", \"Topic10\", \"Topic10\", \"Topic10\"], \"logprob\": [30.0, 29.0, 28.0, 27.0, 26.0, 25.0, 24.0, 23.0, 22.0, 21.0, 20.0, 19.0, 18.0, 17.0, 16.0, 15.0, 14.0, 13.0, 12.0, 11.0, 10.0, 9.0, 8.0, 7.0, 6.0, 5.0, 4.0, 3.0, 2.0, 1.0, -4.535699844360352, -4.535699844360352, -4.535699844360352, -5.182300090789795, -5.182300090789795, -5.182300090789795, -5.182300090789795, -5.182300090789795, -5.182300090789795, -5.182300090789795, -5.182300090789795, -5.182300090789795, -5.182300090789795, -5.182300090789795, -5.182300090789795, -5.182300090789795, -5.182300090789795, -5.182300090789795, -5.182300090789795, -5.182300090789795, -5.182300090789795, -5.182300090789795, -5.182300090789795, -5.182300090789795, -5.182300090789795, -5.182300090789795, -5.182300090789795, -5.182300090789795, -5.182300090789795, -5.182300090789795, -4.146200180053711, -2.870500087738037, -2.870500087738037, -3.4693000316619873, -4.535699844360352, -4.146200180053711, -4.535699844360352, -3.8666000366210938, -4.535699844360352, -4.535699844360352, -4.535699844360352, -5.182300090789795, -5.182300090789795, -5.182300090789795, -5.182300090789795, -5.182300090789795, -5.182300090789795, -5.182300090789795, -5.182300090789795, -5.182300090789795, -5.182300090789795, -5.182300090789795, -5.182300090789795, -5.182300090789795, -5.182300090789795, -5.182300090789795, -5.182300090789795, -5.182300090789795, -4.4679999351501465, -4.4679999351501465, -4.4679999351501465, -4.4679999351501465, -4.4679999351501465, -4.4679999351501465, -4.4679999351501465, -4.4679999351501465, -4.4679999351501465, -4.4679999351501465, -4.4679999351501465, -4.4679999351501465, -4.4679999351501465, -3.8213999271392822, -4.4679999351501465, -4.4679999351501465, -4.4679999351501465, -4.4679999351501465, -4.4679999351501465, -4.4679999351501465, -4.4679999351501465, -4.4679999351501465, -4.4679999351501465, -3.4319000244140625, -4.4679999351501465, -4.4679999351501465, -4.4679999351501465, -4.4679999351501465, -4.4679999351501465, -3.8213999271392822, -3.8213000297546387, -3.8213999271392822, -4.82390022277832, -4.82390022277832, -4.82390022277832, -4.82390022277832, -4.82390022277832, -4.82390022277832, -4.82390022277832, -4.82390022277832, -4.82390022277832, -4.82390022277832, -4.82390022277832, -4.82390022277832, -4.82390022277832, -4.82390022277832, -4.82390022277832, -4.82390022277832, -4.82390022277832, -4.82390022277832, -4.82390022277832, -4.82390022277832, -4.82390022277832, -4.82390022277832, -4.82390022277832, -4.82390022277832, -4.82390022277832, -4.82390022277832, -4.82390022277832, -4.82390022277832, -4.82390022277832, -4.82390022277832, -4.82390022277832, -4.82390022277832, -4.82390022277832, -4.82390022277832, -4.82390022277832, -4.82390022277832, -4.177299976348877, -3.7878000736236572, -4.82390022277832, -4.82390022277832, -4.82390022277832, -2.7109999656677246, -4.177299976348877, -3.7880001068115234, -4.177499771118164, -4.177299976348877, -4.82390022277832, -4.82390022277832, -4.82390022277832, -4.82390022277832, -4.82390022277832, -4.82390022277832, -4.2546000480651855, -4.901199817657471, -4.901199817657471, -4.901199817657471, -4.901199817657471, -4.901199817657471, -4.901199817657471, -4.901199817657471, -4.901199817657471, -4.901199817657471, -4.901199817657471, -4.901199817657471, -4.901199817657471, -4.901199817657471, -4.901199817657471, -4.901199817657471, -4.901199817657471, -4.901199817657471, -4.901199817657471, -4.901199817657471, -4.901199817657471, -4.901199817657471, -4.901199817657471, -4.901199817657471, -4.901199817657471, -4.901199817657471, -4.901199817657471, -4.901199817657471, -4.901199817657471, -4.901199817657471, -3.8650999069213867, -3.585599899291992, -3.367300033569336, -4.2546000480651855, -3.1882998943328857, -4.254700183868408, -3.8650999069213867, -4.254799842834473, -3.8652000427246094, -4.2546000480651855, -4.901199817657471, -4.901199817657471, -4.901199817657471, -4.901199817657471, -4.901199817657471, -4.901199817657471, -4.901199817657471, -4.901199817657471, -4.901199817657471, -4.901199817657471, -4.281300067901611, -4.9278998374938965, -4.9278998374938965, -4.9278998374938965, -4.9278998374938965, -4.9278998374938965, -4.9278998374938965, -4.9278998374938965, -4.9278998374938965, -4.9278998374938965, -4.9278998374938965, -4.9278998374938965, -4.9278998374938965, -4.9278998374938965, -4.9278998374938965, -4.9278998374938965, -4.9278998374938965, -4.9278998374938965, -4.9278998374938965, -4.9278998374938965, -4.9278998374938965, -4.9278998374938965, -4.9278998374938965, -4.9278998374938965, -4.9278998374938965, -4.9278998374938965, -4.9278998374938965, -4.9278998374938965, -4.9278998374938965, -4.9278998374938965, -4.9278998374938965, -4.9278998374938965, -4.9278998374938965, -4.9278998374938965, -4.9278998374938965, -4.9278998374938965, -4.9278998374938965, -4.9278998374938965, -4.9278998374938965, -4.9278998374938965, -4.9278998374938965, -4.9278998374938965, -4.9278998374938965, -2.8148999214172363, -4.281300067901611, -4.281300067901611, -3.393899917602539, -4.281199932098389, -4.281300067901611, -4.281300067901611, -4.281199932098389, -4.281400203704834, -4.9278998374938965, -4.9278998374938965, -4.9278998374938965, -4.9278998374938965, -4.9278998374938965, -4.9278998374938965, -4.9278998374938965, -4.9278998374938965, -4.9278998374938965, -4.9278998374938965, -4.9278998374938965, -4.576600074768066, -4.576600074768066, -4.576600074768066, -4.576600074768066, -4.576600074768066, -4.576600074768066, -4.576600074768066, -4.576600074768066, -4.576600074768066, -4.576600074768066, -4.576600074768066, -4.576600074768066, -4.576600074768066, -4.576600074768066, -4.576600074768066, -4.576600074768066, -4.576600074768066, -4.576600074768066, -4.576600074768066, -4.576600074768066, -4.576600074768066, -4.576600074768066, -4.576600074768066, -4.576600074768066, -4.576600074768066, -4.576600074768066, -4.576600074768066, -3.930000066757202, -3.9298999309539795, -3.9298999309539795, -3.2609000205993652, -3.9298999309539795, -3.930000066757202, -4.576600074768066, -4.576600074768066, -4.576600074768066, -4.576600074768066, -4.576600074768066, -4.576600074768066, -4.576600074768066, -4.576600074768066, -4.576600074768066, -4.462100028991699, -4.462100028991699, -4.462100028991699, -5.108699798583984, -5.108699798583984, -5.108699798583984, -5.108699798583984, -5.108699798583984, -5.108699798583984, -5.108699798583984, -5.108699798583984, -5.108699798583984, -5.108699798583984, -5.108699798583984, -5.108699798583984, -5.108699798583984, -5.108699798583984, -5.108699798583984, -5.108699798583984, -5.108699798583984, -5.108699798583984, -5.108699798583984, -5.108699798583984, -5.108699798583984, -5.108699798583984, -5.108699798583984, -5.108699798583984, -5.108699798583984, -5.108699798583984, -5.108699798583984, -5.108699798583984, -5.108699798583984, -5.108699798583984, -5.108699798583984, -5.108699798583984, -5.108699798583984, -5.108699798583984, -5.108699798583984, -5.108699798583984, -5.108699798583984, -5.108699798583984, -5.108699798583984, -5.108699798583984, -5.108699798583984, -5.108699798583984, -5.108699798583984, -5.108699798583984, -5.108699798583984, -5.108699798583984, -5.108699798583984, -5.108699798583984, -5.108699798583984, -2.8914999961853027, -2.995699882507324, -4.462100028991699, -4.462100028991699, -4.0725998878479, -4.587699890136719, -4.024899959564209, -4.016499996185303, -4.462100028991699, -5.108699798583984, -5.108699798583984, -5.108699798583984, -5.108699798583984, -5.108699798583984, -5.108699798583984, -5.108699798583984, -4.134300231933594, -4.134300231933594, -4.134300231933594, -4.134300231933594, -4.780900001525879, -4.780900001525879, -4.780900001525879, -4.780900001525879, -4.780900001525879, -4.780900001525879, -4.780900001525879, -4.780900001525879, -4.780900001525879, -4.780900001525879, -4.780900001525879, -4.780900001525879, -4.780900001525879, -4.780900001525879, -4.780900001525879, -4.780900001525879, -4.780900001525879, -4.780900001525879, -4.780900001525879, -4.780900001525879, -4.780900001525879, -4.780900001525879, -4.780900001525879, -4.780900001525879, -4.780900001525879, -4.780900001525879, -3.06850004196167, -4.780900001525879, -4.134300231933594, -3.225600004196167, -3.744800090789795, -4.134300231933594, -4.1178998947143555, -4.696599960327148, -4.780900001525879, -4.780900001525879, -4.780900001525879, -4.780900001525879, -4.780900001525879, -4.780900001525879, -4.780900001525879, -4.780900001525879, -4.780900001525879, -4.780900001525879, -4.780900001525879, -4.780900001525879, -4.658899784088135, -3.698899984359741, -5.048399925231934, -5.048399925231934, -5.12060022354126, -4.658899784088135, -4.658899784088135, -5.048399925231934, -5.049300193786621, -5.695000171661377, -5.695000171661377, -5.695000171661377, -5.695000171661377, -5.695000171661377, -5.695000171661377, -5.695000171661377, -5.695000171661377, -5.695000171661377, -5.695000171661377, -5.695000171661377, -5.695000171661377, -5.695000171661377, -5.695000171661377, -5.695000171661377, -5.695000171661377, -5.695000171661377, -5.695000171661377, -5.695000171661377, -5.695000171661377, -5.695000171661377, -4.658899784088135, -5.695000171661377, -5.695000171661377, -5.695000171661377, -4.658899784088135, -5.695000171661377, -2.3638999462127686, -4.658899784088135, -5.048399925231934, -5.048399925231934, -5.048399925231934, -5.695000171661377, -5.048399925231934, -5.695000171661377, -5.695000171661377, -5.695000171661377, -5.695000171661377, -5.695000171661377, -5.695000171661377, -5.695000171661377, -2.545300006866455, -5.695000171661377, -5.695000171661377, -5.695000171661377, -5.695000171661377, -5.695000171661377, -5.695000171661377, -5.695000171661377, -5.695000171661377, -5.695000171661377, -5.695000171661377, -5.695000171661377, -5.695000171661377, -5.695000171661377, -5.695000171661377, -5.695000171661377, -5.695000171661377, -5.695000171661377, -5.695000171661377, -5.695000171661377, -5.695000171661377, -5.695000171661377, -5.695000171661377, -5.695000171661377, -5.695000171661377, -5.695000171661377, -5.695000171661377, -5.695000171661377, -5.695000171661377, -5.695000171661377, -5.695000171661377, -5.048399925231934, -5.048399925231934, -5.695000171661377, -5.695000171661377, -5.695000171661377, -5.695000171661377, -5.048399925231934, -3.830199956893921, -4.663099765777588, -5.695000171661377, -4.658899784088135, -5.695000171661377, -4.161099910736084, -4.180300235748291, -5.048399925231934, -5.048399925231934, -5.491799831390381, -5.695000171661377, -4.827099800109863, -4.827099800109863, -4.827099800109863, -4.827099800109863, -4.827099800109863, -4.827099800109863, -4.827099800109863, -4.827099800109863, -4.827099800109863, -4.827099800109863, -4.827099800109863, -4.827099800109863, -4.827099800109863, -4.827099800109863, -4.827099800109863, -4.827099800109863, -4.827099800109863, -4.827099800109863, -4.827099800109863, -4.827099800109863, -4.827099800109863, -4.827099800109863, -4.827099800109863, -4.827099800109863, -4.827099800109863, -4.827099800109863, -4.827099800109863, -4.827099800109863, -4.827099800109863, -4.827099800109863, -4.827099800109863, -4.827099800109863, -4.827099800109863, -4.827099800109863, -4.827099800109863, -4.827099800109863, -4.827099800109863, -4.827099800109863, -4.827099800109863, -4.827099800109863, -4.827099800109863, -4.827099800109863, -4.827099800109863, -2.5954999923706055, -3.7909998893737793, -3.264899969100952, -4.180500030517578, -4.827099800109863, -4.827099800109863, -4.827099800109863, -4.827099800109863, -4.827099800109863, -4.827099800109863, -4.827099800109863, -4.827099800109863, -4.827099800109863, -4.827099800109863, -4.827099800109863, -4.827099800109863], \"loglift\": [30.0, 29.0, 28.0, 27.0, 26.0, 25.0, 24.0, 23.0, 22.0, 21.0, 20.0, 19.0, 18.0, 17.0, 16.0, 15.0, 14.0, 13.0, 12.0, 11.0, 10.0, 9.0, 8.0, 7.0, 6.0, 5.0, 4.0, 3.0, 2.0, 1.0, 1.7295000553131104, 1.7295000553131104, 1.7295000553131104, 1.5038000345230103, 1.5038000345230103, 1.5038000345230103, 1.5038000345230103, 1.5038000345230103, 1.5038000345230103, 1.5038000345230103, 1.5038000345230103, 1.5038000345230103, 1.5038000345230103, 1.5038000345230103, 1.5038000345230103, 1.5038000345230103, 1.5038000345230103, 1.5038000345230103, 1.5038000345230103, 1.5038000345230103, 1.5038000345230103, 1.5038000345230103, 1.5038000345230103, 1.5038000345230103, 1.5038000345230103, 1.5038000345230103, 1.5038000345230103, 1.5038000345230103, 1.5038000345230103, 1.5038000345230103, 1.2490999698638916, 0.24729999899864197, 0.1746000051498413, 0.46129998564720154, 1.0270999670028687, 0.6608999967575073, 0.7860999703407288, 0.01850000023841858, 0.6159999966621399, 0.4481000006198883, -0.6202999949455261, 1.5038000345230103, 1.5038000345230103, 1.5038000345230103, 1.5038000345230103, 1.5038000345230103, 1.5038000345230103, 1.5038000345230103, 1.5038000345230103, 1.5038000345230103, 1.5038000345230103, 1.042099952697754, 1.042099952697754, 1.042099952697754, 1.042099952697754, 1.042099952697754, 0.7766000032424927, 0.7766000032424927, 2.382699966430664, 2.382699966430664, 2.382699966430664, 2.382699966430664, 2.382699966430664, 2.382699966430664, 2.382699966430664, 2.382699966430664, 2.382699966430664, 2.382699966430664, 2.382699966430664, 2.382699966430664, 2.382699966430664, 2.3327999114990234, 1.9527000188827515, 1.9527000188827515, 1.9420000314712524, 1.9420000314712524, 1.9420000314712524, 1.9290000200271606, 1.573699951171875, 1.5140999555587769, 1.5140000581741333, 1.42330002784729, 1.1146999597549438, 0.9419999718666077, 0.8537999987602234, 0.6201000213623047, 0.41620001196861267, 0.10930000245571136, 0.06379999965429306, -0.7763000130653381, 1.9174000024795532, 1.9174000024795532, 1.9174000024795532, 1.9174000024795532, 1.9174000024795532, 1.9174000024795532, 1.9174000024795532, 1.9174000024795532, 1.9174000024795532, 1.9174000024795532, 1.9174000024795532, 1.9174000024795532, 1.9174000024795532, 1.9174000024795532, 1.9174000024795532, 1.9174000024795532, 1.9174000024795532, 1.9174000024795532, 1.9174000024795532, 1.9174000024795532, 1.9174000024795532, 1.9174000024795532, 1.9174000024795532, 1.9174000024795532, 1.9174000024795532, 1.9174000024795532, 1.9174000024795532, 1.9174000024795532, 1.9174000024795532, 1.9174000024795532, 1.9174000024795532, 1.9174000024795532, 1.9174000024795532, 1.9174000024795532, 1.9174000024795532, 1.9174000024795532, 1.8653000593185425, 1.6222000122070312, 1.9174000024795532, 1.9174000024795532, 1.9174000024795532, 0.33410000801086426, 0.974399983882904, 0.09709999710321426, 0.6776000261306763, -1.0595999956130981, 1.1612999439239502, 1.2029000520706177, 0.6895999908447266, 1.5020999908447266, 1.5020999908447266, 1.5020999908447266, 2.0594000816345215, 1.8219000101089478, 1.8219000101089478, 1.8219000101089478, 1.8219000101089478, 1.8219000101089478, 1.8219000101089478, 1.8219000101089478, 1.8219000101089478, 1.8219000101089478, 1.8219000101089478, 1.8219000101089478, 1.8219000101089478, 1.8219000101089478, 1.8219000101089478, 1.8219000101089478, 1.8219000101089478, 1.8219000101089478, 1.8219000101089478, 1.8219000101089478, 1.8219000101089478, 1.8219000101089478, 1.8219000101089478, 1.8219000101089478, 1.8219000101089478, 1.8219000101089478, 1.8219000101089478, 1.8219000101089478, 1.8219000101089478, 1.8219000101089478, 1.7299000024795532, 1.2696000337600708, 0.5480999946594238, 1.145799994468689, -0.07050000131130219, 0.9269999861717224, 0.019999999552965164, 0.6155999898910522, -0.8201000094413757, -0.3239000141620636, 1.0555000305175781, 1.0571999549865723, 1.0253000259399414, 0.7218999862670898, 1.118499994277954, 1.0253000259399414, 1.1208000183105469, 0.8320000171661377, 1.4290000200271606, 1.4160000085830688, 2.039099931716919, 1.7999999523162842, 1.7999999523162842, 1.7999999523162842, 1.7999999523162842, 1.7999999523162842, 1.7999999523162842, 1.7999999523162842, 1.7999999523162842, 1.7999999523162842, 1.7999999523162842, 1.7999999523162842, 1.7999999523162842, 1.7999999523162842, 1.7999999523162842, 1.7999999523162842, 1.7999999523162842, 1.7999999523162842, 1.7999999523162842, 1.7999999523162842, 1.7999999523162842, 1.7999999523162842, 1.7999999523162842, 1.7999999523162842, 1.7999999523162842, 1.7999999523162842, 1.7999999523162842, 1.7999999523162842, 1.7999999523162842, 1.7999999523162842, 1.7999999523162842, 1.7999999523162842, 1.7999999523162842, 1.7999999523162842, 1.7999999523162842, 1.7999999523162842, 1.7999999523162842, 1.7999999523162842, 1.7999999523162842, 1.7999999523162842, 1.7999999523162842, 1.7999999523162842, 1.7999999523162842, 1.1157000064849854, 1.5432000160217285, 1.281499981880188, -0.27619999647140503, 0.900600016117096, 0.6029000282287598, 0.5257999897003174, -0.36570000648498535, -1.236299991607666, 1.031000018119812, 1.031000018119812, 1.0601999759674072, 1.0571999549865723, 1.3668999671936035, 1.3668999671936035, 1.3668999671936035, 1.3668999671936035, 0.4674000144004822, 0.6952000260353088, 0.7813000082969666, 2.234800100326538, 2.234800100326538, 2.234800100326538, 2.234800100326538, 2.234800100326538, 2.234800100326538, 2.234800100326538, 2.234800100326538, 2.234800100326538, 2.234800100326538, 2.234800100326538, 2.234800100326538, 2.234800100326538, 2.234800100326538, 2.234800100326538, 2.234800100326538, 2.234800100326538, 2.234800100326538, 2.234800100326538, 2.234800100326538, 2.234800100326538, 2.234800100326538, 2.234800100326538, 2.234800100326538, 2.234800100326538, 2.234800100326538, 2.234800100326538, 2.1823999881744385, 2.127700090408325, 1.8967000246047974, 0.6697999835014343, -0.04479999840259552, -0.8848999738693237, 0.5115000009536743, 1.0465999841690063, 1.1619999408721924, 0.9760000109672546, 1.7716000080108643, 1.1376999616622925, 1.006100058555603, 1.8079999685287476, 0.8335000276565552, 1.807800054550171, 1.807800054550171, 1.807800054550171, 1.5809999704360962, 1.5809999704360962, 1.5809999704360962, 1.5809999704360962, 1.5809999704360962, 1.5809999704360962, 1.5809999704360962, 1.5809999704360962, 1.5809999704360962, 1.5809999704360962, 1.5809999704360962, 1.5809999704360962, 1.5809999704360962, 1.5809999704360962, 1.5809999704360962, 1.5809999704360962, 1.5809999704360962, 1.5809999704360962, 1.5809999704360962, 1.5809999704360962, 1.5809999704360962, 1.5809999704360962, 1.5809999704360962, 1.5809999704360962, 1.5809999704360962, 1.5809999704360962, 1.5809999704360962, 1.5809999704360962, 1.5809999704360962, 1.5809999704360962, 1.5809999704360962, 1.5809999704360962, 1.5809999704360962, 1.5809999704360962, 1.5809999704360962, 1.5809999704360962, 1.5809999704360962, 1.5809999704360962, 1.5809999704360962, 1.5809999704360962, 1.5809999704360962, 1.5809999704360962, 1.5809999704360962, 1.5809999704360962, 1.5809999704360962, 1.5809999704360962, 1.5809999704360962, 1.5809999704360962, 1.5809999704360962, 1.0240000486373901, 0.8895000219345093, 1.2812999486923218, 1.1328999996185303, 0.734499990940094, 0.8126999735832214, -0.9071999788284302, -0.9714999794960022, -0.531499981880188, 1.117900013923645, 1.117900013923645, 1.117900013923645, 0.8496999740600586, 1.117900013923645, 0.8830999732017517, 1.1588000059127808, 2.223900079727173, 2.223900079727173, 2.223900079727173, 2.223900079727173, 1.9752000570297241, 1.9752000570297241, 1.9752000570297241, 1.9752000570297241, 1.9752000570297241, 1.9752000570297241, 1.9752000570297241, 1.9752000570297241, 1.9752000570297241, 1.9752000570297241, 1.9752000570297241, 1.9752000570297241, 1.9752000570297241, 1.9752000570297241, 1.9752000570297241, 1.9752000570297241, 1.9752000570297241, 1.9752000570297241, 1.9752000570297241, 1.9752000570297241, 1.9752000570297241, 1.9752000570297241, 1.9752000570297241, 1.9752000570297241, 1.9752000570297241, 1.9752000570297241, 1.8157000541687012, 1.9752000570297241, 1.1875, -0.18050000071525574, 0.17059999704360962, 0.849399983882904, -1.000100016593933, -0.8113999962806702, 0.30709999799728394, 1.5297000408172607, 1.2243000268936157, 0.9523000121116638, 1.5297000408172607, 1.5297000408172607, 1.5297000408172607, 1.5297000408172607, 1.2410000562667847, 1.6397000551223755, 1.6397000551223755, 1.554900050163269, 1.222000002861023, 1.1714999675750732, 1.1367000341415405, 1.1367000341415405, 1.0755000114440918, 1.055299997329712, 1.0130000114440918, 0.9337000250816345, 0.9327999949455261, 0.9296000003814697, 0.9296000003814697, 0.9296000003814697, 0.9296000003814697, 0.9296000003814697, 0.9296000003814697, 0.9296000003814697, 0.9296000003814697, 0.9296000003814697, 0.9296000003814697, 0.9296000003814697, 0.9296000003814697, 0.9296000003814697, 0.9296000003814697, 0.9296000003814697, 0.9296000003814697, 0.9296000003814697, 0.9296000003814697, 0.9296000003814697, 0.9296000003814697, 0.9296000003814697, 0.923799991607666, 0.9296000003814697, 0.9296000003814697, 0.9296000003814697, 0.8937000036239624, 0.9296000003814697, 0.7537999749183655, 0.8546000123023987, 0.8780999779701233, 0.8780999779701233, 0.8780999779701233, 0.9296000003814697, 0.861299991607666, 0.9296000003814697, 0.9296000003814697, 0.9296000003814697, 0.9296000003814697, 0.9296000003814697, 0.9296000003814697, 0.9296000003814697, 0.4997999966144562, 0.9296000003814697, 0.9296000003814697, 0.9296000003814697, 0.9296000003814697, 0.9296000003814697, 0.9296000003814697, 0.9296000003814697, 0.9296000003814697, 0.9296000003814697, 0.9296000003814697, 0.9296000003814697, 0.9296000003814697, 0.9296000003814697, 0.9296000003814697, 0.9296000003814697, 0.9296000003814697, 0.9296000003814697, 0.9296000003814697, 0.9296000003814697, 0.9296000003814697, 0.9296000003814697, 0.9296000003814697, 0.9296000003814697, 0.9296000003814697, 0.9296000003814697, 0.9296000003814697, 0.9296000003814697, 0.9296000003814697, 0.9296000003814697, 0.9296000003814697, 0.6901999711990356, 0.6848000288009644, 0.9296000003814697, 0.9296000003814697, 0.9296000003814697, 0.9296000003814697, 0.6608999967575073, 0.0851999968290329, 0.42500001192092896, 0.9296000003814697, 0.19619999825954437, 0.9296000003814697, -0.2304999977350235, -0.295199990272522, 0.10329999774694443, -0.06459999829530716, -0.09139999747276306, 0.9296000003814697, 1.9205000400543213, 1.9205000400543213, 1.9205000400543213, 1.9205000400543213, 1.9205000400543213, 1.9205000400543213, 1.9205000400543213, 1.9205000400543213, 1.9205000400543213, 1.9205000400543213, 1.9205000400543213, 1.9205000400543213, 1.9205000400543213, 1.9205000400543213, 1.9205000400543213, 1.9205000400543213, 1.9205000400543213, 1.9205000400543213, 1.9205000400543213, 1.9205000400543213, 1.9205000400543213, 1.9205000400543213, 1.9205000400543213, 1.9205000400543213, 1.9205000400543213, 1.9205000400543213, 1.9205000400543213, 1.9205000400543213, 1.9205000400543213, 1.9205000400543213, 1.9205000400543213, 1.9205000400543213, 1.9205000400543213, 1.9205000400543213, 1.9205000400543213, 1.9205000400543213, 1.9205000400543213, 1.9205000400543213, 1.9205000400543213, 1.9205000400543213, 1.9205000400543213, 1.9205000400543213, 1.9205000400543213, 0.4496000111103058, 1.1927000284194946, -0.14710000157356262, -0.2953999936580658, 1.4355000257492065, 1.4355000257492065, 1.4780000448226929, 1.4355000257492065, 1.4355000257492065, 1.1996999979019165, 1.1610000133514404, 1.1924999952316284, 0.9162999987602234, 1.4780000448226929, 1.503100037574768, 1.503100037574768]}, \"token.table\": {\"Topic\": [3, 4, 8, 9, 10, 7, 2, 5, 7, 3, 8, 10, 7, 3, 4, 7, 7, 4, 10, 3, 6, 7, 6, 1, 8, 3, 5, 8, 9, 4, 1, 1, 2, 9, 5, 9, 1, 5, 9, 5, 2, 8, 9, 5, 2, 1, 9, 1, 2, 2, 3, 9, 1, 1, 4, 7, 10, 9, 9, 3, 4, 10, 1, 9, 1, 1, 1, 9, 7, 10, 8, 3, 5, 6, 8, 2, 6, 10, 7, 9, 8, 9, 1, 2, 3, 4, 5, 6, 7, 8, 9, 10, 9, 1, 4, 7, 9, 9, 1, 3, 5, 7, 9, 1, 4, 5, 7, 8, 9, 1, 8, 4, 9, 8, 7, 5, 7, 9, 1, 6, 5, 6, 4, 10, 8, 3, 5, 9, 9, 7, 4, 9, 6, 3, 6, 1, 10, 3, 10, 1, 4, 5, 6, 7, 1, 3, 10, 6, 7, 1, 1, 4, 8, 9, 10, 6, 1, 2, 3, 2, 3, 8, 3, 9, 10, 9, 5, 8, 4, 9, 9, 6, 1, 4, 9, 9, 9, 9, 9, 5, 9, 3, 5, 7, 9, 4, 10, 8, 9, 5, 9, 9, 9, 7, 4, 6, 9, 1, 7, 6, 10, 9, 6, 1, 10, 5, 8, 4, 5, 7, 9, 9, 4, 7, 2, 8, 1, 1, 1, 1, 5, 7, 3, 7, 4, 4, 10, 5, 7, 7, 9, 5, 4, 10, 6, 9, 9, 7, 7, 4, 9, 4, 10, 5, 9, 3, 10, 5, 5, 5, 3, 5, 9, 5, 7, 2, 8, 10, 8, 7, 1, 1, 10, 9, 3, 1, 6, 2, 8, 7, 1, 5, 9, 3, 9, 6, 3, 4, 1, 9, 7, 10, 7, 10, 6, 8, 10, 10, 9, 10, 7, 2, 6, 3, 6, 9, 7, 7, 1, 3, 1, 8, 9, 1, 4, 1, 10, 9, 9, 7, 9, 6, 9, 9, 1, 10, 1, 5, 9, 10, 3, 1, 6, 9, 7, 7, 3, 9, 8, 10, 3, 9, 10, 3, 1, 7, 7, 7, 1, 5, 9, 7, 1, 9, 5, 1, 4, 8, 10, 1, 2, 4, 5, 7, 8, 9, 7, 1, 2, 3, 4, 5, 6, 7, 8, 9, 10, 9, 4, 5, 9, 10, 7, 10, 6, 9, 1, 10, 9, 5, 10, 10, 7, 7, 5, 10, 9, 5, 8, 8, 1, 3, 5, 7, 8, 9, 10, 9, 10, 7, 8, 9, 10, 2, 7, 5, 2, 3, 6, 8, 10, 3, 9, 7, 2, 3, 4, 7, 9, 3, 10, 7, 1, 8, 7, 1, 5, 7, 9, 9, 7, 1, 7, 4, 6, 7, 3, 4, 4, 6, 7, 3, 4, 7, 1, 2, 4, 5, 6, 7, 8, 9, 7, 10, 5, 5, 9, 1, 5, 6, 7, 9, 1, 9, 8, 7, 9, 10, 9, 5, 7, 5, 1, 2, 7, 8, 9, 4, 10, 7, 6, 4, 10, 7, 9, 3, 8, 10, 6, 1, 8, 2, 9, 2, 4, 9, 8, 9, 4, 6, 9, 6, 4, 9, 3, 3, 4, 4, 4, 3, 1, 2, 3, 5, 7, 8, 8, 3, 8, 2, 6, 6, 9, 10, 5, 4, 2, 3, 3, 5, 1, 8, 4, 5, 4, 10, 5, 1, 7, 8, 10, 1, 9, 2, 4, 8, 5, 1, 6, 7, 9, 1, 10, 1, 4, 9, 10, 5, 5, 4, 10, 2, 9, 9, 5, 3, 9, 3, 9, 5, 3, 9, 8, 8, 4, 7, 3, 5, 9, 5, 8, 10, 3, 1, 3, 10, 1, 5, 9, 4, 9, 3, 9, 7, 5, 1, 9, 5, 9, 10, 8, 9, 1, 3, 9, 1, 2, 1, 3, 7, 8, 9, 8, 4, 9, 1, 1, 9, 7, 5, 9, 2, 6, 9, 7, 10, 9, 10, 6, 4, 7, 6, 1, 9, 2, 4, 9, 1, 2, 4, 6, 8, 9, 10, 1, 3, 4, 5, 7, 8, 9, 10, 3, 4, 1, 9, 1, 8, 2, 3, 4, 9, 5, 7, 1, 3, 9, 4, 4, 5, 3, 5, 9, 4], \"Freq\": [0.8109523057937622, 0.29594194889068604, 0.29594194889068604, 0.5918838977813721, 0.8161059617996216, 0.5061224102973938, 0.45082423090934753, 0.45082423090934753, 0.7701647877693176, 0.810952365398407, 0.8231108784675598, 0.8161059617996216, 0.7701648473739624, 0.5353861451148987, 0.5353861451148987, 0.7701647877693176, 0.7701648473739624, 0.5376275181770325, 0.5376275181770325, 0.8109523057937622, 0.5473539233207703, 0.5473539233207703, 0.8698761463165283, 0.5271941423416138, 0.5271941423416138, 0.3242236375808716, 0.3242236375808716, 0.3242236375808716, 0.7216240167617798, 0.7963478565216064, 0.7674762010574341, 0.7674762010574341, 0.9047534465789795, 0.7216240167617798, 0.8001952767372131, 0.7216241359710693, 0.37087199091911316, 0.37087199091911316, 0.37087199091911316, 0.8001953363418579, 0.5885341763496399, 0.5885341763496399, 0.7216241359710693, 0.8001953363418579, 0.9047534465789795, 0.7674762010574341, 0.7216240167617798, 0.7674763202667236, 0.9047534465789795, 0.40288516879081726, 0.40288516879081726, 0.40288516879081726, 0.7674762010574341, 0.7674762010574341, 0.39410316944122314, 0.39410316944122314, 0.39410316944122314, 0.7216240167617798, 0.7216240167617798, 0.5353861451148987, 0.5353861451148987, 0.8161059617996216, 0.48363038897514343, 0.48363038897514343, 0.7674762010574341, 0.7674763202667236, 0.7674763202667236, 0.7216240167617798, 0.7701648473739624, 0.8161059617996216, 0.5528630614280701, 0.810952365398407, 0.8001953363418579, 0.8698761463165283, 0.8231108784675598, 0.9047534465789795, 0.8698761463165283, 0.8161059617996216, 0.4846966564655304, 0.4846966564655304, 0.8231108784675598, 0.7216241359710693, 0.13986490666866302, 0.04662163555622101, 0.09324327111244202, 0.09324327111244202, 0.04662163555622101, 0.04662163555622101, 0.27972981333732605, 0.04662163555622101, 0.18648654222488403, 0.04662163555622101, 0.7216241359710693, 0.21215693652629852, 0.21215693652629852, 0.21215693652629852, 0.21215693652629852, 0.7216241359710693, 0.16543863713741302, 0.16543863713741302, 0.16543863713741302, 0.16543863713741302, 0.33087727427482605, 0.1704847812652588, 0.1704847812652588, 0.1704847812652588, 0.1704847812652588, 0.1704847812652588, 0.1704847812652588, 0.527194082736969, 0.527194082736969, 0.12487691640853882, 0.7492614984512329, 0.5528630614280701, 0.7701648473739624, 0.8001953363418579, 0.4846966564655304, 0.4846966564655304, 0.7674763798713684, 0.8698761463165283, 0.8001952767372131, 0.8698761463165283, 0.7963477969169617, 0.8161059617996216, 0.8231108784675598, 0.810952365398407, 0.8001952767372131, 0.7216241359710693, 0.7216241359710693, 0.7701648473739624, 0.7963477969169617, 0.7216240167617798, 0.8698761463165283, 0.5676441788673401, 0.5676441788673401, 0.7674762010574341, 0.8161059617996216, 0.8109523057937622, 0.8161059617996216, 0.2650938034057617, 0.2650938034057617, 0.2650938034057617, 0.2650938034057617, 0.2650938034057617, 0.3969293534755707, 0.3969293534755707, 0.3969293534755707, 0.8698761463165283, 0.5061224102973938, 0.5038028359413147, 0.13986733555793762, 0.13986733555793762, 0.13986733555793762, 0.27973467111587524, 0.27973467111587524, 0.8698761463165283, 0.7674762010574341, 0.5822834372520447, 0.5822834372520447, 0.5822830200195312, 0.5822830200195312, 0.8231108784675598, 0.810952365398407, 0.7216240167617798, 0.8161059617996216, 0.7216241359710693, 0.8001952767372131, 0.5528630018234253, 0.3590434789657593, 0.7180869579315186, 0.7216240167617798, 0.8698761463165283, 0.3700433075428009, 0.3700433075428009, 0.3700433075428009, 0.7216240167617798, 0.7216241359710693, 0.9300223588943481, 0.7216241359710693, 0.8001953363418579, 0.7216241359710693, 0.8109523057937622, 0.8001952767372131, 0.4846966564655304, 0.4846966564655304, 0.5376275181770325, 0.5376275181770325, 0.8231108784675598, 0.7216240167617798, 0.8001953363418579, 0.7216240167617798, 0.7216240167617798, 0.7216240167617798, 0.7701647281646729, 0.3249342441558838, 0.3249342441558838, 0.3249342441558838, 0.5049599409103394, 0.5049599409103394, 0.8698761463165283, 0.8161059617996216, 0.7216241359710693, 0.8698761463165283, 0.7674762010574341, 0.8161059617996216, 0.8001953363418579, 0.8231108784675598, 0.7963478565216064, 0.5189203023910522, 0.5189203023910522, 0.7216241359710693, 0.7216240167617798, 0.5289815068244934, 0.7701648473739624, 0.5885341763496399, 0.5885341763496399, 0.7674762010574341, 0.7674763202667236, 0.7674762010574341, 0.3832871615886688, 0.3832871615886688, 0.3832871615886688, 0.810952365398407, 0.7701648473739624, 0.7963477969169617, 0.7963478565216064, 0.8161059617996216, 0.5189203023910522, 0.5189203023910522, 0.7701648473739624, 0.7216241359710693, 0.8001953363418579, 0.7963477969169617, 0.8161059617996216, 0.2903805375099182, 0.5807610750198364, 0.7216241359710693, 0.7701648473739624, 0.7701647877693176, 0.7963477969169617, 0.7216240167617798, 0.7963477969169617, 0.8161059617996216, 0.8001953363418579, 0.7216240763664246, 0.8109523057937622, 0.8161059617996216, 0.5323821902275085, 0.8001953363418579, 0.8001953363418579, 0.38073569536209106, 0.38073569536209106, 0.38073569536209106, 0.8001952767372131, 0.7701647877693176, 0.9047534465789795, 0.8231108784675598, 0.8161059617996216, 0.8231108784675598, 0.7701648473739624, 0.7674762010574341, 0.7674762010574341, 0.8161059617996216, 0.7216241359710693, 0.8109523057937622, 0.7674762010574341, 0.8698761463165283, 0.9047534465789795, 0.8231108784675598, 0.7701647877693176, 0.28892776370048523, 0.28892776370048523, 0.5778555274009705, 0.810952365398407, 0.7216241359710693, 0.8698761463165283, 0.810952365398407, 0.7963477969169617, 0.48363038897514343, 0.48363038897514343, 0.7701647877693176, 0.8161059617996216, 0.7701648473739624, 0.8161059617996216, 0.8698761463165283, 0.8231108784675598, 0.8161059617996216, 0.8161059617996216, 0.7216240167617798, 0.8161059617996216, 0.7701647877693176, 0.9047534465789795, 0.8698761463165283, 0.8109523057937622, 0.8698761463165283, 0.7216240167617798, 0.7701648473739624, 0.7701648473739624, 0.7674762010574341, 0.8109523057937622, 0.7674762010574341, 0.8231108784675598, 0.7216240167617798, 0.7674763202667236, 0.7963477969169617, 0.7674763202667236, 0.8161059617996216, 0.7216241359710693, 0.7216241359710693, 0.7701647877693176, 0.7216240167617798, 0.8698761463165283, 0.7216241359710693, 0.7216241359710693, 0.7674762010574341, 0.8161059617996216, 0.7674762010574341, 0.3818678557872772, 0.3818678557872772, 0.3818678557872772, 0.8109523057937622, 0.2975335717201233, 0.2975335717201233, 0.5950671434402466, 0.7701648473739624, 0.7701648473739624, 0.8109523057937622, 0.7216241359710693, 0.8231108784675598, 0.8161059617996216, 0.810952365398407, 0.7216240167617798, 0.8161059617996216, 0.810952365398407, 0.7674762010574341, 0.7701647877693176, 0.7701647877693176, 0.7701647877693176, 0.24956747889518738, 0.24956747889518738, 0.24956747889518738, 0.7701648473739624, 0.3530552387237549, 0.7061104774475098, 0.8001953363418579, 0.39501845836639404, 0.39501845836639404, 0.39501845836639404, 0.8161059617996216, 0.048057522624731064, 0.048057522624731064, 0.1441725641489029, 0.048057522624731064, 0.33640265464782715, 0.09611504524946213, 0.24028760194778442, 0.7701647877693176, 0.1610078513622284, 0.02012598142027855, 0.1207558885216713, 0.0402519628405571, 0.02012598142027855, 0.02012598142027855, 0.0402519628405571, 0.06037794426083565, 0.4025196135044098, 0.1207558885216713, 0.7216240167617798, 0.7963478565216064, 0.8001953363418579, 0.5024991631507874, 0.5024991631507874, 0.7701648473739624, 0.8161059617996216, 0.40935710072517395, 0.40935710072517395, 0.5243116021156311, 0.5243116021156311, 0.7216240763664246, 0.8001952767372131, 0.8161059617996216, 0.8161059617996216, 0.7701647877693176, 0.7701647281646729, 0.8001953363418579, 0.8161059617996216, 0.7216240167617798, 0.8001952767372131, 0.8231108784675598, 0.8231108784675598, 0.2344323843717575, 0.11721619218587875, 0.11721619218587875, 0.2344323843717575, 0.11721619218587875, 0.11721619218587875, 0.11721619218587875, 0.5024992227554321, 0.5024992227554321, 0.7701648473739624, 0.8231108784675598, 0.5024991631507874, 0.5024991631507874, 0.9047534465789795, 0.7701648473739624, 0.8001953363418579, 0.21421483159065247, 0.42842966318130493, 0.21421483159065247, 0.21421483159065247, 0.21421483159065247, 0.8109523057937622, 0.7216241359710693, 0.7701648473739624, 0.5822817087173462, 0.5822817087173462, 0.3706671893596649, 0.3706671893596649, 0.3706671893596649, 0.810952365398407, 0.8161059617996216, 0.7701648473739624, 0.527194082736969, 0.527194082736969, 0.7701648473739624, 0.4221552908420563, 0.21107764542102814, 0.21107764542102814, 0.21107764542102814, 0.7216241359710693, 0.7701648473739624, 0.7674762010574341, 0.7701647877693176, 0.7963478565216064, 0.8698761463165283, 0.7701647877693176, 0.4032439589500427, 0.4032439589500427, 0.7963477969169617, 0.8698761463165283, 0.7701648473739624, 0.810952365398407, 0.7963478565216064, 0.7701648473739624, 0.19517172873020172, 0.04879293218255043, 0.04879293218255043, 0.2927576005458832, 0.09758586436510086, 0.04879293218255043, 0.04879293218255043, 0.19517172873020172, 0.7701648473739624, 0.8161059617996216, 0.8001952767372131, 0.8001953363418579, 0.7216240167617798, 0.5038028359413147, 0.8001953363418579, 0.8698761463165283, 0.7701647877693176, 0.7216241359710693, 0.483630508184433, 0.483630508184433, 0.8231108784675598, 0.2989698648452759, 0.2989698648452759, 0.2989698648452759, 0.9300223588943481, 0.5189203023910522, 0.5189203023910522, 0.8001952767372131, 0.19611848890781403, 0.19611848890781403, 0.19611848890781403, 0.19611848890781403, 0.19611848890781403, 0.7963478565216064, 0.8161059617996216, 0.5061224102973938, 0.8698761463165283, 0.5376274585723877, 0.5376274585723877, 0.4846966564655304, 0.4846966564655304, 0.810952365398407, 0.8231108784675598, 0.8161059617996216, 0.8698761463165283, 0.527194082736969, 0.527194082736969, 0.379569947719574, 0.759139895439148, 0.5747239589691162, 0.5747239589691162, 0.6860571503639221, 0.8231108784675598, 0.4701451361179352, 0.4323708117008209, 0.4323708117008209, 0.7216241359710693, 0.8698761463165283, 0.7963477969169617, 0.7216241359710693, 0.8109523057937622, 0.8109523057937622, 0.7963478565216064, 0.7963478565216064, 0.7963477969169617, 0.8109523057937622, 0.1266183853149414, 0.1266183853149414, 0.1266183853149414, 0.1266183853149414, 0.1266183853149414, 0.5064735412597656, 0.8231108784675598, 0.810952365398407, 0.5528630614280701, 0.9047534465789795, 0.8698761463165283, 0.24703264236450195, 0.4940652847290039, 0.24703264236450195, 0.8001953363418579, 0.7963478565216064, 0.9047534465789795, 0.8109523057937622, 0.810952365398407, 0.8001953363418579, 0.7674762010574341, 0.8231108784675598, 0.5306763648986816, 0.5306763648986816, 0.7963477969169617, 0.8161059617996216, 0.8001952767372131, 0.3884675204753876, 0.3884675204753876, 0.3884675204753876, 0.8161059617996216, 0.7674762010574341, 0.7216240167617798, 0.9047534465789795, 0.5406586527824402, 0.5406586527824402, 0.8001952767372131, 0.7674762010574341, 0.8698761463165283, 0.2783506214618683, 0.5567012429237366, 0.5243117213249207, 0.5243117213249207, 0.7674762010574341, 0.7963478565216064, 0.5024992227554321, 0.5024992227554321, 0.8001953363418579, 0.8001952767372131, 0.7963478565216064, 0.8161059617996216, 0.3795473277568817, 0.7590946555137634, 0.7216241359710693, 0.8001953363418579, 0.810952365398407, 0.7216241359710693, 0.8109523057937622, 0.7216241359710693, 0.8001953363418579, 0.8109523057937622, 0.7216240167617798, 0.8231108784675598, 0.8231108784675598, 0.7963477969169617, 0.7701648473739624, 0.8109523057937622, 0.8001953363418579, 0.7216240167617798, 0.8001952767372131, 0.8231108784675598, 0.8161059617996216, 0.8109523057937622, 0.7674763202667236, 0.8109523057937622, 0.8161059617996216, 0.3708719313144684, 0.3708719313144684, 0.3708719313144684, 0.3590434193611145, 0.718086838722229, 0.8109523057937622, 0.7216241359710693, 0.7701647877693176, 0.8001952767372131, 0.48363038897514343, 0.48363038897514343, 0.8001952767372131, 0.7216240167617798, 0.8161059617996216, 0.8231108784675598, 0.7216240167617798, 0.7674762010574341, 0.8109523057937622, 0.7216241359710693, 0.7674763202667236, 0.9047534465789795, 0.7674763202667236, 0.810952365398407, 0.7701648473739624, 0.8231108784675598, 0.7216241359710693, 0.8231108784675598, 0.7963478565216064, 0.7216240167617798, 0.7674763202667236, 0.7674763202667236, 0.7216240167617798, 0.7701648473739624, 0.8001953363418579, 0.7216240167617798, 0.2545831799507141, 0.2545831799507141, 0.5091663599014282, 0.7701647877693176, 0.8161059617996216, 0.7216240167617798, 0.8161059617996216, 0.8698761463165283, 0.5154792666435242, 0.2577396333217621, 0.8698761463165283, 0.5038028359413147, 0.7216240167617798, 0.9047534465789795, 0.3590436279773712, 0.7180872559547424, 0.15523988008499146, 0.15523988008499146, 0.15523988008499146, 0.15523988008499146, 0.15523988008499146, 0.3104797601699829, 0.15523988008499146, 0.1731496900320053, 0.021643711254000664, 0.08657484501600266, 0.06493113189935684, 0.04328742250800133, 0.021643711254000664, 0.5194490551948547, 0.06493113189935684, 0.5353861451148987, 0.5353861451148987, 0.483630508184433, 0.483630508184433, 0.527194082736969, 0.527194082736969, 0.2459767460823059, 0.12298837304115295, 0.36896511912345886, 0.2459767460823059, 0.518920361995697, 0.518920361995697, 0.2375737875699997, 0.2375737875699997, 0.4751475751399994, 0.7963478565216064, 0.7963477969169617, 0.8001953363418579, 0.8109523057937622, 0.8001953363418579, 0.7216241359710693, 0.7963477969169617], \"Term\": [\"abqefu\", \"account\", \"account\", \"account\", \"acosta\", \"activ\", \"actual\", \"actual\", \"adher\", \"adject\", \"administr\", \"admsmzbvzn\", \"afraid\", \"africa\", \"africa\", \"ageism\", \"ahead\", \"allow\", \"allow\", \"along\", \"alreadi\", \"alreadi\", \"ameri\", \"america\", \"america\", \"american\", \"american\", \"american\", \"angelo\", \"angri\", \"anthoni\", \"anthonyfauci\", \"anyway\", \"aolxcclsef\", \"aperitif\", \"apocalyps\", \"appar\", \"appar\", \"appar\", \"aqjqcblu\", \"articl\", \"articl\", \"auspol\", \"automat\", \"beatl\", \"becaus\", \"benedictrog\", \"bethanyallenebr\", \"better\", \"big\", \"big\", \"big\", \"biotechnolog\", \"blame\", \"bobsegallwthr\", \"bobsegallwthr\", \"bobsegallwthr\", \"bolshevik\", \"bopinion\", \"border\", \"border\", \"boxzt\", \"bring\", \"bring\", \"britishcolumbia\", \"bryanyang\", \"buxrr\", \"buzzpatterson\", \"cabbag\", \"canada\", \"capac\", \"carrielam\", \"cbsnew\", \"cconfirm\", \"censor\", \"censorship\", \"cernovich\", \"chasbottom\", \"chelseaclinton\", \"chelseaclinton\", \"chengdu\", \"chief\", \"china\", \"china\", \"china\", \"china\", \"china\", \"china\", \"china\", \"china\", \"china\", \"china\", \"chinacoronaviru\", \"chinaviru\", \"chinaviru\", \"chinaviru\", \"chinaviru\", \"chinawuhanviru\", \"chine\", \"chine\", \"chine\", \"chine\", \"chine\", \"chinesecoronaviru\", \"chinesecoronaviru\", \"chinesecoronaviru\", \"chinesecoronaviru\", \"chinesecoronaviru\", \"chinesecoronaviru\", \"chinesepneumonia\", \"chinesepneumonia\", \"chineseviru\", \"chineseviru\", \"choic\", \"choos\", \"citali\", \"claim\", \"claim\", \"classification\", \"clear\", \"client\", \"climb\", \"close\", \"codiv\", \"commerci\", \"commit\", \"compani\", \"complaint\", \"comprehens\", \"comrad\", \"comunist\", \"concern\", \"confirm\", \"congo\", \"congo\", \"contain\", \"corona\", \"coronapocolyps\", \"coronarvirusitalia\", \"coronaviru\", \"coronaviru\", \"coronaviru\", \"coronaviru\", \"coronaviru\", \"coronavirusoutbreak\", \"coronavirusoutbreak\", \"coronavirusoutbreak\", \"correct\", \"countri\", \"cover\", \"covid\", \"covid\", \"covid\", \"covid\", \"covid\", \"crawl\", \"creat\", \"creator\", \"creator\", \"creditor\", \"creditor\", \"critic\", \"cross\", \"culprit\", \"cupcak\", \"daughter\", \"dbongino\", \"deafdumbandblind\", \"death\", \"death\", \"debat\", \"decent\", \"declar\", \"declar\", \"declar\", \"deepstat\", \"defeat\", \"democrat\", \"desanti\", \"dictatorship\", \"differenti\", \"digivorr\", \"disast\", \"discrimin\", \"discrimin\", \"diseas\", \"diseas\", \"disinform\", \"dloesch\", \"doctor\", \"dpockrzamd\", \"dread\", \"dreari\", \"eat\", \"ebola\", \"ebola\", \"ebola\", \"econom\", \"econom\", \"ehhbkuy\", \"emilyrauhala\", \"encourag\", \"engin\", \"enough\", \"epidem\", \"eqstv\", \"ericg\", \"etpfvql\", \"everi\", \"everi\", \"everyon\", \"ewerickson\", \"exist\", \"exploit\", \"facebook\", \"facebook\", \"facil\", \"fakenewscnn\", \"fauci\", \"fault\", \"fault\", \"fault\", \"fdizxwsj\", \"feast\", \"fernandoamandi\", \"fight\", \"financialtim\", \"first\", \"first\", \"flight\", \"florida\", \"focus\", \"forget\", \"found\", \"foxnew\", \"foxnew\", \"freak\", \"friend\", \"front\", \"fuckchina\", \"funder\", \"gaseascap\", \"ghastli\", \"given\", \"gokhw\", \"gorillastyl\", \"graphic\", \"great\", \"gtdqebmzfv\", \"hedgespethrog\", \"hongkong\", \"hongkong\", \"hongkong\", \"hongkongfp\", \"hotel\", \"housegop\", \"hrbndyzdci\", \"hygien\", \"hypocrit\", \"hzcmxsgjkb\", \"ifgebg\", \"ihtyfcudum\", \"iibouwkglp\", \"iknbjzrvrn\", \"illeg\", \"ilviswt\", \"import\", \"imrankhanpti\", \"includ\", \"incom\", \"incompet\", \"incompet\", \"incompet\", \"independ\", \"ingleslil\", \"instead\", \"investig\", \"iotnyuu\", \"itsallmessedup\", \"itsallmessedup\", \"iwkqru\", \"jagddmwneu\", \"januari\", \"jessekellydc\", \"jfqmqbon\", \"joebiden\", \"joepalojo\", \"justintrudeau\", \"kamvtv\", \"kansa\", \"kaptainkevo\", \"kiwipetrolhead\", \"kodpt\", \"kpinjza\", \"kungflu\", \"kurtschlicht\", \"kyvqhrvhc\", \"languag\", \"latimesopinion\", \"laylow\", \"lccow\", \"lckipbp\", \"leablackmiami\", \"leader\", \"leftist\", \"legit\", \"listen\", \"lkflhn\", \"luckygirl\", \"lynch\", \"madrid\", \"malaysia\", \"manchurian\", \"march\", \"marvel\", \"massago\", \"massiv\", \"matter\", \"matter\", \"matter\", \"mckraken\", \"medium\", \"medium\", \"medium\", \"meggerz\", \"mercantilist\", \"mexico\", \"middleeastr\", \"might\", \"mikebloomberg\", \"misshellca\", \"mitchellvii\", \"model\", \"mrysv\", \"msdgpao\", \"muffin\", \"murder\", \"naccord\", \"nbcnew\", \"nbcnew\", \"nbcnew\", \"nchina\", \"nchineseviru\", \"nchineseviru\", \"ncommunistchinaviru\", \"ncoronaviru\", \"ncoronaviru\", \"ncoronaviru\", \"ncovid\", \"negative\", \"negative\", \"negative\", \"negative\", \"negative\", \"negative\", \"negative\", \"neighbor\", \"neutral\", \"neutral\", \"neutral\", \"neutral\", \"neutral\", \"neutral\", \"neutral\", \"neutral\", \"neutral\", \"neutral\", \"never\", \"nextrem\", \"nfrom\", \"nhttp\", \"nhttp\", \"nhypocrit\", \"ninterest\", \"nipah\", \"nipah\", \"noplan\", \"noplan\", \"norbertelek\", \"nqasudxntc\", \"nrealli\", \"nregard\", \"nrnkyhxn\", \"nstop\", \"nthan\", \"ntrump\", \"number\", \"nwereallinthistogeth\", \"nwuflu\", \"nwuhanchineseviru\", \"nwuhancoronaviru\", \"nwuhancoronaviru\", \"nwuhancoronaviru\", \"nwuhancoronaviru\", \"nwuhancoronaviru\", \"nwuhancoronaviru\", \"nwuhancoronaviru\", \"nwuhanflu\", \"nwuhanflu\", \"nycmayor\", \"nytgraph\", \"nytim\", \"nytim\", \"occur\", \"offend\", \"offici\", \"origin\", \"origin\", \"origin\", \"origin\", \"origin\", \"originalq\", \"outlet\", \"outright\", \"pakistan\", \"pakistan\", \"pandem\", \"pandem\", \"pandem\", \"panel\", \"pathet\", \"patrick\", \"paywal\", \"paywal\", \"pedojar\", \"peopl\", \"peopl\", \"peopl\", \"peopl\", \"perhap\", \"period\", \"perman\", \"person\", \"philprang\", \"pictur\", \"pippypip\", \"place\", \"place\", \"planet\", \"point\", \"polic\", \"policebrut\", \"poser\", \"posit\", \"positive\", \"positive\", \"positive\", \"positive\", \"positive\", \"positive\", \"positive\", \"positive\", \"potato\", \"practi\", \"prayer\", \"prefer\", \"prepar\", \"presid\", \"prioriti\", \"probabl\", \"progr\", \"progress\", \"proud\", \"proud\", \"provinc\", \"quarantin\", \"quarantin\", \"quarantin\", \"racism\", \"racist\", \"racist\", \"readi\", \"realdonaldtrump\", \"realdonaldtrump\", \"realdonaldtrump\", \"realdonaldtrump\", \"realdonaldtrump\", \"realiti\", \"realiz\", \"realli\", \"recent\", \"record\", \"record\", \"refer\", \"refer\", \"refus\", \"reject\", \"releas\", \"relief\", \"remov\", \"remov\", \"repjudychu\", \"repjudychu\", \"report\", \"report\", \"respons\", \"restrict\", \"right\", \"river\", \"river\", \"rjbxmcjjsr\", \"rkjczdc\", \"rlhzlup\", \"robprovinc\", \"roulett\", \"roxham\", \"royalti\", \"rpyqg\", \"russia\", \"russian\", \"sarafisch\", \"sarafisch\", \"sarafisch\", \"sarafisch\", \"sarafisch\", \"sarafisch\", \"scene\", \"school\", \"scienc\", \"screw\", \"senatorbiaggi\", \"senwarren\", \"senwarren\", \"senwarren\", \"sexist\", \"sharron\", \"shefvaidya\", \"shlomoindiana\", \"shock\", \"shoot\", \"shutter\", \"sichuan\", \"singl\", \"singl\", \"small\", \"smoke\", \"social\", \"someth\", \"someth\", \"someth\", \"soooo\", \"sound\", \"spain\", \"specif\", \"speech\", \"speech\", \"spillov\", \"spread\", \"sssqgr\", \"start\", \"start\", \"state\", \"state\", \"stayhomechalleng\", \"stephenmcdonel\", \"stick\", \"stick\", \"stone\", \"store\", \"stormisuponu\", \"straight\", \"stupid\", \"stupid\", \"suckup\", \"sugar\", \"suicid\", \"support\", \"suzann\", \"svshteotoa\", \"sweetheart\", \"swing\", \"sympath\", \"take\", \"tcztx\", \"templartitaninc\", \"teuscfuwzf\", \"thank\", \"therefor\", \"thing\", \"thought\", \"tjuhxibv\", \"tonight\", \"tourguidej\", \"trillion\", \"trudeau\", \"truli\", \"trump\", \"trump\", \"trump\", \"truth\", \"truth\", \"ujcyf\", \"unesco\", \"unless\", \"unpreced\", \"updat\", \"updat\", \"upheav\", \"upris\", \"usnew\", \"uvgizcln\", \"uyjxlxum\", \"uyqkkk\", \"vacay\", \"vgrqfynm\", \"vhwdjkufk\", \"violenc\", \"virginia\", \"virus\", \"vjgfvjcj\", \"vlrjpg\", \"votedemsout\", \"wanpsdh\", \"warehous\", \"washingtonpost\", \"watch\", \"weak\", \"wepafkiaqu\", \"wevimg\", \"whatev\", \"whether\", \"whitehous\", \"whitehous\", \"whitehous\", \"whole\", \"willchamberlain\", \"wkuarq\", \"wnznh\", \"wonder\", \"world\", \"world\", \"worship\", \"would\", \"wrong\", \"wsssatto\", \"wuflu\", \"wuflu\", \"wuhan\", \"wuhan\", \"wuhan\", \"wuhan\", \"wuhan\", \"wuhan\", \"wuhan\", \"wuhancoronaviru\", \"wuhancoronaviru\", \"wuhancoronaviru\", \"wuhancoronaviru\", \"wuhancoronaviru\", \"wuhancoronaviru\", \"wuhancoronaviru\", \"wuhancoronaviru\", \"wuhancoronavirusoutbreak\", \"wuhancoronavirusoutbreak\", \"wuhanflu\", \"wuhanflu\", \"wuhanpneumonia\", \"wuhanpneumonia\", \"wuhanviru\", \"wuhanviru\", \"wuhanviru\", \"wuhanviru\", \"xenophob\", \"xenophob\", \"xhnew\", \"xhnew\", \"xhnew\", \"xjqsc\", \"xpdmn\", \"yesnicksearci\", \"zdqmxqanfg\", \"zfeuvegi\", \"zhrxhu\", \"zhtoqlgbnw\"]}, \"R\": 30, \"lambda.step\": 0.01, \"plot.opts\": {\"xlab\": \"PC1\", \"ylab\": \"PC2\"}, \"topic.order\": [1, 2, 3, 4, 5, 6, 7, 8, 9, 10]};\n",
              "\n",
              "function LDAvis_load_lib(url, callback){\n",
              "  var s = document.createElement('script');\n",
              "  s.src = url;\n",
              "  s.async = true;\n",
              "  s.onreadystatechange = s.onload = callback;\n",
              "  s.onerror = function(){console.warn(\"failed to load library \" + url);};\n",
              "  document.getElementsByTagName(\"head\")[0].appendChild(s);\n",
              "}\n",
              "\n",
              "if(typeof(LDAvis) !== \"undefined\"){\n",
              "   // already loaded: just create the visualization\n",
              "   !function(LDAvis){\n",
              "       new LDAvis(\"#\" + \"ldavis_el1201403204890072885004722594\", ldavis_el1201403204890072885004722594_data);\n",
              "   }(LDAvis);\n",
              "}else if(typeof define === \"function\" && define.amd){\n",
              "   // require.js is available: use it to load d3/LDAvis\n",
              "   require.config({paths: {d3: \"https://cdnjs.cloudflare.com/ajax/libs/d3/3.5.5/d3.min\"}});\n",
              "   require([\"d3\"], function(d3){\n",
              "      window.d3 = d3;\n",
              "      LDAvis_load_lib(\"https://cdn.rawgit.com/bmabey/pyLDAvis/files/ldavis.v1.0.0.js\", function(){\n",
              "        new LDAvis(\"#\" + \"ldavis_el1201403204890072885004722594\", ldavis_el1201403204890072885004722594_data);\n",
              "      });\n",
              "    });\n",
              "}else{\n",
              "    // require.js not available: dynamically load d3 & LDAvis\n",
              "    LDAvis_load_lib(\"https://cdnjs.cloudflare.com/ajax/libs/d3/3.5.5/d3.min.js\", function(){\n",
              "         LDAvis_load_lib(\"https://cdn.rawgit.com/bmabey/pyLDAvis/files/ldavis.v1.0.0.js\", function(){\n",
              "                 new LDAvis(\"#\" + \"ldavis_el1201403204890072885004722594\", ldavis_el1201403204890072885004722594_data);\n",
              "            })\n",
              "         });\n",
              "}\n",
              "</script>"
            ],
            "text/plain": [
              "<IPython.core.display.HTML object>"
            ]
          },
          "metadata": {
            "tags": []
          },
          "execution_count": 116
        }
      ]
    },
    {
      "cell_type": "markdown",
      "metadata": {
        "id": "upo6PtUhwhac",
        "colab_type": "text"
      },
      "source": [
        "The first topic consists of most words like wuhancoronovirus , china\n",
        ", people as most frequent words in this topic we can describe the topic as globalstatus.\n",
        "\n",
        "The second topic consists of words like wuhanvirus, china , postive and can describe the topic as most of the people in china were dignosed as postive in china.\n",
        "\n",
        "The third topic consists of people , china, president and can be described as quarantine for this topic.\n",
        "\n",
        "The forth topic is described as most of the people were dignosed as postive from China and Russia.\n",
        "\n",
        "The fifth topic describes that the virus has been passed to America.\n",
        "\n",
        "The sixth topic describes about the virus is the orgin point from china.\n",
        "\n",
        "The seventh topic describes about the country china to be quarantined.\n",
        "\n",
        "The eight topic describes about deaf, dumb and blind people are affected more.\n",
        "\n",
        "The ninth topic describes about due to coronovirus whitehouse has passed the news to be quarantined.\n",
        "\n",
        "The tenth topic describes about due to covid people are enjoying makeing cupcakes at home."
      ]
    },
    {
      "cell_type": "markdown",
      "metadata": {
        "id": "AfpMRCrRwN6Z",
        "colab_type": "text"
      },
      "source": [
        "# **Question 2: Sentiment Analysis**"
      ]
    },
    {
      "cell_type": "markdown",
      "metadata": {
        "id": "1dCQEbDawWCw",
        "colab_type": "text"
      },
      "source": [
        "(30 points). Sentiment analysis also known as opinion mining is a sub field within Natural Language Processing (NLP) that builds machine learning algorithms to classify a text according to the sentimental polarities of opinions it contains, e.g., positive, negative, neutral. The purpose of this question is to develop a machine learning classifier for sentiment analysis. Based on the dataset from assignment three, write a python program to implement a sentiment classifier and evaluate its performance. Notice: **80% data for training and 20% data for testing**.  \n",
        "\n",
        "(1) Features used for sentiment classification and explain why you select these features.\n",
        "\n",
        "(2) Select two of the supervised learning algorithm from scikit-learn library: https://scikit-learn.org/stable/supervised_learning.html#supervised-learning, to build a sentiment classifier respectively. \n",
        "\n",
        "(3) Compare the performance over accuracy, precision, recall, and F1 score for the two algorithms you selected. Here is the reference of how to calculate these metrics: https://towardsdatascience.com/accuracy-precision-recall-or-f1-331fb37c5cb9. "
      ]
    },
    {
      "cell_type": "markdown",
      "metadata": {
        "id": "bXJaY84_pK1R",
        "colab_type": "text"
      },
      "source": [
        "The features used for this analysis are Tfid and bag of words.\n",
        "\n",
        "Bag of words and vector space refer to the different approaches of categorizing body of document.\n",
        "\n",
        "In Bag of words, you can extract only the unigram words to create unordered list of words without syntactic, semantic and POS tagging. This bunch of words represent the document.\n",
        "\n",
        "It is algebraic model used for representing documents as vectors. from the given bag of words you can create a feature document vector where each feature is a word and it’s value is term weight.\n",
        "\n",
        "TF-IDF is a feature vector, which points to a point in vector space such that there is an axis for every term in our bag.\n"
      ]
    },
    {
      "cell_type": "code",
      "metadata": {
        "id": "MSG6urQoYUFN",
        "colab_type": "code",
        "outputId": "23126e1c-c3b7-4aa8-fe59-cf7e0beef8df",
        "colab": {
          "base_uri": "https://localhost:8080/",
          "height": 204
        }
      },
      "source": [
        "import pandas as pd\n",
        "from sklearn.model_selection import train_test_split\n",
        "from sklearn.datasets import load_iris\n",
        "data=pd.read_csv('edited_tweets.csv')\n",
        "data.head()\n"
      ],
      "execution_count": 0,
      "outputs": [
        {
          "output_type": "execute_result",
          "data": {
            "text/html": [
              "<div>\n",
              "<style scoped>\n",
              "    .dataframe tbody tr th:only-of-type {\n",
              "        vertical-align: middle;\n",
              "    }\n",
              "\n",
              "    .dataframe tbody tr th {\n",
              "        vertical-align: top;\n",
              "    }\n",
              "\n",
              "    .dataframe thead th {\n",
              "        text-align: right;\n",
              "    }\n",
              "</style>\n",
              "<table border=\"1\" class=\"dataframe\">\n",
              "  <thead>\n",
              "    <tr style=\"text-align: right;\">\n",
              "      <th></th>\n",
              "      <th>Tweets</th>\n",
              "      <th>Classification</th>\n",
              "    </tr>\n",
              "  </thead>\n",
              "  <tbody>\n",
              "    <tr>\n",
              "      <th>0</th>\n",
              "      <td>b chasbottom lung diseas wuhancoronaviru soooo...</td>\n",
              "      <td>Positive</td>\n",
              "    </tr>\n",
              "    <tr>\n",
              "      <th>1</th>\n",
              "      <td>b comrad nycmayor the chinaviru wuhancoronavir...</td>\n",
              "      <td>Positive</td>\n",
              "    </tr>\n",
              "    <tr>\n",
              "      <th>2</th>\n",
              "      <td>b richzeoli appar even favorit book store affe...</td>\n",
              "      <td>Positive</td>\n",
              "    </tr>\n",
              "    <tr>\n",
              "      <th>3</th>\n",
              "      <td>b philprang sharron royalti stormisuponu it ex...</td>\n",
              "      <td>Positive</td>\n",
              "    </tr>\n",
              "    <tr>\n",
              "      <th>4</th>\n",
              "      <td>b massiv surg britishcolumbia new case noplan ...</td>\n",
              "      <td>Positive</td>\n",
              "    </tr>\n",
              "  </tbody>\n",
              "</table>\n",
              "</div>"
            ],
            "text/plain": [
              "                                              Tweets Classification\n",
              "0  b chasbottom lung diseas wuhancoronaviru soooo...       Positive\n",
              "1  b comrad nycmayor the chinaviru wuhancoronavir...       Positive\n",
              "2  b richzeoli appar even favorit book store affe...       Positive\n",
              "3  b philprang sharron royalti stormisuponu it ex...       Positive\n",
              "4  b massiv surg britishcolumbia new case noplan ...       Positive"
            ]
          },
          "metadata": {
            "tags": []
          },
          "execution_count": 339
        }
      ]
    },
    {
      "cell_type": "code",
      "metadata": {
        "id": "fcUghZv6Y7MJ",
        "colab_type": "code",
        "colab": {}
      },
      "source": [
        "train=data.Tweets[:80]\n",
        "\n",
        "test=data.Tweets[80:]"
      ],
      "execution_count": 0,
      "outputs": []
    },
    {
      "cell_type": "code",
      "metadata": {
        "id": "VyPrYi_0ZDGp",
        "colab_type": "code",
        "outputId": "e3448c86-a899-4bc7-8da0-bf42095e7a26",
        "colab": {
          "base_uri": "https://localhost:8080/",
          "height": 51
        }
      },
      "source": [
        "from sklearn.feature_extraction.text import CountVectorizer\n",
        "from sklearn.feature_extraction.text import TfidfVectorizer\n",
        "from sklearn.preprocessing import LabelBinarizer\n",
        "CountVect=CountVectorizer(min_df=0,max_df=1,binary=False,ngram_range=(1,3))\n",
        "CountVect_train=cv.fit_transform(train)\n",
        "CountVect_test=cv.transform(test)\n",
        "\n",
        "print('CountVect_train:',CountVect_train.shape)\n",
        "print('CountVect_test:',CountVect_test.shape)\n"
      ],
      "execution_count": 0,
      "outputs": [
        {
          "output_type": "stream",
          "text": [
            "CountVect_train: (80, 2233)\n",
            "CountVect_test: (20, 2233)\n"
          ],
          "name": "stdout"
        }
      ]
    },
    {
      "cell_type": "code",
      "metadata": {
        "id": "ZgkN0lQ3ZMQI",
        "colab_type": "code",
        "outputId": "ab80b50f-25e3-4fef-d351-a3204a3947ac",
        "colab": {
          "base_uri": "https://localhost:8080/",
          "height": 51
        }
      },
      "source": [
        "TfidVect=TfidfVectorizer(min_df=0,max_df=1,use_idf=True,ngram_range=(1,3))\n",
        "TfidVect_train=TfidVect.fit_transform(train)\n",
        "TfidVect_test=TfidVect.transform(norm_test_reviews)\n",
        "print('TfidfVect_train:',TfidVect_train.shape)\n",
        "print('TfidfVect_test:',TfidVect_test.shape)"
      ],
      "execution_count": 0,
      "outputs": [
        {
          "output_type": "stream",
          "text": [
            "TfidfVect_train: (80, 2233)\n",
            "TfidfVect_test: (20, 2233)\n"
          ],
          "name": "stdout"
        }
      ]
    },
    {
      "cell_type": "code",
      "metadata": {
        "id": "XETn37kDZPcq",
        "colab_type": "code",
        "outputId": "499c7a2d-84ef-4e49-8045-416c0523453d",
        "colab": {
          "base_uri": "https://localhost:8080/",
          "height": 34
        }
      },
      "source": [
        "Lbl=LabelBinarizer()\n",
        "Classify_data=Lbl.fit_transform(imdb_data['Classification'])\n",
        "print(Classify_data.shape)\n",
        "\n"
      ],
      "execution_count": 0,
      "outputs": [
        {
          "output_type": "stream",
          "text": [
            "(100, 1)\n"
          ],
          "name": "stdout"
        }
      ]
    },
    {
      "cell_type": "code",
      "metadata": {
        "id": "nXo1eB83ZcLf",
        "colab_type": "code",
        "colab": {}
      },
      "source": [
        "train_classify=Classify_data[:80]\n",
        "test_classify=Classify_data[80:]"
      ],
      "execution_count": 0,
      "outputs": []
    },
    {
      "cell_type": "code",
      "metadata": {
        "id": "uFuZggEIZiQ_",
        "colab_type": "code",
        "outputId": "a3ed52e0-aaa8-4e46-8038-a8158befd447",
        "colab": {
          "base_uri": "https://localhost:8080/",
          "height": 275
        }
      },
      "source": [
        "from sklearn.linear_model import LogisticRegression,SGDClassifier\n",
        "logRegg=LogisticRegression(penalty='l2',max_iter=500,C=1,random_state=42)\n",
        "logRegg_bagofwords=logRegg.fit(CountVect_train,train_classify)\n",
        "print(logRegg_bagofwords)\n",
        "logRegg_tfidf=logRegg.fit(TfidVect_train,train_classify)\n",
        "print(logRegg_tfidf)"
      ],
      "execution_count": 0,
      "outputs": [
        {
          "output_type": "stream",
          "text": [
            "LogisticRegression(C=1, class_weight=None, dual=False, fit_intercept=True,\n",
            "                   intercept_scaling=1, l1_ratio=None, max_iter=500,\n",
            "                   multi_class='auto', n_jobs=None, penalty='l2',\n",
            "                   random_state=42, solver='lbfgs', tol=0.0001, verbose=0,\n",
            "                   warm_start=False)\n",
            "LogisticRegression(C=1, class_weight=None, dual=False, fit_intercept=True,\n",
            "                   intercept_scaling=1, l1_ratio=None, max_iter=500,\n",
            "                   multi_class='auto', n_jobs=None, penalty='l2',\n",
            "                   random_state=42, solver='lbfgs', tol=0.0001, verbose=0,\n",
            "                   warm_start=False)\n"
          ],
          "name": "stdout"
        },
        {
          "output_type": "stream",
          "text": [
            "/usr/local/lib/python3.6/dist-packages/sklearn/utils/validation.py:760: DataConversionWarning: A column-vector y was passed when a 1d array was expected. Please change the shape of y to (n_samples, ), for example using ravel().\n",
            "  y = column_or_1d(y, warn=True)\n",
            "/usr/local/lib/python3.6/dist-packages/sklearn/utils/validation.py:760: DataConversionWarning: A column-vector y was passed when a 1d array was expected. Please change the shape of y to (n_samples, ), for example using ravel().\n",
            "  y = column_or_1d(y, warn=True)\n"
          ],
          "name": "stderr"
        }
      ]
    },
    {
      "cell_type": "code",
      "metadata": {
        "id": "8UjyJUk2g_Hk",
        "colab_type": "code",
        "outputId": "0c66566b-0943-435d-8fc1-e8de4cbb1334",
        "colab": {
          "base_uri": "https://localhost:8080/",
          "height": 51
        }
      },
      "source": [
        "logRegg_bagofwords_predictn=logRegg.predict(CountVect_test)\n",
        "print(logRegg_bagofwords_predictn)\n",
        "logRegg_tfidf_predictn=logRegg.predict(TfidVect_test)\n",
        "print(logRegg_tfidf_predictn)"
      ],
      "execution_count": 0,
      "outputs": [
        {
          "output_type": "stream",
          "text": [
            "[1 0 0 0 0 0 0 0 1 1 0 0 1 0 1 1 0 1 0 0]\n",
            "[1 0 0 0 0 0 0 0 1 1 0 0 0 1 1 1 0 1 0 0]\n"
          ],
          "name": "stdout"
        }
      ]
    },
    {
      "cell_type": "code",
      "metadata": {
        "id": "i7PK4QMlhCm0",
        "colab_type": "code",
        "outputId": "d22659df-77b5-4060-ec59-717e2c71f910",
        "colab": {
          "base_uri": "https://localhost:8080/",
          "height": 51
        }
      },
      "source": [
        "from sklearn.metrics import classification_report,confusion_matrix,accuracy_score\n",
        "logRegg_bagofwords_score=accuracy_score(test_classify,logRegg_bagofwords_predictn)\n",
        "print(\"LogRegg_bagofwords_score :\",lr_bow_score)\n",
        "logRegg_tfidf_score=accuracy_score(test_classify,logRegg_tfidf_predictn)\n",
        "print(\"LogReg_tfidf_score :\",lr_tfidf_score)"
      ],
      "execution_count": 0,
      "outputs": [
        {
          "output_type": "stream",
          "text": [
            "LogRegg_bagofwords_score : 0.4\n",
            "LogReg_tfidf_score : 0.4\n"
          ],
          "name": "stdout"
        }
      ]
    },
    {
      "cell_type": "code",
      "metadata": {
        "id": "fZbKKyaShF-l",
        "colab_type": "code",
        "outputId": "de29d966-f23f-4fc1-c455-5ed55970959b",
        "colab": {
          "base_uri": "https://localhost:8080/",
          "height": 323
        }
      },
      "source": [
        "logRegg_bagofwords_Report=classification_report(test_classify,logRegg_bagofwords_predictn,target_names=['Positive','Negative'])\n",
        "print(logRegg_bagofwords_Report)\n",
        "logRegg_tfidf_Report=classification_report(test_classify,logRegg_tfidf_predictn,target_names=['Positive','Negative'])\n",
        "print(logRegg_tfidf_Report)"
      ],
      "execution_count": 0,
      "outputs": [
        {
          "output_type": "stream",
          "text": [
            "              precision    recall  f1-score   support\n",
            "\n",
            "    Positive       0.54      0.64      0.58        11\n",
            "    Negative       0.43      0.33      0.38         9\n",
            "\n",
            "    accuracy                           0.50        20\n",
            "   macro avg       0.48      0.48      0.48        20\n",
            "weighted avg       0.49      0.50      0.49        20\n",
            "\n",
            "              precision    recall  f1-score   support\n",
            "\n",
            "    Positive       0.46      0.55      0.50        11\n",
            "    Negative       0.29      0.22      0.25         9\n",
            "\n",
            "    accuracy                           0.40        20\n",
            "   macro avg       0.37      0.38      0.37        20\n",
            "weighted avg       0.38      0.40      0.39        20\n",
            "\n"
          ],
          "name": "stdout"
        }
      ]
    },
    {
      "cell_type": "code",
      "metadata": {
        "id": "WLvpwbHohLqw",
        "colab_type": "code",
        "outputId": "4b84996d-07d1-423d-a984-484c40bafb62",
        "colab": {
          "base_uri": "https://localhost:8080/",
          "height": 139
        }
      },
      "source": [
        "from sklearn.naive_bayes import MultinomialNB\n",
        "multinomial=MultinomialNB()\n",
        "multinomial_bow=multinomial.fit(CountVect_train,train_classify)\n",
        "print(multinomial_bow)\n",
        "multinomial_tfidf=multinomial.fit(TfidVect_train,train_classify)\n",
        "print(multinomial_tfidf)"
      ],
      "execution_count": 0,
      "outputs": [
        {
          "output_type": "stream",
          "text": [
            "MultinomialNB(alpha=1.0, class_prior=None, fit_prior=True)\n",
            "MultinomialNB(alpha=1.0, class_prior=None, fit_prior=True)\n"
          ],
          "name": "stdout"
        },
        {
          "output_type": "stream",
          "text": [
            "/usr/local/lib/python3.6/dist-packages/sklearn/utils/validation.py:760: DataConversionWarning: A column-vector y was passed when a 1d array was expected. Please change the shape of y to (n_samples, ), for example using ravel().\n",
            "  y = column_or_1d(y, warn=True)\n",
            "/usr/local/lib/python3.6/dist-packages/sklearn/utils/validation.py:760: DataConversionWarning: A column-vector y was passed when a 1d array was expected. Please change the shape of y to (n_samples, ), for example using ravel().\n",
            "  y = column_or_1d(y, warn=True)\n"
          ],
          "name": "stderr"
        }
      ]
    },
    {
      "cell_type": "code",
      "metadata": {
        "id": "p1zoicudhVFQ",
        "colab_type": "code",
        "outputId": "5caea2bb-b9bf-42b6-baae-06054d865be1",
        "colab": {
          "base_uri": "https://localhost:8080/",
          "height": 51
        }
      },
      "source": [
        "multinomial_bagofwords_predictn=multinomial.predict(CountVect_test)\n",
        "print(multinomial_bagofwords_predictn)\n",
        "multinomial_tfidf_predictn=multinomial.predict(TfidVect_test)\n",
        "print(multinomial_tfidf_predictn)"
      ],
      "execution_count": 0,
      "outputs": [
        {
          "output_type": "stream",
          "text": [
            "[1 0 0 0 0 0 0 0 1 1 0 0 1 0 1 1 0 1 0 0]\n",
            "[1 0 0 0 0 0 0 0 1 1 0 0 0 1 1 1 0 1 0 0]\n"
          ],
          "name": "stdout"
        }
      ]
    },
    {
      "cell_type": "code",
      "metadata": {
        "id": "mgnh3yiShYxj",
        "colab_type": "code",
        "outputId": "52c33d97-5a7e-42df-9854-ab83483b018b",
        "colab": {
          "base_uri": "https://localhost:8080/",
          "height": 51
        }
      },
      "source": [
        "multinomial_bagofwords_score=accuracy_score(test_classify,multinomial_bagofwords_predictn)\n",
        "print(\"multinomial_bagofwords_score :\",multinomial_bagofwords_score)\n",
        "multinomial_tfidf_score=accuracy_score(test_classify,multinomial_tfidf_predictn)\n",
        "print(\"multinomial_tfidf_score :\",multinomial_tfidf_score)"
      ],
      "execution_count": 0,
      "outputs": [
        {
          "output_type": "stream",
          "text": [
            "multinomial_bagofwords_score : 0.5\n",
            "multinomial_tfidf_score : 0.4\n"
          ],
          "name": "stdout"
        }
      ]
    },
    {
      "cell_type": "code",
      "metadata": {
        "id": "B0K8ay-IhPGS",
        "colab_type": "code",
        "outputId": "50040467-1266-48cb-f28d-d1b3ad28293b",
        "colab": {
          "base_uri": "https://localhost:8080/",
          "height": 323
        }
      },
      "source": [
        "multinomial_bagofwords_Report=classification_report(test_classify,multinomial_bagofwords_predictn,target_names=['Positive','Negative'])\n",
        "print(multinomial_bagofwords_Report)\n",
        "multinomial_tfidf_Report=classification_report(test_classify,multinomial_tfidf_predictn,target_names=['Positive','Negative'])\n",
        "print(multinomial_tfidf_Report)"
      ],
      "execution_count": 0,
      "outputs": [
        {
          "output_type": "stream",
          "text": [
            "              precision    recall  f1-score   support\n",
            "\n",
            "    Positive       0.54      0.64      0.58        11\n",
            "    Negative       0.43      0.33      0.38         9\n",
            "\n",
            "    accuracy                           0.50        20\n",
            "   macro avg       0.48      0.48      0.48        20\n",
            "weighted avg       0.49      0.50      0.49        20\n",
            "\n",
            "              precision    recall  f1-score   support\n",
            "\n",
            "    Positive       0.46      0.55      0.50        11\n",
            "    Negative       0.29      0.22      0.25         9\n",
            "\n",
            "    accuracy                           0.40        20\n",
            "   macro avg       0.37      0.38      0.37        20\n",
            "weighted avg       0.38      0.40      0.39        20\n",
            "\n"
          ],
          "name": "stdout"
        }
      ]
    },
    {
      "cell_type": "markdown",
      "metadata": {
        "id": "E5mmYIfN8eYV",
        "colab_type": "text"
      },
      "source": [
        "# **Question 3: House price prediction**"
      ]
    },
    {
      "cell_type": "markdown",
      "metadata": {
        "id": "hsi2y4z88ngX",
        "colab_type": "text"
      },
      "source": [
        "(40 points). You are required to build a **regression** model to predict the house price with 79 explanatory variables describing (almost) every aspect of residential homes. The purpose of this question is to practice regression analysis, an supervised learning model. The training data, testing data, and data description files can be download here: https://github.com/unt-iialab/INFO5731_Spring2020/blob/master/Assignments/assignment4-question3-data.zip. Here is an axample for implementation: https://towardsdatascience.com/linear-regression-in-python-predict-the-bay-areas-home-price-5c91c8378878. \n"
      ]
    },
    {
      "cell_type": "code",
      "metadata": {
        "id": "XfvMKJjIXS5G",
        "colab_type": "code",
        "outputId": "cca13a51-9158-473e-c5bf-35ca918b1bf8",
        "colab": {
          "base_uri": "https://localhost:8080/",
          "height": 71
        }
      },
      "source": [
        "import pandas as pd\n",
        "import numpy as np\n",
        "import seaborn as sns\n",
        "import matplotlib.pyplot as plt\n",
        "from scipy import stats\n",
        "from scipy.stats import skew,norm\n",
        "from scipy.stats.stats import pearsonr"
      ],
      "execution_count": 0,
      "outputs": [
        {
          "output_type": "stream",
          "text": [
            "/usr/local/lib/python3.6/dist-packages/statsmodels/tools/_testing.py:19: FutureWarning: pandas.util.testing is deprecated. Use the functions in the public API at pandas.testing instead.\n",
            "  import pandas.util.testing as tm\n"
          ],
          "name": "stderr"
        }
      ]
    },
    {
      "cell_type": "code",
      "metadata": {
        "id": "8SAeEkS3ps5z",
        "colab_type": "code",
        "outputId": "72f2c77e-2bf7-4795-c446-01eba5661ffe",
        "colab": {
          "base_uri": "https://localhost:8080/",
          "height": 377
        }
      },
      "source": [
        "\n",
        "train = pd.read_csv(\"train.csv\")\n",
        "test = pd.read_csv(\"test.csv\")\n",
        "train_ID = train['Id']\n",
        "test_ID = test['Id']\n",
        "train.drop(\"Id\",axis =1,inplace = True)\n",
        "test.drop(\"Id\",axis =1,inplace= True)\n",
        "print (\"Train data: \\n\")\n",
        "print (\"Number of columns: \" + str (train.shape[1]))\n",
        "print (\"number of rows: \" + str (train.shape[0]))\n",
        "\n",
        "print('\\nTest data: \\n')\n",
        "print (\"number of columns:\" + str (test.shape[1]))\n",
        "print (\"Number of columns:\" +  str (test.shape[0]))\n",
        "train.head()\n"
      ],
      "execution_count": 0,
      "outputs": [
        {
          "output_type": "stream",
          "text": [
            "Train data: \n",
            "\n",
            "Number of columns: 80\n",
            "number of rows: 1460\n",
            "\n",
            "Test data: \n",
            "\n",
            "number of columns:79\n",
            "Number of columns:1459\n"
          ],
          "name": "stdout"
        },
        {
          "output_type": "execute_result",
          "data": {
            "text/html": [
              "<div>\n",
              "<style scoped>\n",
              "    .dataframe tbody tr th:only-of-type {\n",
              "        vertical-align: middle;\n",
              "    }\n",
              "\n",
              "    .dataframe tbody tr th {\n",
              "        vertical-align: top;\n",
              "    }\n",
              "\n",
              "    .dataframe thead th {\n",
              "        text-align: right;\n",
              "    }\n",
              "</style>\n",
              "<table border=\"1\" class=\"dataframe\">\n",
              "  <thead>\n",
              "    <tr style=\"text-align: right;\">\n",
              "      <th></th>\n",
              "      <th>MSSubClass</th>\n",
              "      <th>MSZoning</th>\n",
              "      <th>LotFrontage</th>\n",
              "      <th>LotArea</th>\n",
              "      <th>Street</th>\n",
              "      <th>Alley</th>\n",
              "      <th>LotShape</th>\n",
              "      <th>LandContour</th>\n",
              "      <th>Utilities</th>\n",
              "      <th>LotConfig</th>\n",
              "      <th>LandSlope</th>\n",
              "      <th>Neighborhood</th>\n",
              "      <th>Condition1</th>\n",
              "      <th>Condition2</th>\n",
              "      <th>BldgType</th>\n",
              "      <th>HouseStyle</th>\n",
              "      <th>OverallQual</th>\n",
              "      <th>OverallCond</th>\n",
              "      <th>YearBuilt</th>\n",
              "      <th>YearRemodAdd</th>\n",
              "      <th>RoofStyle</th>\n",
              "      <th>RoofMatl</th>\n",
              "      <th>Exterior1st</th>\n",
              "      <th>Exterior2nd</th>\n",
              "      <th>MasVnrType</th>\n",
              "      <th>MasVnrArea</th>\n",
              "      <th>ExterQual</th>\n",
              "      <th>ExterCond</th>\n",
              "      <th>Foundation</th>\n",
              "      <th>BsmtQual</th>\n",
              "      <th>BsmtCond</th>\n",
              "      <th>BsmtExposure</th>\n",
              "      <th>BsmtFinType1</th>\n",
              "      <th>BsmtFinSF1</th>\n",
              "      <th>BsmtFinType2</th>\n",
              "      <th>BsmtFinSF2</th>\n",
              "      <th>BsmtUnfSF</th>\n",
              "      <th>TotalBsmtSF</th>\n",
              "      <th>Heating</th>\n",
              "      <th>HeatingQC</th>\n",
              "      <th>CentralAir</th>\n",
              "      <th>Electrical</th>\n",
              "      <th>1stFlrSF</th>\n",
              "      <th>2ndFlrSF</th>\n",
              "      <th>LowQualFinSF</th>\n",
              "      <th>GrLivArea</th>\n",
              "      <th>BsmtFullBath</th>\n",
              "      <th>BsmtHalfBath</th>\n",
              "      <th>FullBath</th>\n",
              "      <th>HalfBath</th>\n",
              "      <th>BedroomAbvGr</th>\n",
              "      <th>KitchenAbvGr</th>\n",
              "      <th>KitchenQual</th>\n",
              "      <th>TotRmsAbvGrd</th>\n",
              "      <th>Functional</th>\n",
              "      <th>Fireplaces</th>\n",
              "      <th>FireplaceQu</th>\n",
              "      <th>GarageType</th>\n",
              "      <th>GarageYrBlt</th>\n",
              "      <th>GarageFinish</th>\n",
              "      <th>GarageCars</th>\n",
              "      <th>GarageArea</th>\n",
              "      <th>GarageQual</th>\n",
              "      <th>GarageCond</th>\n",
              "      <th>PavedDrive</th>\n",
              "      <th>WoodDeckSF</th>\n",
              "      <th>OpenPorchSF</th>\n",
              "      <th>EnclosedPorch</th>\n",
              "      <th>3SsnPorch</th>\n",
              "      <th>ScreenPorch</th>\n",
              "      <th>PoolArea</th>\n",
              "      <th>PoolQC</th>\n",
              "      <th>Fence</th>\n",
              "      <th>MiscFeature</th>\n",
              "      <th>MiscVal</th>\n",
              "      <th>MoSold</th>\n",
              "      <th>YrSold</th>\n",
              "      <th>SaleType</th>\n",
              "      <th>SaleCondition</th>\n",
              "      <th>SalePrice</th>\n",
              "    </tr>\n",
              "  </thead>\n",
              "  <tbody>\n",
              "    <tr>\n",
              "      <th>0</th>\n",
              "      <td>60</td>\n",
              "      <td>RL</td>\n",
              "      <td>65.0</td>\n",
              "      <td>8450</td>\n",
              "      <td>Pave</td>\n",
              "      <td>NaN</td>\n",
              "      <td>Reg</td>\n",
              "      <td>Lvl</td>\n",
              "      <td>AllPub</td>\n",
              "      <td>Inside</td>\n",
              "      <td>Gtl</td>\n",
              "      <td>CollgCr</td>\n",
              "      <td>Norm</td>\n",
              "      <td>Norm</td>\n",
              "      <td>1Fam</td>\n",
              "      <td>2Story</td>\n",
              "      <td>7</td>\n",
              "      <td>5</td>\n",
              "      <td>2003</td>\n",
              "      <td>2003</td>\n",
              "      <td>Gable</td>\n",
              "      <td>CompShg</td>\n",
              "      <td>VinylSd</td>\n",
              "      <td>VinylSd</td>\n",
              "      <td>BrkFace</td>\n",
              "      <td>196.0</td>\n",
              "      <td>Gd</td>\n",
              "      <td>TA</td>\n",
              "      <td>PConc</td>\n",
              "      <td>Gd</td>\n",
              "      <td>TA</td>\n",
              "      <td>No</td>\n",
              "      <td>GLQ</td>\n",
              "      <td>706</td>\n",
              "      <td>Unf</td>\n",
              "      <td>0</td>\n",
              "      <td>150</td>\n",
              "      <td>856</td>\n",
              "      <td>GasA</td>\n",
              "      <td>Ex</td>\n",
              "      <td>Y</td>\n",
              "      <td>SBrkr</td>\n",
              "      <td>856</td>\n",
              "      <td>854</td>\n",
              "      <td>0</td>\n",
              "      <td>1710</td>\n",
              "      <td>1</td>\n",
              "      <td>0</td>\n",
              "      <td>2</td>\n",
              "      <td>1</td>\n",
              "      <td>3</td>\n",
              "      <td>1</td>\n",
              "      <td>Gd</td>\n",
              "      <td>8</td>\n",
              "      <td>Typ</td>\n",
              "      <td>0</td>\n",
              "      <td>NaN</td>\n",
              "      <td>Attchd</td>\n",
              "      <td>2003.0</td>\n",
              "      <td>RFn</td>\n",
              "      <td>2</td>\n",
              "      <td>548</td>\n",
              "      <td>TA</td>\n",
              "      <td>TA</td>\n",
              "      <td>Y</td>\n",
              "      <td>0</td>\n",
              "      <td>61</td>\n",
              "      <td>0</td>\n",
              "      <td>0</td>\n",
              "      <td>0</td>\n",
              "      <td>0</td>\n",
              "      <td>NaN</td>\n",
              "      <td>NaN</td>\n",
              "      <td>NaN</td>\n",
              "      <td>0</td>\n",
              "      <td>2</td>\n",
              "      <td>2008</td>\n",
              "      <td>WD</td>\n",
              "      <td>Normal</td>\n",
              "      <td>208500</td>\n",
              "    </tr>\n",
              "    <tr>\n",
              "      <th>1</th>\n",
              "      <td>20</td>\n",
              "      <td>RL</td>\n",
              "      <td>80.0</td>\n",
              "      <td>9600</td>\n",
              "      <td>Pave</td>\n",
              "      <td>NaN</td>\n",
              "      <td>Reg</td>\n",
              "      <td>Lvl</td>\n",
              "      <td>AllPub</td>\n",
              "      <td>FR2</td>\n",
              "      <td>Gtl</td>\n",
              "      <td>Veenker</td>\n",
              "      <td>Feedr</td>\n",
              "      <td>Norm</td>\n",
              "      <td>1Fam</td>\n",
              "      <td>1Story</td>\n",
              "      <td>6</td>\n",
              "      <td>8</td>\n",
              "      <td>1976</td>\n",
              "      <td>1976</td>\n",
              "      <td>Gable</td>\n",
              "      <td>CompShg</td>\n",
              "      <td>MetalSd</td>\n",
              "      <td>MetalSd</td>\n",
              "      <td>None</td>\n",
              "      <td>0.0</td>\n",
              "      <td>TA</td>\n",
              "      <td>TA</td>\n",
              "      <td>CBlock</td>\n",
              "      <td>Gd</td>\n",
              "      <td>TA</td>\n",
              "      <td>Gd</td>\n",
              "      <td>ALQ</td>\n",
              "      <td>978</td>\n",
              "      <td>Unf</td>\n",
              "      <td>0</td>\n",
              "      <td>284</td>\n",
              "      <td>1262</td>\n",
              "      <td>GasA</td>\n",
              "      <td>Ex</td>\n",
              "      <td>Y</td>\n",
              "      <td>SBrkr</td>\n",
              "      <td>1262</td>\n",
              "      <td>0</td>\n",
              "      <td>0</td>\n",
              "      <td>1262</td>\n",
              "      <td>0</td>\n",
              "      <td>1</td>\n",
              "      <td>2</td>\n",
              "      <td>0</td>\n",
              "      <td>3</td>\n",
              "      <td>1</td>\n",
              "      <td>TA</td>\n",
              "      <td>6</td>\n",
              "      <td>Typ</td>\n",
              "      <td>1</td>\n",
              "      <td>TA</td>\n",
              "      <td>Attchd</td>\n",
              "      <td>1976.0</td>\n",
              "      <td>RFn</td>\n",
              "      <td>2</td>\n",
              "      <td>460</td>\n",
              "      <td>TA</td>\n",
              "      <td>TA</td>\n",
              "      <td>Y</td>\n",
              "      <td>298</td>\n",
              "      <td>0</td>\n",
              "      <td>0</td>\n",
              "      <td>0</td>\n",
              "      <td>0</td>\n",
              "      <td>0</td>\n",
              "      <td>NaN</td>\n",
              "      <td>NaN</td>\n",
              "      <td>NaN</td>\n",
              "      <td>0</td>\n",
              "      <td>5</td>\n",
              "      <td>2007</td>\n",
              "      <td>WD</td>\n",
              "      <td>Normal</td>\n",
              "      <td>181500</td>\n",
              "    </tr>\n",
              "    <tr>\n",
              "      <th>2</th>\n",
              "      <td>60</td>\n",
              "      <td>RL</td>\n",
              "      <td>68.0</td>\n",
              "      <td>11250</td>\n",
              "      <td>Pave</td>\n",
              "      <td>NaN</td>\n",
              "      <td>IR1</td>\n",
              "      <td>Lvl</td>\n",
              "      <td>AllPub</td>\n",
              "      <td>Inside</td>\n",
              "      <td>Gtl</td>\n",
              "      <td>CollgCr</td>\n",
              "      <td>Norm</td>\n",
              "      <td>Norm</td>\n",
              "      <td>1Fam</td>\n",
              "      <td>2Story</td>\n",
              "      <td>7</td>\n",
              "      <td>5</td>\n",
              "      <td>2001</td>\n",
              "      <td>2002</td>\n",
              "      <td>Gable</td>\n",
              "      <td>CompShg</td>\n",
              "      <td>VinylSd</td>\n",
              "      <td>VinylSd</td>\n",
              "      <td>BrkFace</td>\n",
              "      <td>162.0</td>\n",
              "      <td>Gd</td>\n",
              "      <td>TA</td>\n",
              "      <td>PConc</td>\n",
              "      <td>Gd</td>\n",
              "      <td>TA</td>\n",
              "      <td>Mn</td>\n",
              "      <td>GLQ</td>\n",
              "      <td>486</td>\n",
              "      <td>Unf</td>\n",
              "      <td>0</td>\n",
              "      <td>434</td>\n",
              "      <td>920</td>\n",
              "      <td>GasA</td>\n",
              "      <td>Ex</td>\n",
              "      <td>Y</td>\n",
              "      <td>SBrkr</td>\n",
              "      <td>920</td>\n",
              "      <td>866</td>\n",
              "      <td>0</td>\n",
              "      <td>1786</td>\n",
              "      <td>1</td>\n",
              "      <td>0</td>\n",
              "      <td>2</td>\n",
              "      <td>1</td>\n",
              "      <td>3</td>\n",
              "      <td>1</td>\n",
              "      <td>Gd</td>\n",
              "      <td>6</td>\n",
              "      <td>Typ</td>\n",
              "      <td>1</td>\n",
              "      <td>TA</td>\n",
              "      <td>Attchd</td>\n",
              "      <td>2001.0</td>\n",
              "      <td>RFn</td>\n",
              "      <td>2</td>\n",
              "      <td>608</td>\n",
              "      <td>TA</td>\n",
              "      <td>TA</td>\n",
              "      <td>Y</td>\n",
              "      <td>0</td>\n",
              "      <td>42</td>\n",
              "      <td>0</td>\n",
              "      <td>0</td>\n",
              "      <td>0</td>\n",
              "      <td>0</td>\n",
              "      <td>NaN</td>\n",
              "      <td>NaN</td>\n",
              "      <td>NaN</td>\n",
              "      <td>0</td>\n",
              "      <td>9</td>\n",
              "      <td>2008</td>\n",
              "      <td>WD</td>\n",
              "      <td>Normal</td>\n",
              "      <td>223500</td>\n",
              "    </tr>\n",
              "    <tr>\n",
              "      <th>3</th>\n",
              "      <td>70</td>\n",
              "      <td>RL</td>\n",
              "      <td>60.0</td>\n",
              "      <td>9550</td>\n",
              "      <td>Pave</td>\n",
              "      <td>NaN</td>\n",
              "      <td>IR1</td>\n",
              "      <td>Lvl</td>\n",
              "      <td>AllPub</td>\n",
              "      <td>Corner</td>\n",
              "      <td>Gtl</td>\n",
              "      <td>Crawfor</td>\n",
              "      <td>Norm</td>\n",
              "      <td>Norm</td>\n",
              "      <td>1Fam</td>\n",
              "      <td>2Story</td>\n",
              "      <td>7</td>\n",
              "      <td>5</td>\n",
              "      <td>1915</td>\n",
              "      <td>1970</td>\n",
              "      <td>Gable</td>\n",
              "      <td>CompShg</td>\n",
              "      <td>Wd Sdng</td>\n",
              "      <td>Wd Shng</td>\n",
              "      <td>None</td>\n",
              "      <td>0.0</td>\n",
              "      <td>TA</td>\n",
              "      <td>TA</td>\n",
              "      <td>BrkTil</td>\n",
              "      <td>TA</td>\n",
              "      <td>Gd</td>\n",
              "      <td>No</td>\n",
              "      <td>ALQ</td>\n",
              "      <td>216</td>\n",
              "      <td>Unf</td>\n",
              "      <td>0</td>\n",
              "      <td>540</td>\n",
              "      <td>756</td>\n",
              "      <td>GasA</td>\n",
              "      <td>Gd</td>\n",
              "      <td>Y</td>\n",
              "      <td>SBrkr</td>\n",
              "      <td>961</td>\n",
              "      <td>756</td>\n",
              "      <td>0</td>\n",
              "      <td>1717</td>\n",
              "      <td>1</td>\n",
              "      <td>0</td>\n",
              "      <td>1</td>\n",
              "      <td>0</td>\n",
              "      <td>3</td>\n",
              "      <td>1</td>\n",
              "      <td>Gd</td>\n",
              "      <td>7</td>\n",
              "      <td>Typ</td>\n",
              "      <td>1</td>\n",
              "      <td>Gd</td>\n",
              "      <td>Detchd</td>\n",
              "      <td>1998.0</td>\n",
              "      <td>Unf</td>\n",
              "      <td>3</td>\n",
              "      <td>642</td>\n",
              "      <td>TA</td>\n",
              "      <td>TA</td>\n",
              "      <td>Y</td>\n",
              "      <td>0</td>\n",
              "      <td>35</td>\n",
              "      <td>272</td>\n",
              "      <td>0</td>\n",
              "      <td>0</td>\n",
              "      <td>0</td>\n",
              "      <td>NaN</td>\n",
              "      <td>NaN</td>\n",
              "      <td>NaN</td>\n",
              "      <td>0</td>\n",
              "      <td>2</td>\n",
              "      <td>2006</td>\n",
              "      <td>WD</td>\n",
              "      <td>Abnorml</td>\n",
              "      <td>140000</td>\n",
              "    </tr>\n",
              "    <tr>\n",
              "      <th>4</th>\n",
              "      <td>60</td>\n",
              "      <td>RL</td>\n",
              "      <td>84.0</td>\n",
              "      <td>14260</td>\n",
              "      <td>Pave</td>\n",
              "      <td>NaN</td>\n",
              "      <td>IR1</td>\n",
              "      <td>Lvl</td>\n",
              "      <td>AllPub</td>\n",
              "      <td>FR2</td>\n",
              "      <td>Gtl</td>\n",
              "      <td>NoRidge</td>\n",
              "      <td>Norm</td>\n",
              "      <td>Norm</td>\n",
              "      <td>1Fam</td>\n",
              "      <td>2Story</td>\n",
              "      <td>8</td>\n",
              "      <td>5</td>\n",
              "      <td>2000</td>\n",
              "      <td>2000</td>\n",
              "      <td>Gable</td>\n",
              "      <td>CompShg</td>\n",
              "      <td>VinylSd</td>\n",
              "      <td>VinylSd</td>\n",
              "      <td>BrkFace</td>\n",
              "      <td>350.0</td>\n",
              "      <td>Gd</td>\n",
              "      <td>TA</td>\n",
              "      <td>PConc</td>\n",
              "      <td>Gd</td>\n",
              "      <td>TA</td>\n",
              "      <td>Av</td>\n",
              "      <td>GLQ</td>\n",
              "      <td>655</td>\n",
              "      <td>Unf</td>\n",
              "      <td>0</td>\n",
              "      <td>490</td>\n",
              "      <td>1145</td>\n",
              "      <td>GasA</td>\n",
              "      <td>Ex</td>\n",
              "      <td>Y</td>\n",
              "      <td>SBrkr</td>\n",
              "      <td>1145</td>\n",
              "      <td>1053</td>\n",
              "      <td>0</td>\n",
              "      <td>2198</td>\n",
              "      <td>1</td>\n",
              "      <td>0</td>\n",
              "      <td>2</td>\n",
              "      <td>1</td>\n",
              "      <td>4</td>\n",
              "      <td>1</td>\n",
              "      <td>Gd</td>\n",
              "      <td>9</td>\n",
              "      <td>Typ</td>\n",
              "      <td>1</td>\n",
              "      <td>TA</td>\n",
              "      <td>Attchd</td>\n",
              "      <td>2000.0</td>\n",
              "      <td>RFn</td>\n",
              "      <td>3</td>\n",
              "      <td>836</td>\n",
              "      <td>TA</td>\n",
              "      <td>TA</td>\n",
              "      <td>Y</td>\n",
              "      <td>192</td>\n",
              "      <td>84</td>\n",
              "      <td>0</td>\n",
              "      <td>0</td>\n",
              "      <td>0</td>\n",
              "      <td>0</td>\n",
              "      <td>NaN</td>\n",
              "      <td>NaN</td>\n",
              "      <td>NaN</td>\n",
              "      <td>0</td>\n",
              "      <td>12</td>\n",
              "      <td>2008</td>\n",
              "      <td>WD</td>\n",
              "      <td>Normal</td>\n",
              "      <td>250000</td>\n",
              "    </tr>\n",
              "  </tbody>\n",
              "</table>\n",
              "</div>"
            ],
            "text/plain": [
              "   MSSubClass MSZoning  LotFrontage  ...  SaleType SaleCondition SalePrice\n",
              "0          60       RL         65.0  ...        WD        Normal    208500\n",
              "1          20       RL         80.0  ...        WD        Normal    181500\n",
              "2          60       RL         68.0  ...        WD        Normal    223500\n",
              "3          70       RL         60.0  ...        WD       Abnorml    140000\n",
              "4          60       RL         84.0  ...        WD        Normal    250000\n",
              "\n",
              "[5 rows x 80 columns]"
            ]
          },
          "metadata": {
            "tags": []
          },
          "execution_count": 124
        }
      ]
    },
    {
      "cell_type": "code",
      "metadata": {
        "id": "SVfOwFe4qwLC",
        "colab_type": "code",
        "outputId": "d04fc886-a1d5-45c8-8bf0-8627be8b6649",
        "colab": {
          "base_uri": "https://localhost:8080/",
          "height": 170
        }
      },
      "source": [
        "train['SalePrice'].describe()\n"
      ],
      "execution_count": 0,
      "outputs": [
        {
          "output_type": "execute_result",
          "data": {
            "text/plain": [
              "count      1460.000000\n",
              "mean     180921.195890\n",
              "std       79442.502883\n",
              "min       34900.000000\n",
              "25%      129975.000000\n",
              "50%      163000.000000\n",
              "75%      214000.000000\n",
              "max      755000.000000\n",
              "Name: SalePrice, dtype: float64"
            ]
          },
          "metadata": {
            "tags": []
          },
          "execution_count": 66
        }
      ]
    },
    {
      "cell_type": "code",
      "metadata": {
        "id": "56s2vXoPz7Zj",
        "colab_type": "code",
        "outputId": "3175f4c1-2aa9-434c-cf0a-3e6814057634",
        "colab": {
          "base_uri": "https://localhost:8080/",
          "height": 594
        }
      },
      "source": [
        "sns.distplot(train.SalePrice,fit=norm);\n",
        "plt.ylabel =('Frequency')\n",
        "plt.title = ('SalePrice Distribution');\n",
        "(mu, sigma) = norm.fit(train['SalePrice']);\n",
        "fig = plt.figure()\n",
        "res = stats.probplot(train['SalePrice'], plot=plt)\n",
        "plt.show()\n",
        "print(\"the skewness is: %f\" % train['SalePrice'].skew())\n",
        "print(\"the kurtosis is: %f\" % train ['SalePrice'].kurt())"
      ],
      "execution_count": 0,
      "outputs": [
        {
          "output_type": "display_data",
          "data": {
            "image/png": "[encoded data removed]",
            "text/plain": [
              "<Figure size 432x288 with 1 Axes>"
            ]
          },
          "metadata": {
            "tags": []
          }
        },
        {
          "output_type": "display_data",
          "data": {
            "image/png": "[encoded data removed]",
            "text/plain": [
              "<Figure size 432x288 with 1 Axes>"
            ]
          },
          "metadata": {
            "tags": []
          }
        },
        {
          "output_type": "stream",
          "text": [
            "the skewness is: 1.882876\n",
            "the kurtosis is: 6.536282\n"
          ],
          "name": "stdout"
        }
      ]
    },
    {
      "cell_type": "code",
      "metadata": {
        "id": "h23mxItL0Wcm",
        "colab_type": "code",
        "outputId": "96de3aac-d444-432d-d33f-593079542297",
        "colab": {
          "base_uri": "https://localhost:8080/",
          "height": 580
        }
      },
      "source": [
        "train[\"SalePrice\"] = np.log1p(train[\"SalePrice\"])\n",
        "sns.distplot(train.SalePrice,fit=norm);\n",
        "plt.ylabel=('Frequency')\n",
        "plt.title=('SalePrice distribution');\n",
        "(mu,sigma)= norm.fit(train['SalePrice']);\n",
        "fig =plt.figure()\n",
        "res =stats. probplot(train['SalePrice'], plot=plt)\n",
        "plt.show()\n",
        "print(\"the skewness is: %f\" % train['SalePrice'].skew())\n",
        "print(\"the kurtosis is: %f\" % train ['SalePrice'].kurt())"
      ],
      "execution_count": 0,
      "outputs": [
        {
          "output_type": "display_data",
          "data": {
            "image/png": "[encoded data removed]",
            "text/plain": [
              "<Figure size 432x288 with 1 Axes>"
            ]
          },
          "metadata": {
            "tags": []
          }
        },
        {
          "output_type": "display_data",
          "data": {
            "image/png": "[encoded data removed]",
            "text/plain": [
              "<Figure size 432x288 with 1 Axes>"
            ]
          },
          "metadata": {
            "tags": []
          }
        },
        {
          "output_type": "stream",
          "text": [
            "the skewness is: 0.121347\n",
            "the kurtosis is: 0.809519\n"
          ],
          "name": "stdout"
        }
      ]
    },
    {
      "cell_type": "code",
      "metadata": {
        "id": "gKFYo4T40mDO",
        "colab_type": "code",
        "outputId": "1e4da179-ea4d-412b-ae02-7ce80592df4b",
        "colab": {
          "base_uri": "https://localhost:8080/",
          "height": 609
        }
      },
      "source": [
        "corrmat = train.corr()\n",
        "f, ax = plt.subplots(figsize=(12, 9))\n",
        "sns.heatmap(corrmat,vmax=0.9, square=True)\n",
        "#plt.show();\n",
        "cols = corrmat.nlargest(10, 'SalePrice')['SalePrice'].index\n",
        "cm = np.corrcoef(train[cols].values.T)\n",
        "sns.set(font_scale=1.25)\n",
        "hm = sns.heatmap(cm, cbar=True, annot=True, square=True, fmt='.2f', annot_kws={'size': 10}, yticklabels=cols.values,\n",
        "                 xticklabels=cols.values)\n",
        "plt.yticks(rotation=0)\n",
        "plt.xticks(rotation=90)\n",
        "plt.show()"
      ],
      "execution_count": 0,
      "outputs": [
        {
          "output_type": "display_data",
          "data": {
            "image/png": "[encoded data removed]",
            "text/plain": [
              "<Figure size 864x648 with 3 Axes>"
            ]
          },
          "metadata": {
            "tags": []
          }
        }
      ]
    },
    {
      "cell_type": "code",
      "metadata": {
        "id": "OivqEL7R1Tqy",
        "colab_type": "code",
        "outputId": "41e93450-91b9-4ab6-ccc2-8ca3cc555579",
        "colab": {
          "base_uri": "https://localhost:8080/",
          "height": 1000
        }
      },
      "source": [
        "#scatter plots\n",
        "var ='TotalBsmtSF'\n",
        "data = pd.concat([train['SalePrice'],train[var]],axis=1)\n",
        "data.plot.scatter(x=var, y='SalePrice', ylim =0.800000);\n",
        "plt.show()\n",
        "\n",
        "var = 'LotArea'\n",
        "data = pd.concat([train['SalePrice'], train[var]], axis=1)\n",
        "data.plot.scatter(x= var, y='SalePrice', ylim =(0,800000));\n",
        "plt.show();\n",
        "\n",
        "var ='GrLivArea'\n",
        "data =pd.concat([train['SalePrice'], train[var]], axis=1)\n",
        "data.plot.scatter(x=var, y='SalePrice',ylim=(0,800000));\n",
        "plt.show()\n",
        "\n",
        "var = 'GarageArea'\n",
        "data =pd.concat([train['SalePrice'], train[var]], axis=1)\n",
        "data.plot.scatter(x=var,y='SalePrice', ylim= (0,800000));\n",
        "plt.show()"
      ],
      "execution_count": 0,
      "outputs": [
        {
          "output_type": "stream",
          "text": [
            "'c' argument looks like a single numeric RGB or RGBA sequence, which should be avoided as value-mapping will have precedence in case its length matches with 'x' & 'y'.  Please use a 2-D array with a single row if you really want to specify the same RGB or RGBA value for all points.\n"
          ],
          "name": "stderr"
        },
        {
          "output_type": "display_data",
          "data": {
            "image/png": "[encoded data removed]",
            "text/plain": [
              "<Figure size 432x288 with 1 Axes>"
            ]
          },
          "metadata": {
            "tags": []
          }
        },
        {
          "output_type": "stream",
          "text": [
            "'c' argument looks like a single numeric RGB or RGBA sequence, which should be avoided as value-mapping will have precedence in case its length matches with 'x' & 'y'.  Please use a 2-D array with a single row if you really want to specify the same RGB or RGBA value for all points.\n"
          ],
          "name": "stderr"
        },
        {
          "output_type": "display_data",
          "data": {
            "image/png": "[encoded data removed]",
            "text/plain": [
              "<Figure size 432x288 with 1 Axes>"
            ]
          },
          "metadata": {
            "tags": []
          }
        },
        {
          "output_type": "stream",
          "text": [
            "'c' argument looks like a single numeric RGB or RGBA sequence, which should be avoided as value-mapping will have precedence in case its length matches with 'x' & 'y'.  Please use a 2-D array with a single row if you really want to specify the same RGB or RGBA value for all points.\n"
          ],
          "name": "stderr"
        },
        {
          "output_type": "display_data",
          "data": {
            "image/png": "[encoded data removed]",
            "text/plain": [
              "<Figure size 432x288 with 1 Axes>"
            ]
          },
          "metadata": {
            "tags": []
          }
        },
        {
          "output_type": "stream",
          "text": [
            "'c' argument looks like a single numeric RGB or RGBA sequence, which should be avoided as value-mapping will have precedence in case its length matches with 'x' & 'y'.  Please use a 2-D array with a single row if you really want to specify the same RGB or RGBA value for all points.\n"
          ],
          "name": "stderr"
        },
        {
          "output_type": "display_data",
          "data": {
            "image/png": "[encoded data removed]",
            "text/plain": [
              "<Figure size 432x288 with 1 Axes>"
            ]
          },
          "metadata": {
            "tags": []
          }
        }
      ]
    },
    {
      "cell_type": "code",
      "metadata": {
        "id": "xSuEJdVq2LnG",
        "colab_type": "code",
        "outputId": "4f87ee61-7816-4fc3-b5e5-d9897a0ead53",
        "colab": {
          "base_uri": "https://localhost:8080/",
          "height": 686
        }
      },
      "source": [
        "#train.head()\n",
        "all_data = pd.concat((train.loc[:, 'MSSubClass': 'SaleCondition'],\n",
        "                     test.loc[:,'MSSubClass':'SaleCondition']))\n",
        "print(\"all_data size is: {} \".format(all_data.shape))\n",
        "all_data_na = (all_data.isnull().sum()/ len(all_data)) * 100\n",
        "all_data_na = all_data_na.drop(all_data_na[all_data_na == 0].index).sort_values(ascending = False)\n",
        "\n",
        "missing_data =pd.DataFrame({'Missing Ratio':all_data_na})\n",
        "missing_data.head(20)"
      ],
      "execution_count": 0,
      "outputs": [
        {
          "output_type": "stream",
          "text": [
            "all_data size is: (2919, 79) \n"
          ],
          "name": "stdout"
        },
        {
          "output_type": "execute_result",
          "data": {
            "text/html": [
              "<div>\n",
              "<style scoped>\n",
              "    .dataframe tbody tr th:only-of-type {\n",
              "        vertical-align: middle;\n",
              "    }\n",
              "\n",
              "    .dataframe tbody tr th {\n",
              "        vertical-align: top;\n",
              "    }\n",
              "\n",
              "    .dataframe thead th {\n",
              "        text-align: right;\n",
              "    }\n",
              "</style>\n",
              "<table border=\"1\" class=\"dataframe\">\n",
              "  <thead>\n",
              "    <tr style=\"text-align: right;\">\n",
              "      <th></th>\n",
              "      <th>Missing Ratio</th>\n",
              "    </tr>\n",
              "  </thead>\n",
              "  <tbody>\n",
              "    <tr>\n",
              "      <th>PoolQC</th>\n",
              "      <td>99.657417</td>\n",
              "    </tr>\n",
              "    <tr>\n",
              "      <th>MiscFeature</th>\n",
              "      <td>96.402878</td>\n",
              "    </tr>\n",
              "    <tr>\n",
              "      <th>Alley</th>\n",
              "      <td>93.216855</td>\n",
              "    </tr>\n",
              "    <tr>\n",
              "      <th>Fence</th>\n",
              "      <td>80.438506</td>\n",
              "    </tr>\n",
              "    <tr>\n",
              "      <th>FireplaceQu</th>\n",
              "      <td>48.646797</td>\n",
              "    </tr>\n",
              "    <tr>\n",
              "      <th>LotFrontage</th>\n",
              "      <td>16.649538</td>\n",
              "    </tr>\n",
              "    <tr>\n",
              "      <th>GarageFinish</th>\n",
              "      <td>5.447071</td>\n",
              "    </tr>\n",
              "    <tr>\n",
              "      <th>GarageYrBlt</th>\n",
              "      <td>5.447071</td>\n",
              "    </tr>\n",
              "    <tr>\n",
              "      <th>GarageQual</th>\n",
              "      <td>5.447071</td>\n",
              "    </tr>\n",
              "    <tr>\n",
              "      <th>GarageCond</th>\n",
              "      <td>5.447071</td>\n",
              "    </tr>\n",
              "    <tr>\n",
              "      <th>GarageType</th>\n",
              "      <td>5.378554</td>\n",
              "    </tr>\n",
              "    <tr>\n",
              "      <th>BsmtExposure</th>\n",
              "      <td>2.809181</td>\n",
              "    </tr>\n",
              "    <tr>\n",
              "      <th>BsmtCond</th>\n",
              "      <td>2.809181</td>\n",
              "    </tr>\n",
              "    <tr>\n",
              "      <th>BsmtQual</th>\n",
              "      <td>2.774923</td>\n",
              "    </tr>\n",
              "    <tr>\n",
              "      <th>BsmtFinType2</th>\n",
              "      <td>2.740665</td>\n",
              "    </tr>\n",
              "    <tr>\n",
              "      <th>BsmtFinType1</th>\n",
              "      <td>2.706406</td>\n",
              "    </tr>\n",
              "    <tr>\n",
              "      <th>MasVnrType</th>\n",
              "      <td>0.822199</td>\n",
              "    </tr>\n",
              "    <tr>\n",
              "      <th>MasVnrArea</th>\n",
              "      <td>0.787941</td>\n",
              "    </tr>\n",
              "    <tr>\n",
              "      <th>MSZoning</th>\n",
              "      <td>0.137033</td>\n",
              "    </tr>\n",
              "    <tr>\n",
              "      <th>BsmtFullBath</th>\n",
              "      <td>0.068517</td>\n",
              "    </tr>\n",
              "  </tbody>\n",
              "</table>\n",
              "</div>"
            ],
            "text/plain": [
              "              Missing Ratio\n",
              "PoolQC            99.657417\n",
              "MiscFeature       96.402878\n",
              "Alley             93.216855\n",
              "Fence             80.438506\n",
              "FireplaceQu       48.646797\n",
              "LotFrontage       16.649538\n",
              "GarageFinish       5.447071\n",
              "GarageYrBlt        5.447071\n",
              "GarageQual         5.447071\n",
              "GarageCond         5.447071\n",
              "GarageType         5.378554\n",
              "BsmtExposure       2.809181\n",
              "BsmtCond           2.809181\n",
              "BsmtQual           2.774923\n",
              "BsmtFinType2       2.740665\n",
              "BsmtFinType1       2.706406\n",
              "MasVnrType         0.822199\n",
              "MasVnrArea         0.787941\n",
              "MSZoning           0.137033\n",
              "BsmtFullBath       0.068517"
            ]
          },
          "metadata": {
            "tags": []
          },
          "execution_count": 123
        }
      ]
    },
    {
      "cell_type": "code",
      "metadata": {
        "id": "2uFSlY-q4iI2",
        "colab_type": "code",
        "colab": {}
      },
      "source": [
        "# we are inputting the missing values for the variables\n",
        "for col in ('PoolQC','MiscFeature','GarageType','Alley','Fence','FireplaceQu','GarageFinish',\n",
        "           'GarageQual','GarageCond','MasVnrType','MSSubClass'):\n",
        "    all_data[col] = all_data[col].fillna('None')\n",
        "for col in ('GarageYrBlt','GarageArea', 'GarageCars'):\n",
        "    all_data[col] = all_data[col].fillna(0)\n",
        "for col in ('BsmtFinSF1','BsmtFinSF2', 'BsmtUnfSF','TotalBsmtSF','BsmtFullBath',\n",
        "            'BsmtHalfBath'):\n",
        "    all_data[col] = all_data[col].fillna(0)\n",
        "all_data[\"MasVnrArea\"] = all_data[\"MasVnrArea\"].fillna(0)\n",
        "for col in ('BsmtQual', 'BsmtCond','BsmtExposure','BsmtFinType1','BsmtFinType2'):\n",
        "    all_data[col] = all_data[col].fillna('None')\n",
        "all_data[\"LotFrontage\"] = all_data.groupby(\"Neighborhood\")[\"LotFrontage\"].transform(\n",
        "lambda x: x.fillna(x.median()))"
      ],
      "execution_count": 0,
      "outputs": []
    },
    {
      "cell_type": "code",
      "metadata": {
        "id": "7Z4p1nc05akE",
        "colab_type": "code",
        "colab": {}
      },
      "source": [
        "#values for missing entries\n",
        "all_data ['MSZoning'] = all_data['MSZoning'].fillna(all_data['MSZoning'].mode()[0])\n",
        "\n",
        "all_data[\"Functional\"] = all_data[\"Functional\"].fillna('Typ')\n",
        "\n",
        "all_data['Electrical'] = all_data['Electrical'].fillna(all_data['Electrical'].mode()[0])\n",
        "\n",
        "all_data['KitchenQual'] =all_data['KitchenQual'].fillna(all_data['KitchenQual'].mode()[0])\n",
        "\n",
        "all_data ['Exterior1st']= all_data['Exterior1st'].fillna(all_data['Exterior1st'].mode()[0])\n",
        "\n",
        "all_data['Exterior2nd']= all_data['Exterior2nd'].fillna(all_data['Exterior2nd'].mode()[0])\n",
        "\n",
        "all_data['SaleType'] = all_data['SaleType'].fillna(all_data['SaleType'].mode()[0])\n",
        "\n",
        "all_data = all_data.drop(['Utilities'], axis=1)"
      ],
      "execution_count": 0,
      "outputs": []
    },
    {
      "cell_type": "code",
      "metadata": {
        "id": "VOLLrJ_N58Mk",
        "colab_type": "code",
        "colab": {}
      },
      "source": [
        "# turning numeric to categorical\n",
        "all_data['MSSubClass']= all_data['MSSubClass'].apply(str)\n",
        "all_data['OverallCond'] =all_data['OverallCond'].astype(str)\n",
        "all_data['YrSold'] = all_data['YrSold'].astype(str)\n",
        "all_data['MoSold'] = all_data['MoSold'].astype(str)"
      ],
      "execution_count": 0,
      "outputs": []
    },
    {
      "cell_type": "code",
      "metadata": {
        "id": "PgjSWNsi6Txr",
        "colab_type": "code",
        "outputId": "64a6ebf9-a3ab-4f74-8830-7212065c4c7b",
        "colab": {
          "base_uri": "https://localhost:8080/",
          "height": 34
        }
      },
      "source": [
        "#labelling categorical variables\n",
        "from sklearn.preprocessing import LabelEncoder\n",
        "cols = ('FireplaceQu', 'BsmtQual', 'BsmtCond', 'GarageQual', 'GarageCond', \n",
        "        'ExterQual', 'ExterCond','HeatingQC', 'PoolQC', 'KitchenQual', 'BsmtFinType1', \n",
        "        'BsmtFinType2', 'Functional', 'Fence', 'BsmtExposure', 'GarageFinish', 'LandSlope',\n",
        "        'LotShape', 'PavedDrive', 'Street', 'Alley', 'CentralAir', 'MSSubClass', 'OverallCond', \n",
        "        'YrSold', 'MoSold')\n",
        "for c in cols:\n",
        "    lbl = LabelEncoder()\n",
        "    lbl.fit(list(all_data[c].values))\n",
        "    all_data[c] = lbl.transform(list(all_data[c].values))\n",
        "print('Shape all_data: {}'.format(all_data.shape))"
      ],
      "execution_count": 0,
      "outputs": [
        {
          "output_type": "stream",
          "text": [
            "Shape all_data: (2919, 78)\n"
          ],
          "name": "stdout"
        }
      ]
    },
    {
      "cell_type": "code",
      "metadata": {
        "id": "qOvZvANT6uuQ",
        "colab_type": "code",
        "colab": {}
      },
      "source": [
        "all_data['TotalSF'] = all_data['TotalBsmtSF'] + all_data['1stFlrSF'] + all_data['2ndFlrSF']\n"
      ],
      "execution_count": 0,
      "outputs": []
    },
    {
      "cell_type": "code",
      "metadata": {
        "id": "W6rejO42FQiF",
        "colab_type": "code",
        "outputId": "f7ee861d-2584-45cd-8076-9419b131ea3a",
        "colab": {
          "base_uri": "https://localhost:8080/",
          "height": 300
        }
      },
      "source": [
        "numeric_features = all_data.dtypes[all_data.dtypes != \"object\"].index\n",
        "\n",
        "skewed_features = all_data[numeric_features].apply(lambda x : skew (x.dropna())).sort_values(ascending=False)\n",
        "#compute skewness\n",
        "print (\"skewness in the numerical features: \\n\")\n",
        "skewness = pd.DataFrame({'Skewness' :skewed_features})   \n",
        "skewness.head(7)"
      ],
      "execution_count": 0,
      "outputs": [
        {
          "output_type": "stream",
          "text": [
            "skewness in the numerical features: \n",
            "\n"
          ],
          "name": "stdout"
        },
        {
          "output_type": "execute_result",
          "data": {
            "text/html": [
              "<div>\n",
              "<style scoped>\n",
              "    .dataframe tbody tr th:only-of-type {\n",
              "        vertical-align: middle;\n",
              "    }\n",
              "\n",
              "    .dataframe tbody tr th {\n",
              "        vertical-align: top;\n",
              "    }\n",
              "\n",
              "    .dataframe thead th {\n",
              "        text-align: right;\n",
              "    }\n",
              "</style>\n",
              "<table border=\"1\" class=\"dataframe\">\n",
              "  <thead>\n",
              "    <tr style=\"text-align: right;\">\n",
              "      <th></th>\n",
              "      <th>Skewness</th>\n",
              "    </tr>\n",
              "  </thead>\n",
              "  <tbody>\n",
              "    <tr>\n",
              "      <th>MiscVal</th>\n",
              "      <td>21.947195</td>\n",
              "    </tr>\n",
              "    <tr>\n",
              "      <th>PoolArea</th>\n",
              "      <td>16.898328</td>\n",
              "    </tr>\n",
              "    <tr>\n",
              "      <th>LotArea</th>\n",
              "      <td>12.822431</td>\n",
              "    </tr>\n",
              "    <tr>\n",
              "      <th>LowQualFinSF</th>\n",
              "      <td>12.088761</td>\n",
              "    </tr>\n",
              "    <tr>\n",
              "      <th>3SsnPorch</th>\n",
              "      <td>11.376065</td>\n",
              "    </tr>\n",
              "    <tr>\n",
              "      <th>LandSlope</th>\n",
              "      <td>4.975157</td>\n",
              "    </tr>\n",
              "    <tr>\n",
              "      <th>KitchenAbvGr</th>\n",
              "      <td>4.302254</td>\n",
              "    </tr>\n",
              "  </tbody>\n",
              "</table>\n",
              "</div>"
            ],
            "text/plain": [
              "               Skewness\n",
              "MiscVal       21.947195\n",
              "PoolArea      16.898328\n",
              "LotArea       12.822431\n",
              "LowQualFinSF  12.088761\n",
              "3SsnPorch     11.376065\n",
              "LandSlope      4.975157\n",
              "KitchenAbvGr   4.302254"
            ]
          },
          "metadata": {
            "tags": []
          },
          "execution_count": 147
        }
      ]
    },
    {
      "cell_type": "code",
      "metadata": {
        "id": "yD2Tqi_rFnrT",
        "colab_type": "code",
        "outputId": "e68f0aba-1490-43dc-da1b-1372fc88ca54",
        "colab": {
          "base_uri": "https://localhost:8080/",
          "height": 34
        }
      },
      "source": [
        "skewness = skewness[abs(skewness) > 0.75]\n",
        "print (\"There are {} skewed numerical features to box cox transform\".format(skewness.shape[0]))\n",
        "\n",
        "from scipy.special import boxcox1p \n",
        "skewed_features = skewness.index\n",
        "lam = 0.15\n",
        "for feat in skewed_features:\n",
        "    all_data[feat] = boxcox1p(all_data[feat], lam)"
      ],
      "execution_count": 0,
      "outputs": [
        {
          "output_type": "stream",
          "text": [
            "There are 59 skewed numerical features to box cox transform\n"
          ],
          "name": "stdout"
        }
      ]
    },
    {
      "cell_type": "code",
      "metadata": {
        "id": "McM29N2cFw_4",
        "colab_type": "code",
        "outputId": "0d67d053-dffb-416e-b734-f298bc5d4f47",
        "colab": {
          "base_uri": "https://localhost:8080/",
          "height": 34
        }
      },
      "source": [
        "all_data = pd.get_dummies(all_data)\n",
        "print(all_data.shape)\n",
        "\n",
        "train = all_data[:ntrain]\n",
        "test = all_data[ntrain:]"
      ],
      "execution_count": 0,
      "outputs": [
        {
          "output_type": "stream",
          "text": [
            "(2919, 221)\n"
          ],
          "name": "stdout"
        }
      ]
    },
    {
      "cell_type": "code",
      "metadata": {
        "id": "pL8TcvVA7p9V",
        "colab_type": "code",
        "colab": {}
      },
      "source": [
        "#linear regression modelling in Lasso and gradient boosting regression\n",
        "from sklearn.linear_model import Lasso\n",
        "from sklearn.preprocessing import RobustScaler\n",
        "from sklearn.ensemble import GradientBoostingRegressor\n",
        "from sklearn.pipeline import make_pipeline\n",
        "from sklearn.model_selection import KFold, cross_val_score, train_test_split\n",
        "from sklearn.metrics import mean_squared_error\n",
        "from sklearn.base import BaseEstimator, TransformerMixin, RegressorMixin, clone"
      ],
      "execution_count": 0,
      "outputs": []
    },
    {
      "cell_type": "code",
      "metadata": {
        "id": "eremVasOARIY",
        "colab_type": "code",
        "colab": {}
      },
      "source": [
        "n_folds = 5\n",
        "\n",
        "def rmsle_cv(model):\n",
        "    kf = KFold(n_folds, shuffle=True, random_state=42).get_n_splits(train.values)\n",
        "    rmse= np.sqrt(-cross_val_score(model, train.values, y_train, scoring=\"neg_mean_squared_error\",\n",
        "cv = kf))\n",
        "    return(rmse)\n",
        "\n",
        "def rmsle(y, y_pred):\n",
        "    return np.sqrt(mean_squared_error(y, y_pred))"
      ],
      "execution_count": 0,
      "outputs": []
    },
    {
      "cell_type": "code",
      "metadata": {
        "id": "fcRtvyx0C-Pe",
        "colab_type": "code",
        "outputId": "f6439090-d40d-49b4-ecdb-c6b087649626",
        "colab": {
          "base_uri": "https://localhost:8080/",
          "height": 51
        }
      },
      "source": [
        "lasso = make_pipeline(RobustScaler(), Lasso(alpha = 0.0005, random_state = 1))\n",
        "score = rmsle_cv(lasso)\n",
        "print(\"Lasso score: {:.4f} ({:.4f})\".format(score.mean(), score.std()))\n",
        "\n",
        "GBoost = GradientBoostingRegressor(loss='huber', learning_rate=0.05, n_estimators=3000,\n",
        "                                   min_samples_split=10, min_samples_leaf=15,max_depth=4,\n",
        "                                   random_state=5,max_features='sqrt')\n",
        "score = rmsle_cv(GBoost)\n",
        "print(\"Gradient Boosting score: {:.4f} ({:.4f})\".format(score.mean(), score.std()))"
      ],
      "execution_count": 0,
      "outputs": [
        {
          "output_type": "stream",
          "text": [
            "Lasso score: 0.1240 (0.0165)\n",
            "Gradient Boosting score: 0.1233 (0.0122)\n"
          ],
          "name": "stdout"
        }
      ]
    },
    {
      "cell_type": "code",
      "metadata": {
        "id": "qwNZF3cVJsLy",
        "colab_type": "code",
        "outputId": "edb217d8-61c7-4863-e743-579ee273b304",
        "colab": {
          "base_uri": "https://localhost:8080/",
          "height": 34
        }
      },
      "source": [
        "class Averaging_Models(BaseEstimator, RegressorMixin, TransformerMixin):\n",
        "    def __init__(self, models):\n",
        "        self.models = models\n",
        "        \n",
        "    # we define clones of the original models to fit the data in\n",
        "    def fit(self, X, y):\n",
        "        self.models_ = [clone(x) for x in self.models]\n",
        "        \n",
        "        # Train cloned base models\n",
        "        for model in self.models_:\n",
        "            model.fit(X, y)\n",
        "\n",
        "        return self\n",
        "    \n",
        "    # now we do the predictions for cloned models and average them\n",
        "    def predict(self, X):\n",
        "        predictions = np.column_stack([model.predict(X) for model in self.models_])\n",
        "        return np.mean(predictions, axis=1)   \n",
        "averaged_models = Averaging_Models(models = (GBoost, lasso))    \n",
        "\n",
        "score = rmsle_cv(averaged_models)\n",
        "print(\"Averaged base models score(cv): {:.4f} ({:.4f})\".format(score.mean(), score.std()))"
      ],
      "execution_count": 0,
      "outputs": [
        {
          "output_type": "stream",
          "text": [
            "Averaged base models score(cv): 0.1185 (0.0139)\n"
          ],
          "name": "stdout"
        }
      ]
    },
    {
      "cell_type": "code",
      "metadata": {
        "id": "QwirM1w4NVTs",
        "colab_type": "code",
        "outputId": "18387dc9-fb8b-4c47-c831-a23f007dd334",
        "colab": {
          "base_uri": "https://localhost:8080/",
          "height": 85
        }
      },
      "source": [
        "averaged_models.fit(train.values, y_train) \n",
        "stacked_train_pred = averaged_models.predict(train.values)\n",
        "stacked_pred = np.expm1(averaged_models.predict(test.values))\n",
        "print(\"RMSLE score of the train data:\") \n",
        "print(RMSLE(y_train,stacked_train_pred))\n",
        "print(\"The Accuracy score is:\") \n",
        "averaged_models.score(train.values, y_train)"
      ],
      "execution_count": 0,
      "outputs": [
        {
          "output_type": "stream",
          "text": [
            "RMSLE score of the train data:\n",
            "0.07576006971422779\n",
            "The Accuracy score is:\n"
          ],
          "name": "stdout"
        },
        {
          "output_type": "execute_result",
          "data": {
            "text/plain": [
              "0.9640039352546921"
            ]
          },
          "metadata": {
            "tags": []
          },
          "execution_count": 187
        }
      ]
    },
    {
      "cell_type": "code",
      "metadata": {
        "id": "H5Kkhbs8BGKB",
        "colab_type": "code",
        "outputId": "36b71cb3-ff2f-4e9e-8cf6-885f022de7a5",
        "colab": {
          "base_uri": "https://localhost:8080/",
          "height": 204
        }
      },
      "source": [
        "ensemble = stacked_pred *1\n",
        "result = pd.DataFrame()\n",
        "result['id'] = test_ID\n",
        "result['SalePrice'] = ensemble\n",
        "result.to_csv('final.csv', index = False)\n",
        "result.head()"
      ],
      "execution_count": 0,
      "outputs": [
        {
          "output_type": "execute_result",
          "data": {
            "text/html": [
              "<div>\n",
              "<style scoped>\n",
              "    .dataframe tbody tr th:only-of-type {\n",
              "        vertical-align: middle;\n",
              "    }\n",
              "\n",
              "    .dataframe tbody tr th {\n",
              "        vertical-align: top;\n",
              "    }\n",
              "\n",
              "    .dataframe thead th {\n",
              "        text-align: right;\n",
              "    }\n",
              "</style>\n",
              "<table border=\"1\" class=\"dataframe\">\n",
              "  <thead>\n",
              "    <tr style=\"text-align: right;\">\n",
              "      <th></th>\n",
              "      <th>id</th>\n",
              "      <th>SalePrice</th>\n",
              "    </tr>\n",
              "  </thead>\n",
              "  <tbody>\n",
              "    <tr>\n",
              "      <th>0</th>\n",
              "      <td>1461</td>\n",
              "      <td>118550.075648</td>\n",
              "    </tr>\n",
              "    <tr>\n",
              "      <th>1</th>\n",
              "      <td>1462</td>\n",
              "      <td>154664.604177</td>\n",
              "    </tr>\n",
              "    <tr>\n",
              "      <th>2</th>\n",
              "      <td>1463</td>\n",
              "      <td>184839.964011</td>\n",
              "    </tr>\n",
              "    <tr>\n",
              "      <th>3</th>\n",
              "      <td>1464</td>\n",
              "      <td>194595.394493</td>\n",
              "    </tr>\n",
              "    <tr>\n",
              "      <th>4</th>\n",
              "      <td>1465</td>\n",
              "      <td>190903.460205</td>\n",
              "    </tr>\n",
              "  </tbody>\n",
              "</table>\n",
              "</div>"
            ],
            "text/plain": [
              "     id      SalePrice\n",
              "0  1461  118550.075648\n",
              "1  1462  154664.604177\n",
              "2  1463  184839.964011\n",
              "3  1464  194595.394493\n",
              "4  1465  190903.460205"
            ]
          },
          "metadata": {
            "tags": []
          },
          "execution_count": 191
        }
      ]
    }
  ]
}