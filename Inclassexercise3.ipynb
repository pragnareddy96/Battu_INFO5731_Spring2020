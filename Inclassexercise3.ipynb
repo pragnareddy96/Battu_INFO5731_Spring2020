{
  "nbformat": 4,
  "nbformat_minor": 0,
  "metadata": {
    "colab": {
      "name": "Untitled7.ipynb",
      "provenance": [],
      "authorship_tag": "ABX9TyMaRYg+JYgAoSI/3VFv4v/U",
      "include_colab_link": true
    },
    "kernelspec": {
      "name": "python3",
      "display_name": "Python 3"
    }
  },
  "cells": [
    {
      "cell_type": "markdown",
      "metadata": {
        "id": "view-in-github",
        "colab_type": "text"
      },
      "source": [
        "<a href=\"https://colab.research.google.com/github/pragnareddy96/Battu_INFO5731_Spring2020/blob/master/Inclassexercise3.ipynb\" target=\"_parent\"><img src=\"https://colab.research.google.com/assets/colab-badge.svg\" alt=\"Open In Colab\"/></a>"
      ]
    },
    {
      "cell_type": "code",
      "metadata": {
        "id": "3Voe11FmvOVH",
        "colab_type": "code",
        "colab": {
          "base_uri": "https://localhost:8080/",
          "height": 88
        },
        "outputId": "5e1e894f-c643-4c78-e1a2-7efb79c3aed7"
      },
      "source": [
        "import urllib.request\n",
        "from bs4 import BeautifulSoup\n",
        "import pandas as pd\n",
        "\n",
        "wiki = \"https://forecast.weather.gov/MapClick.php?textField1=33.22&textField2=-97.15#.XkMpi2hKg2x\"\n",
        "\n",
        "page = urllib.request.urlopen(wiki)\n",
        "soup = BeautifulSoup(page) \n",
        "seven_day = soup.find(id=\"seven-day-forecast\")\n",
        "forecast_items = seven_day.find_all(class_=\"tombstone-container\")\n",
        "\n",
        "tonight = forecast_items[1]\n",
        "print(tonight)"
      ],
      "execution_count": 1,
      "outputs": [
        {
          "output_type": "stream",
          "text": [
            "<div class=\"tombstone-container\">\n",
            "<p class=\"period-name\">Wednesday<br/><br/></p>\n",
            "<p><img alt=\"Wednesday: Showers and possibly a thunderstorm before noon, then a slight chance of showers between noon and 3pm.  High near 50. North wind 5 to 10 mph becoming west in the morning.  Chance of precipitation is 100%. New precipitation amounts between a quarter and half of an inch possible. \" class=\"forecast-icon\" src=\"DualImage.php?i=shra&amp;j=shra&amp;ip=100&amp;jp=20\" title=\"Wednesday: Showers and possibly a thunderstorm before noon, then a slight chance of showers between noon and 3pm.  High near 50. North wind 5 to 10 mph becoming west in the morning.  Chance of precipitation is 100%. New precipitation amounts between a quarter and half of an inch possible. \"/></p><p class=\"short-desc\">Showers then<br/>Slight Chance<br/>Showers</p><p class=\"temp temp-high\">High: 50 °F</p></div>\n"
          ],
          "name": "stdout"
        }
      ]
    },
    {
      "cell_type": "code",
      "metadata": {
        "id": "RsmMEEJEvXCR",
        "colab_type": "code",
        "colab": {
          "base_uri": "https://localhost:8080/",
          "height": 105
        },
        "outputId": "358ea8fd-1c5a-443c-a9fd-361562913f6f"
      },
      "source": [
        "tonight = forecast_items[1]\n",
        "period = tonight.find(class_=\"period-name\").get_text()\n",
        "short_desc = tonight.find(class_=\"short-desc\").get_text()\n",
        "temp = tonight.find(class_=\"temp\").get_text()\n",
        "img = tonight.find('img')\n",
        "Desc = img['title']\n",
        "\n",
        "print(period)\n",
        "print(short_desc)\n",
        "print(temp)\n",
        "print(Desc)"
      ],
      "execution_count": 2,
      "outputs": [
        {
          "output_type": "stream",
          "text": [
            "Wednesday\n",
            "Showers thenSlight ChanceShowers\n",
            "High: 50 °F\n",
            "Wednesday: Showers and possibly a thunderstorm before noon, then a slight chance of showers between noon and 3pm.  High near 50. North wind 5 to 10 mph becoming west in the morning.  Chance of precipitation is 100%. New precipitation amounts between a quarter and half of an inch possible. \n"
          ],
          "name": "stdout"
        }
      ]
    },
    {
      "cell_type": "code",
      "metadata": {
        "id": "w7EuUVi5vtBq",
        "colab_type": "code",
        "colab": {}
      },
      "source": [
        "period_tags = seven_day.select(\".tombstone-container .period-name\")\n",
        "periods = [pt.get_text() for pt in period_tags]\n",
        "short_descs = [sd.get_text() for sd in seven_day.select(\".tombstone-container .short-desc\")]\n",
        "temps = [t.get_text() for t in seven_day.select(\".tombstone-container .temp\")]\n",
        "descs = [d[\"title\"] for d in seven_day.select(\".tombstone-container img\")]\n",
        "import pandas as pd\n",
        "weather = pd.DataFrame({\n",
        "    \"period\": periods,\n",
        "    \"short_desc\": short_descs,\n",
        "    \"temp\": temps,\n",
        "    \"desc\":descs\n",
        "})\n",
        "weather.to_csv(\"Weather.CSV\")"
      ],
      "execution_count": 0,
      "outputs": []
    },
    {
      "cell_type": "code",
      "metadata": {
        "id": "-thXhs-ev_FJ",
        "colab_type": "code",
        "colab": {}
      },
      "source": [
        ""
      ],
      "execution_count": 0,
      "outputs": []
    }
  ]
}