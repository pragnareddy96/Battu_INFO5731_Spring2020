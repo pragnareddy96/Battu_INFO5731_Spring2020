{
  "nbformat": 4,
  "nbformat_minor": 0,
  "metadata": {
    "colab": {
      "name": "Copy of In_class_exercise_05.ipynb",
      "provenance": [],
      "collapsed_sections": [],
      "include_colab_link": true
    },
    "kernelspec": {
      "name": "python3",
      "display_name": "Python 3"
    }
  },
  "cells": [
    {
      "cell_type": "markdown",
      "metadata": {
        "id": "view-in-github",
        "colab_type": "text"
      },
      "source": [
        "<a href=\"https://colab.research.google.com/github/pragnareddy96/Battu_INFO5731_Spring2020/blob/master/In_class_exercise_05.ipynb\" target=\"_parent\"><img src=\"https://colab.research.google.com/assets/colab-badge.svg\" alt=\"Open In Colab\"/></a>"
      ]
    },
    {
      "cell_type": "markdown",
      "metadata": {
        "id": "z7TahL04sVvR",
        "colab_type": "text"
      },
      "source": [
        "# **The fifth in-class-exercise**"
      ]
    },
    {
      "cell_type": "markdown",
      "metadata": {
        "id": "ejyZITr8sjnh",
        "colab_type": "text"
      },
      "source": [
        "## **1. Rule-based information extraction**\n",
        "\n",
        "Use any keywords related to data science, natural language processing, machine learning to search from google scholar, get the **titles** of 100 articles (either by web scraping or manually) about this topic, define a set of patterns to extract the research questions/problems, methods/algorithms/models, datasets, applications, or any other important information about this topic. "
      ]
    },
    {
      "cell_type": "code",
      "metadata": {
        "id": "XvR_O9D8sOUY",
        "colab_type": "code",
        "colab": {}
      },
      "source": [
        "\n",
        "import urllib\n",
        "from bs4 import BeautifulSoup\n",
        "import requests\n",
        "text = 'nlp'\n",
        "text = urllib.parse.quote_plus(text)\n",
        "\n",
        "url = 'https://scholar.google.com/scholar?q=' + text\n",
        "\n",
        "response = requests.get(url)\n",
        "\n",
        "\n",
        "soup = BeautifulSoup(response.text, 'lxml')\n",
        "\n",
        "#print(response.text)\n",
        "for g in list(soup.find_all(class_='gs_rt'))[:100]:\n",
        "    print(g.text)\n",
        "    print('-----')"
      ],
      "execution_count": 0,
      "outputs": []
    },
    {
      "cell_type": "markdown",
      "metadata": {
        "id": "Dq_7VGmrsum4",
        "colab_type": "text"
      },
      "source": [
        "## **2. Domain-specific information extraction**\n",
        "\n",
        "For the legal case used in the data cleaning exercise: [01-05-1 Adams v Tanner.txt](https://raw.githubusercontent.com/unt-iialab/INFO5731_Spring2020/master/In_class_exercise/01-05-1%20%20Adams%20v%20Tanner.txt), use [legalNLP](https://lexpredict-lexnlp.readthedocs.io/en/latest/modules/extract/extract.html#nlp-based-extraction-methods) to extract the following inforation from the text (if the information is not exist, just print None):\n",
        "\n",
        "(1) acts, e.g., “section 1 of the Advancing Hope Act, 1986”\n",
        "\n",
        "(2) amounts, e.g., “ten pounds” or “5.8 megawatts”\n",
        "\n",
        "(3) citations, e.g., “10 U.S. 100” or “1998 S. Ct. 1”\n",
        "\n",
        "(4) companies, e.g., “Lexpredict LLC”\n",
        "\n",
        "(5) conditions, e.g., “subject to …” or “unless and until …”\n",
        "\n",
        "(6) constraints, e.g., “no more than”\n",
        "\n",
        "(7) copyright, e.g., “(C) Copyright 2000 Acme”\n",
        "\n",
        "(8) courts, e.g., “Supreme Court of New York”\n",
        "\n",
        "(9) CUSIP, e.g., “392690QT3”\n",
        "\n",
        "(10) dates, e.g., “June 1, 2017” or “2018-01-01”\n",
        "\n",
        "(11) definitions, e.g., “Term shall mean …”\n",
        "\n",
        "(12) distances, e.g., “fifteen miles”\n",
        "\n",
        "(13) durations, e.g., “ten years” or “thirty days”\n",
        "\n",
        "(14) geographic and geopolitical entities, e.g., “New York” or “Norway”\n",
        "\n",
        "(15) money and currency usages, e.g., “$5” or “10 Euro”\n",
        "\n",
        "(16) percents and rates, e.g., “10%” or “50 bps”\n",
        "\n",
        "(17) PII, e.g., “212-212-2121” or “999-999-9999”\n",
        "\n",
        "(18) ratios, e.g.,” 3:1” or “four to three”\n",
        "\n",
        "(19) regulations, e.g., “32 CFR 170”\n",
        "\n",
        "(20) trademarks, e.g., “MyApp (TM)”\n",
        "\n",
        "(21) URLs, e.g., “http://acme.com/”\n",
        "\n",
        "(22) addresses, e.g., “1999 Mount Read Blvd, Rochester, NY, USA, 14615”\n",
        "\n",
        "(23) persons, e.g., “John Doe"
      ]
    },
    {
      "cell_type": "code",
      "metadata": {
        "id": "rT4vr2dML2Fu",
        "colab_type": "code",
        "colab": {}
      },
      "source": [
        "#!git clone https://github.com/LexPredict/lexpredict-lexnlp.git\n",
        "#!bash -c 'mv lexpredict-lexnlp/lexnlp .'\n",
        "#!pip install -r lexpredict-lexnlp/python-requirements.txt\n",
        "\n",
        "import requests,os\n",
        "import pandas,urllib.request\n",
        "import nltk\n",
        "import lexnlp.extract.en.entities.nltk_re\n",
        "from lexnlp.extract.en.citations import get_citations, get_citation_annotations\n",
        "import lexnlp.extract.en.acts\n",
        "import lexnlp.extract.en.conditions\n",
        "import lexnlp.extract.en.constraints\n",
        "import lexnlp.extract.en.copyright\n",
        "import lexnlp.extract.en.courts\n",
        "from lexnlp.extract.en.dict_entities import entity_config, add_alias_to_entity\n",
        "from lexnlp.extract.en.cusip import get_cusip_list\n",
        "import lexnlp.extract.en.dates\n",
        "import lexnlp.extract.en.definitions\n",
        "import lexnlp.extract.en.distances\n",
        "from lexnlp.extract.en.geoentities import get_geoentities, load_entities_dict_by_path\n",
        "import lexnlp.extract.en.money\n",
        "import lexnlp.extract.en.percents\n",
        "import lexnlp.extract.en.pii\n",
        "import lexnlp.extract.en.ratios\n",
        "import lexnlp.extract.en.regulations\n",
        "import lexnlp.extract.en.trademarks\n",
        "import lexnlp.extract.en.urls\n",
        "import requests\n",
        "from lexnlp.extract.en.dates import get_dates\n",
        "nltk.download('punkt')\n",
        "nltk.download('averaged_perceptron_tagger')\n",
        "nltk.download('wordnet')\n",
        "link = \"https://raw.githubusercontent.com/unt-iialab/INFO5731_Spring2020/master/In_class_exercise/01-05-1%20%20Adams%20v%20Tanner.txt\"\n",
        "text1 = requests.get(link) \n",
        "text2 = text1.text \n",
        "\n"
      ],
      "execution_count": 0,
      "outputs": []
    },
    {
      "cell_type": "code",
      "metadata": {
        "id": "kB3j3xaqNrZb",
        "colab_type": "code",
        "colab": {
          "base_uri": "https://localhost:8080/",
          "height": 306
        },
        "outputId": "2a0217d2-c711-4876-a224-ee772e5b7a28"
      },
      "source": [
        "list(lexnlp.extract.en.dates.get_dates(text2))"
      ],
      "execution_count": 10,
      "outputs": [
        {
          "output_type": "execute_result",
          "data": {
            "text/plain": [
              "[datetime.date(2020, 6, 1),\n",
              " datetime.date(1840, 11, 1),\n",
              " datetime.date(1839, 10, 1),\n",
              " datetime.date(1840, 5, 1),\n",
              " datetime.date(1840, 9, 1),\n",
              " datetime.date(1840, 5, 1),\n",
              " datetime.date(1840, 5, 1),\n",
              " datetime.date(2020, 12, 1),\n",
              " datetime.date(2020, 12, 1),\n",
              " datetime.date(2020, 1, 1),\n",
              " datetime.date(2020, 1, 1),\n",
              " datetime.date(2020, 1, 1),\n",
              " datetime.date(2020, 3, 21),\n",
              " datetime.date(2020, 6, 1),\n",
              " datetime.date(2020, 7, 1),\n",
              " datetime.date(2020, 11, 1),\n",
              " datetime.date(1887, 5, 1)]"
            ]
          },
          "metadata": {
            "tags": []
          },
          "execution_count": 10
        }
      ]
    },
    {
      "cell_type": "code",
      "metadata": {
        "id": "fXtA7tyMc9vv",
        "colab_type": "code",
        "outputId": "3ff2dfd6-1357-485f-f99b-f657d36a48c2",
        "colab": {
          "base_uri": "https://localhost:8080/",
          "height": 255
        }
      },
      "source": [
        "from lexnlp.extract.en.citations import get_citations\n",
        "\n",
        "list(lexnlp.extract.en.citations.get_citations(text2))"
      ],
      "execution_count": 11,
      "outputs": [
        {
          "output_type": "execute_result",
          "data": {
            "text/plain": [
              "[(5, 'Ala.', 'Alabama Reports', 740, None, None, None),\n",
              " (5, 'Ala.', 'Alabama Reports', 740, '1843', None, None),\n",
              " (55, 'Ala.', 'Alabama Reports', 266, '271', None, None),\n",
              " (47, 'Ala.', 'Alabama Reports', 362, '376', None, None),\n",
              " (45, 'Ala.', 'Alabama Reports', 329, '334', None, None),\n",
              " (31, 'Ala.', 'Alabama Reports', 526, '527', None, None),\n",
              " (21, 'Ala.', 'Alabama Reports', 333, '335', None, None),\n",
              " (8, 'Cal.', 'California Reports', 145, '147', None, None),\n",
              " (65, 'Ala.', 'Alabama Reports', 256, '258', None, None),\n",
              " (4, 'S.W.', 'South Western Reporter', 913, '914', None, None),\n",
              " (103, 'A.L.R.', 'American Law Reports', 464, None, None, None),\n",
              " (9, 'Cow.', \"Cowen's Reports\", 39, None, None, None),\n",
              " (5, 'Port.', 'Alabama Reports, Porter', 182, None, None, None),\n",
              " (9, 'Johns.', \"Johnson's Reports\", 108, None, None, None)]"
            ]
          },
          "metadata": {
            "tags": []
          },
          "execution_count": 11
        }
      ]
    },
    {
      "cell_type": "code",
      "metadata": {
        "id": "EaVOfJVDQWSV",
        "colab_type": "code",
        "colab": {
          "base_uri": "https://localhost:8080/",
          "height": 34
        },
        "outputId": "7c7576d7-af03-4d0d-83fc-2ad46fb778b6"
      },
      "source": [
        "print(list(lexnlp.extract.en.copyright.get_copyright(text2)))"
      ],
      "execution_count": 25,
      "outputs": [
        {
          "output_type": "stream",
          "text": [
            "[('©', '2019', 'Thomson Reuters. No')]\n"
          ],
          "name": "stdout"
        }
      ]
    },
    {
      "cell_type": "code",
      "metadata": {
        "id": "eTLsFNPCQgBq",
        "colab_type": "code",
        "colab": {
          "base_uri": "https://localhost:8080/",
          "height": 34
        },
        "outputId": "3abb6c37-3f6c-4b04-83a3-034b4faf996f"
      },
      "source": [
        "print(list(lexnlp.extract.en.entities.nltk_re.get_companies(text2)))"
      ],
      "execution_count": 26,
      "outputs": [
        {
          "output_type": "stream",
          "text": [
            "[Lehman, Durr Co, (18055, 18073)]\n"
          ],
          "name": "stdout"
        }
      ]
    },
    {
      "cell_type": "code",
      "metadata": {
        "id": "2ko24V4TRBl0",
        "colab_type": "code",
        "colab": {
          "base_uri": "https://localhost:8080/",
          "height": 71
        },
        "outputId": "f675a88f-7b29-42ef-8d79-baca472124e8"
      },
      "source": [
        "court_df = pandas.read_csv(\"https://raw.githubusercontent.com/LexPredict/lexpredict-legal-dictionary/1.0.5/en/legal/us_courts.csv\")\n",
        "# Create config objects\n",
        "court_config_data = []\n",
        "for _, row in court_df.iterrows():\n",
        "    c = entity_config(row[\"Court ID\"], row[\"Court Name\"], 0, row[\"Alias\"].split(\";\") if not pandas.isnull(row[\"Alias\"]) else [])\n",
        "    court_config_data.append(c)\n",
        "for entity, alias in lexnlp.extract.en.courts.get_courts(text2, court_config_data):\n",
        "    print(\"entity=\", entity)\n",
        "    print(\"alias=\", alias)\n",
        "entity= (98, 'Eastern District of Virginia', 0, [('Eastern District of Virginia', None, False, None), ('E.D. Va.', None, False, None)])\n",
        "alias= ('E.D. Va.', None, False, None)\n",
        "entity= (70, 'Southern District of New York', 0, [('Southern District of New York', None, False, None), ('S.D.N.Y.', None, False, None)])\n",
        "alias= ('S.D.N.Y.', None, False, None)"
      ],
      "execution_count": 28,
      "outputs": [
        {
          "output_type": "stream",
          "text": [
            "entity= (1, 'United States Supreme Court', 0, [('United States Supreme Court', None, False, None, ' united states supreme court '), ('Supreme Court', None, False, None, ' supreme court '), (' SCOTUS', None, False, None, ' scotus ')])\n",
            "alias= ('Supreme Court', None, False, None, ' supreme court ')\n"
          ],
          "name": "stdout"
        }
      ]
    },
    {
      "cell_type": "code",
      "metadata": {
        "id": "ONG7INQQePSO",
        "colab_type": "code",
        "outputId": "d16b82cd-593e-4a52-f1a3-0429e4de0d06",
        "colab": {
          "base_uri": "https://localhost:8080/",
          "height": 34
        }
      },
      "source": [
        "from lexnlp.extract.en.durations import get_durations\n",
        "\n",
        "list(lexnlp.extract.en.durations.get_durations(text2))"
      ],
      "execution_count": 12,
      "outputs": [
        {
          "output_type": "execute_result",
          "data": {
            "text/plain": [
              "[('second', 20.0, 0.00023148148148148146), ('year', 6.0, 2190.0)]"
            ]
          },
          "metadata": {
            "tags": []
          },
          "execution_count": 12
        }
      ]
    },
    {
      "cell_type": "code",
      "metadata": {
        "id": "XI5gRJove_RC",
        "colab_type": "code",
        "outputId": "948e59d0-8fe9-4c10-e703-7e4e9afe7383",
        "colab": {
          "base_uri": "https://localhost:8080/",
          "height": 34
        }
      },
      "source": [
        "from lexnlp.extract.en.money import get_money\n",
        "\n",
        "\n",
        "list(lexnlp.extract.en.money.get_money(text2))"
      ],
      "execution_count": 13,
      "outputs": [
        {
          "output_type": "execute_result",
          "data": {
            "text/plain": [
              "[(100.0, 'USD'), (14000, 'USD'), (14000, 'USD')]"
            ]
          },
          "metadata": {
            "tags": []
          },
          "execution_count": 13
        }
      ]
    },
    {
      "cell_type": "code",
      "metadata": {
        "id": "OO3PVWtJitDj",
        "colab_type": "code",
        "outputId": "5d361e28-f72c-4999-a9cf-96c8a6dc0486",
        "colab": {
          "base_uri": "https://localhost:8080/",
          "height": 54
        }
      },
      "source": [
        "from lexnlp.extract.en.constraints import get_constraints\n",
        "constraints = list(get_constraints(text2))\n",
        "print(list(lexnlp.extract.en.constraints.get_constraints(text2)))"
      ],
      "execution_count": 32,
      "outputs": [
        {
          "output_type": "stream",
          "text": [
            "[('after', 'on a growing crop, nor does such lien attach until', ''), ('after', '', ' and that alias and pluries fieri facias’, issued regularly up to the time levy was made; that the cotton levied on was growed on the plantation of harrison, and cultivated by the hands in his service.'), ('first of', 'the claimants came from tennessee, (where they resided) about the', ''), ('first of', 'the court charged the jury, that the plaintiff had no lien by virtue of his judgment, and execution on the growing crop; that harrison had a right to convey it, without being in any manner restrained by them; that the writing adduced, was a sale of the crop, but if it was not, and the lien of the fieri facias would have attached upon it, when gathered, yet if the claimants obtained possession on the', ''), ('after', 'it merely inhibits the levy, but the lien attaches, and a levy and sale may be made', ''), ('more than', 'taking this to be clear *744 law, and it will be seen, that the defendant in execution at the time of the levy had nothing', ''), ('before', 'it has been frequently mooted whether, at common law, corn, &c.,', ''), ('before', '**4 the statute which presents the question', ''), ('after', 'now, if the view taken by the majority of the court, is correct, the right secured to the plaintiff in execution, of levying on the crop', ''), ('before', 'tried', ''), ('before', 'tried', ''), ('before', 'tried', ''), ('before', 'tried', ''), ('before', 'tried', ''), ('before', 'tried', '')]\n"
          ],
          "name": "stdout"
        }
      ]
    },
    {
      "cell_type": "code",
      "metadata": {
        "id": "fs2zs5yLkugU",
        "colab_type": "code",
        "outputId": "94ff9e55-1edf-4d53-f3a5-86e2863ff45f",
        "colab": {
          "base_uri": "https://localhost:8080/",
          "height": 34
        }
      },
      "source": [
        "from lexnlp.extract.en.percents import get_percents\n",
        "\n",
        "list(lexnlp.extract.en.percents.get_percents(text2))\n",
        "#print('none')"
      ],
      "execution_count": 15,
      "outputs": [
        {
          "output_type": "execute_result",
          "data": {
            "text/plain": [
              "[]"
            ]
          },
          "metadata": {
            "tags": []
          },
          "execution_count": 15
        }
      ]
    },
    {
      "cell_type": "code",
      "metadata": {
        "id": "CVYg-yylmCwx",
        "colab_type": "code",
        "outputId": "071fcde1-f69d-4761-8046-289b5a557119",
        "colab": {
          "base_uri": "https://localhost:8080/",
          "height": 34
        }
      },
      "source": [
        "from lexnlp.extract.en.urls import get_urls\n",
        "\n",
        "list(lexnlp.extract.en.urls.get_urls(text2))\n",
        "#print('none')"
      ],
      "execution_count": 16,
      "outputs": [
        {
          "output_type": "execute_result",
          "data": {
            "text/plain": [
              "[]"
            ]
          },
          "metadata": {
            "tags": []
          },
          "execution_count": 16
        }
      ]
    },
    {
      "cell_type": "code",
      "metadata": {
        "id": "X6DNnYjZmMTI",
        "colab_type": "code",
        "outputId": "6ef52ebc-73b1-4173-913f-8abdfe67c4de",
        "colab": {
          "base_uri": "https://localhost:8080/",
          "height": 34
        }
      },
      "source": [
        "from lexnlp.extract.en.pii import get_pii\n",
        "\n",
        "list(lexnlp.extract.en.pii.get_pii(text2))\n",
        "#print('none')"
      ],
      "execution_count": 21,
      "outputs": [
        {
          "output_type": "stream",
          "text": [
            "none\n"
          ],
          "name": "stdout"
        }
      ]
    },
    {
      "cell_type": "code",
      "metadata": {
        "id": "r0Bi2n2SmjmJ",
        "colab_type": "code",
        "colab": {
          "base_uri": "https://localhost:8080/",
          "height": 1000
        },
        "outputId": "8d4595a6-d892-4404-9aa4-db0e72018517"
      },
      "source": [
        "from lexnlp.extract.en.conditions import get_conditions\n",
        "\n",
        "list(lexnlp.extract.en.conditions.get_conditions(text2))"
      ],
      "execution_count": 18,
      "outputs": [
        {
          "output_type": "execute_result",
          "data": {
            "text/plain": [
              "[('until',\n",
              "  '[2]\\r\\nCreditors’ Remedies\\r\\nLien and Priority\\r\\nUnder St.1821, prohibiting a levy on a crop',\n",
              "  ''),\n",
              " ('until', 'on a growing crop, nor does such lien attach', ''),\n",
              " ('if',\n",
              "  'It was proved by the claimants, by the production of a written contract, that Harrison, on the twenty-second of May, 1840, in consideration that the claimants were involved, as indorsers for Burton & Harrison of Sumter county, and were then exposed to an execution, amounting to upwards of fourteen thousand dollars, bargained and sold to the claimants all his growing crop of cotton &c., consisting of one hundred and twenty acres, &c. Allen Harrison promised and obliged himself to give up his crop to the use of the claimants at any time to save them from suffering as his indorsers;',\n",
              "  ''),\n",
              " ('when',\n",
              "  'The claimants came from Tennessee, (where they resided) about the first of September, 1840, bringing with them three or four white laborers, and took possession of the crop and slaves, and with the latter, and white laborers, gathered the cotton, prepared it for market, and',\n",
              "  ''),\n",
              " ('if',\n",
              "  'The court charged the jury, that the plaintiff had no lien by virtue of his judgment, and execution on the growing crop; that Harrison had a right to convey it, without being in any manner restrained by them; that the writing adduced, was a sale of the crop, but',\n",
              "  ''),\n",
              " ('when',\n",
              "  'it was not, and the lien of the fieri facias would have attached upon it,',\n",
              "  ''),\n",
              " ('if', 'gathered, yet', ''),\n",
              " ('not subject to',\n",
              "  'the claimants obtained possession on the first of September, and controlled the gathering of the crop, then no lien attached, and it was',\n",
              "  ''),\n",
              " ('until', 'Rep, 693;] and', ''),\n",
              " ('until',\n",
              "  '167,] which declares it to be lawful to levy an execution on a planted crop,',\n",
              "  ''),\n",
              " ('if',\n",
              "  'It is admitted that the contract between the defendant in execution, and the claimants, was in good faith,',\n",
              "  ''),\n",
              " ('when',\n",
              "  'The defendant in execution might at any time have divested the interest which the contract vested in the claimants, by discharging their liability as his indorsers, or a judgment creditor might have satisfied the lien, and',\n",
              "  ''),\n",
              " ('unless',\n",
              "  'We will then consider the writing under which the claimants assert a right, as a mortgage with a power to take possession any time during the year,',\n",
              "  ''),\n",
              " ('if',\n",
              "  'Conceding the truth of the facts stated in the bill of exceptions, and we think it will not follow, that the possession of the claimants is a nullity, and that the case must be considered as',\n",
              "  ''),\n",
              " ('if',\n",
              "  'The contract contains an express undertaking to give up the crop at any time the claimants might require it for their indemnity, and',\n",
              "  ''),\n",
              " ('if',\n",
              "  'they took possession of it in the absence of the grantor, (though without his consent,)',\n",
              "  ''),\n",
              " ('if', 'he subsequently acquiesced in it, the inference would be,', ''),\n",
              " ('subject to',\n",
              "  'Mr. Dane, in remarking upon this point, says, “The American editor of Bacon’s Abridgment, says, ‘Wheat growing in the ground is a chattel, and',\n",
              "  ''),\n",
              " ('until',\n",
              "  'The first section of the act of 1821, “To prevent sheriffs and other officers from levying executions in certain cases, enacts, that “It shall not be lawful for any sheriff or other officer, to levy a writ of fieri facias or other execution on the planted crop of a debtor, or person against whom an execution may issue,',\n",
              "  ''),\n",
              " ('until',\n",
              "  'Now here is an express inhibition to levy an execution on a crop while it remains on, or in the ground, and',\n",
              "  ''),\n",
              " ('until',\n",
              "  'If so, the act cited, will only have the effect of keeping the right to levy it in abeyance',\n",
              "  ''),\n",
              " ('if', 'The lien and the right to levy are intimately connected, and', ''),\n",
              " ('until',\n",
              "  'That it was competent for the legislature to have made it unlawful to levy an execution on particular property,',\n",
              "  ''),\n",
              " ('until', 'If the object was merely to suspend the sale,', ''),\n",
              " ('as soon as', 'The idea that the lien attached upon the planted crop', ''),\n",
              " ('until',\n",
              "  'the execution was delivered to the sheriff, though the right to levy it was postponed',\n",
              "  ''),\n",
              " ('if', 'They do not refer to the lien,', ''),\n",
              " ('until', 'they did they would postpone it', ''),\n",
              " ('until',\n",
              "  'the crop was gathered; but it is the levy they relate to and postpone',\n",
              "  ''),\n",
              " ('until',\n",
              "  '**4 The right to levy an execution on a planted crop, then, being expressly taken away by the statute, the lien which is connected with and consequent upon that right, never attaches',\n",
              "  ''),\n",
              " ('if',\n",
              "  'The circuit judge may have mistaken the law in supposing that the contract was a sale, but',\n",
              "  ''),\n",
              " ('when',\n",
              "  'There is no assumption of any material fact in the charge; but the possession of the claimant, the time',\n",
              "  ''),\n",
              " ('if',\n",
              "  'acquired, the gathering of the crop, &c., are all referred to the determination of the jury; who are instructed,',\n",
              "  ''),\n",
              " ('until',\n",
              "  '**4 The statute which presents the question before the court is, that “it shall not be lawful for any sheriff or other officer to levy a writ of fieei facias or other execution, on the planted crop of a debtor, or person against whom an execution may issue,',\n",
              "  ''),\n",
              " ('subject to',\n",
              "  'The policy of the State, as indicated by these statutes, is undeniably that all the property of a debtor, real and personal, to which he has a legal title, shall be',\n",
              "  ''),\n",
              " ('until',\n",
              "  'The mischief which the statute designed to remedy was, the sacrifice which would be necessarily made by the sale of an immature crop: the statute enables the debtor to retain it',\n",
              "  ''),\n",
              " ('if', '**5', ''),\n",
              " ('until', 'The sheriff is forbidden to levy on a “planted crop”', ''),\n",
              " ('if', 'Now,', ''),\n",
              " ('until',\n",
              "  'This, I feel a thorough conviction, was not the intention of the legislature; but that it was to secure him from loss, by prohibiting a levy and sale of the crop,',\n",
              "  ''),\n",
              " ('when', 'it was gathered,', ''),\n",
              " ('subject to', 'Growing crops as', ''),\n",
              " ('subject to',\n",
              "  '464\\r\\nGenerally, at common law, growing crops raised by annual planting, while still attached to the soil, are regarded as personal chattels,',\n",
              "  ''),\n",
              " ('where', 'And', '')]"
            ]
          },
          "metadata": {
            "tags": []
          },
          "execution_count": 18
        }
      ]
    },
    {
      "cell_type": "code",
      "metadata": {
        "id": "v4GnH2sGqWBh",
        "colab_type": "code",
        "outputId": "8a8be1a5-60f2-4721-f7ed-2a891377a3fd",
        "colab": {
          "base_uri": "https://localhost:8080/",
          "height": 34
        }
      },
      "source": [
        "from lexnlp.extract.en.acts import get_acts\n",
        "\n",
        "list(lexnlp.extract.en.acts.get_acts(text2))"
      ],
      "execution_count": 19,
      "outputs": [
        {
          "output_type": "execute_result",
          "data": {
            "text/plain": [
              "[]"
            ]
          },
          "metadata": {
            "tags": []
          },
          "execution_count": 19
        }
      ]
    },
    {
      "cell_type": "code",
      "metadata": {
        "id": "Vvd1AyIZqnnH",
        "colab_type": "code",
        "outputId": "b20ad906-f72f-4df9-fd40-c976096cf466",
        "colab": {
          "base_uri": "https://localhost:8080/",
          "height": 34
        }
      },
      "source": [
        "from lexnlp.extract.en.cusip import get_cusip\n",
        "\n",
        "list(lexnlp.extract.en.cusip.get_cusip(text2))\n",
        "print(\"none\")"
      ],
      "execution_count": 20,
      "outputs": [
        {
          "output_type": "stream",
          "text": [
            "none\n"
          ],
          "name": "stdout"
        }
      ]
    },
    {
      "cell_type": "code",
      "metadata": {
        "id": "ic1jraYHrw17",
        "colab_type": "code",
        "outputId": "200f1916-bfce-4472-c25c-0bbfd6c2ec9c",
        "colab": {
          "base_uri": "https://localhost:8080/",
          "height": 34
        }
      },
      "source": [
        "from lexnlp.extract.en.definitions import get_definitions\n",
        "\n",
        "list(lexnlp.extract.en.definitions.get_definitions(text2))\n",
        "#print('none')"
      ],
      "execution_count": 0,
      "outputs": [
        {
          "output_type": "execute_result",
          "data": {
            "text/plain": [
              "[]"
            ]
          },
          "metadata": {
            "tags": []
          },
          "execution_count": 63
        }
      ]
    },
    {
      "cell_type": "code",
      "metadata": {
        "id": "Wxnr1w14sSm7",
        "colab_type": "code",
        "outputId": "92d5736c-bcab-4e46-ef53-84901b8bae3c",
        "colab": {
          "base_uri": "https://localhost:8080/",
          "height": 34
        }
      },
      "source": [
        "from lexnlp.extract.en.distances import get_distances\n",
        "\n",
        "list(lexnlp.extract.en.distances.get_distances(text2))\n",
        "#print('none')"
      ],
      "execution_count": 0,
      "outputs": [
        {
          "output_type": "execute_result",
          "data": {
            "text/plain": [
              "[]"
            ]
          },
          "metadata": {
            "tags": []
          },
          "execution_count": 64
        }
      ]
    },
    {
      "cell_type": "code",
      "metadata": {
        "id": "NKk1IQ-jt-wi",
        "colab_type": "code",
        "outputId": "4308f99c-f587-4ed7-f1bc-c95f22c8ff0a",
        "colab": {
          "base_uri": "https://localhost:8080/",
          "height": 34
        }
      },
      "source": [
        "from lexnlp.extract.en.percents import get_percents\n",
        "\n",
        "list(lexnlp.extract.en.percents.get_percents(text2))\n",
        "#print('none')"
      ],
      "execution_count": 0,
      "outputs": [
        {
          "output_type": "execute_result",
          "data": {
            "text/plain": [
              "[]"
            ]
          },
          "metadata": {
            "tags": []
          },
          "execution_count": 71
        }
      ]
    },
    {
      "cell_type": "code",
      "metadata": {
        "id": "prZJTDMIuaMp",
        "colab_type": "code",
        "outputId": "9c1c5b45-a57b-4ca7-f278-0242250c08fd",
        "colab": {
          "base_uri": "https://localhost:8080/",
          "height": 34
        }
      },
      "source": [
        "from lexnlp.extract.en.ratios import get_ratios\n",
        "\n",
        "list(lexnlp.extract.en.ratios.get_ratios(text2))\n",
        "#print('none')"
      ],
      "execution_count": 0,
      "outputs": [
        {
          "output_type": "execute_result",
          "data": {
            "text/plain": [
              "[]"
            ]
          },
          "metadata": {
            "tags": []
          },
          "execution_count": 72
        }
      ]
    },
    {
      "cell_type": "code",
      "metadata": {
        "id": "duozFbqKukJ8",
        "colab_type": "code",
        "outputId": "59f410bc-af33-4820-e1e5-d9ea2ebfcdfc",
        "colab": {
          "base_uri": "https://localhost:8080/",
          "height": 34
        }
      },
      "source": [
        "from lexnlp.extract.en.regulations import get_regulations\n",
        "\n",
        "list(lexnlp.extract.en.regulations.get_regulations(text2))\n",
        "#print('none')"
      ],
      "execution_count": 0,
      "outputs": [
        {
          "output_type": "execute_result",
          "data": {
            "text/plain": [
              "[]"
            ]
          },
          "metadata": {
            "tags": []
          },
          "execution_count": 73
        }
      ]
    },
    {
      "cell_type": "code",
      "metadata": {
        "id": "p0bi2KAEuwa7",
        "colab_type": "code",
        "outputId": "038278cc-3f63-4ef9-f74b-9b70c11f79df",
        "colab": {
          "base_uri": "https://localhost:8080/",
          "height": 34
        }
      },
      "source": [
        "from lexnlp.extract.en.trademarks import get_trademarks\n",
        "\n",
        "list(lexnlp.extract.en.trademarks.get_trademarks(text2))\n",
        "#print('none')"
      ],
      "execution_count": 0,
      "outputs": [
        {
          "output_type": "execute_result",
          "data": {
            "text/plain": [
              "[]"
            ]
          },
          "metadata": {
            "tags": []
          },
          "execution_count": 74
        }
      ]
    },
    {
      "cell_type": "code",
      "metadata": {
        "id": "Ulr9BOeSu8pj",
        "colab_type": "code",
        "outputId": "3d81d84c-f0a7-4f43-ed11-c0b2ab28e605",
        "colab": {
          "base_uri": "https://localhost:8080/",
          "height": 34
        }
      },
      "source": [
        "from lexnlp.extract.en.urls import get_urls\n",
        "\n",
        "list(lexnlp.extract.en.urls.get_urls(text2))\n",
        "#print('none')"
      ],
      "execution_count": 0,
      "outputs": [
        {
          "output_type": "execute_result",
          "data": {
            "text/plain": [
              "[]"
            ]
          },
          "metadata": {
            "tags": []
          },
          "execution_count": 75
        }
      ]
    },
    {
      "cell_type": "code",
      "metadata": {
        "id": "VntRUFhhvRuG",
        "colab_type": "code",
        "colab": {
          "base_uri": "https://localhost:8080/",
          "height": 54
        },
        "outputId": "1a5c152f-75d8-4a95-bc11-f6c760c8a90f"
      },
      "source": [
        "print(list(lexnlp.extract.en.amounts.get_amounts(text2)))"
      ],
      "execution_count": 23,
      "outputs": [
        {
          "output_type": "stream",
          "text": [
            "[5.0, 740.0, 1843.0, 2.0, 1.0, 4.0, 2.0, 1821.0, 5.0, 1.0, 1840.0, 3777, 80.0, 100.0, 30, 1839.0, 741.0, 22, 1840.0, 14000, 120, 1, 1840.0, 3, 4, 1, 1.0, 1840.0, 2.0, 1.0, 361.0, 1.0, 307.0, 6.0, 604.0, 1.0, 2.0, 418.0, 422.0, 7.0, 34.0, 41.0, 167.0, 742.0, 3.0, 112.0, 207.0, 3.0, 338.0, 424.0, 5.0, 26.0, 13.0, 235.0, 8.0, 693.0, 4.0, 1821.0, 167.0, 2.0, 2.0, 216.0, 3.0, 66.0, 4.0, 130.0, 29.0, 2.0, 241.0, 2.0, 332.0, 2.0, 422.0, 9.0, 112.0, 743.0, 9.0, 39.0, 14000, 1840.0, 744.0, 5.0, 182.0, 3.0, 368.0, 1.0, 397.0, 6.0, 604.0, 1, 1821.0, 167.0, 745.0, 4.0, 746.0, 4.0, 210.0, 46.0, 747.0, 5.0, 5.0, 740.0, 1843.0, 284.0, 2019.0, 9.0, 1.0, 55.0, 266.0, 271.0, 1876.0, 2.0, 47.0, 362.0, 376.0, 1872.0, 3.0, 45.0, 329.0, 334.0, 1871.0, 4.0, 31.0, 526.0, 527.0, 1858.0, 5.0, 21.0, 333.0, 335.0, 1852.0, 6.0, 8.0, 145.0, 147.0, 1857.0, 7.0, 65.0, 256.0, 258.0, 3, 1880.0, 8.0, 4.0, 913.0, 914.0, 1887.0, 9.0, 103.0, 464.0, 1936.0, 3.0, 1.0, 9.0, 39.0, 1828.0, 2.0, 2.0, 5.0, 182.0, 1837.0, 2.0, 3.0, 9.0, 108.0, 1812.0, 6, 1, 2.0]\n"
          ],
          "name": "stdout"
        }
      ]
    }
  ]
}